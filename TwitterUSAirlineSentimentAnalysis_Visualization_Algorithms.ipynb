{
 "cells": [
  {
   "cell_type": "raw",
   "metadata": {},
   "source": [
    "Twitter US Airline Sentiment \n",
    "\n",
    "Given Twitter US Airline Sentiment Dataset, which contains data for over 14000 tweets, your task is to predict the sentiment of the tweet i.e. positive, negative or neutral.\n",
    "You are given:\n",
    "\n",
    "1. A Training dataset csv file with X train and Y train data\n",
    "2. A X test File and you have to predict and submit predictions for this file."
   ]
  },
  {
   "cell_type": "markdown",
   "metadata": {},
   "source": [
    "# Import all required modules"
   ]
  },
  {
   "cell_type": "code",
   "execution_count": 1,
   "metadata": {},
   "outputs": [],
   "source": [
    "import pandas as pd\n",
    "import matplotlib.pyplot as plt\n",
    "import numpy as np"
   ]
  },
  {
   "cell_type": "markdown",
   "metadata": {},
   "source": [
    "# Import the Training and Testing csv file"
   ]
  },
  {
   "cell_type": "code",
   "execution_count": 2,
   "metadata": {},
   "outputs": [],
   "source": [
    "training_data = pd.read_csv('twitter_x_y_train.csv')\n",
    "testing_data = pd.read_csv('twitter_x_test.csv')"
   ]
  },
  {
   "cell_type": "markdown",
   "metadata": {},
   "source": [
    "# Shape of Traning and Testing data"
   ]
  },
  {
   "cell_type": "code",
   "execution_count": 3,
   "metadata": {
    "tags": []
   },
   "outputs": [
    {
     "output_type": "stream",
     "name": "stdout",
     "text": "(10980, 12)\n(3660, 11)\n"
    }
   ],
   "source": [
    "print(training_data.shape)\n",
    "print(testing_data.shape)"
   ]
  },
  {
   "cell_type": "markdown",
   "metadata": {},
   "source": [
    "# Look the first 5 records of training_data"
   ]
  },
  {
   "cell_type": "code",
   "execution_count": 4,
   "metadata": {},
   "outputs": [
    {
     "output_type": "execute_result",
     "data": {
      "text/plain": "                 tweet_id airline_sentiment     airline  \\\n10975  569934458364813313           neutral    American   \n10976  568564006329434113          positive      United   \n10977  569643648910028801          negative  US Airways   \n10978  568864981917110272          negative  US Airways   \n10979  568929299350179840          negative      United   \n\n      airline_sentiment_gold           name negativereason_gold  \\\n10975                    NaN  Cottopanama85                 NaN   \n10976                    NaN   PaulBEsteves                 NaN   \n10977                    NaN    runfixsteve                 NaN   \n10978                    NaN     CLChicosky                 NaN   \n10979                    NaN     JW_Blocker                 NaN   \n\n       retweet_count                                               text  \\\n10975              0                            @AmericanAir followback   \n10976              0  @united thanks for the help. Wish the phone re...   \n10977              0  @usairways the. Worst. Ever. #dca #customerser...   \n10978              0  @nrhodes85: look! Another apology. DO NOT FLY ...   \n10979              1  @united you are by far the worst airline. 4 pl...   \n\n      tweet_coord              tweet_created          tweet_location  \\\n10975         NaN  2015-02-23 10:58:58 -0800             ohio,panama   \n10976         NaN  2015-02-19 16:13:17 -0800                Brooklyn   \n10977         NaN  2015-02-22 15:43:24 -0800  St. Augustine, Florida   \n10978         NaN  2015-02-20 12:09:15 -0800                     NaN   \n10979         NaN  2015-02-20 16:24:49 -0800                     NaN   \n\n                    user_timezone  \n10975                         NaN  \n10976  Eastern Time (US & Canada)  \n10977                         NaN  \n10978                         NaN  \n10979                         NaN  ",
      "text/html": "<div>\n<style scoped>\n    .dataframe tbody tr th:only-of-type {\n        vertical-align: middle;\n    }\n\n    .dataframe tbody tr th {\n        vertical-align: top;\n    }\n\n    .dataframe thead th {\n        text-align: right;\n    }\n</style>\n<table border=\"1\" class=\"dataframe\">\n  <thead>\n    <tr style=\"text-align: right;\">\n      <th></th>\n      <th>tweet_id</th>\n      <th>airline_sentiment</th>\n      <th>airline</th>\n      <th>airline_sentiment_gold</th>\n      <th>name</th>\n      <th>negativereason_gold</th>\n      <th>retweet_count</th>\n      <th>text</th>\n      <th>tweet_coord</th>\n      <th>tweet_created</th>\n      <th>tweet_location</th>\n      <th>user_timezone</th>\n    </tr>\n  </thead>\n  <tbody>\n    <tr>\n      <th>10975</th>\n      <td>569934458364813313</td>\n      <td>neutral</td>\n      <td>American</td>\n      <td>NaN</td>\n      <td>Cottopanama85</td>\n      <td>NaN</td>\n      <td>0</td>\n      <td>@AmericanAir followback</td>\n      <td>NaN</td>\n      <td>2015-02-23 10:58:58 -0800</td>\n      <td>ohio,panama</td>\n      <td>NaN</td>\n    </tr>\n    <tr>\n      <th>10976</th>\n      <td>568564006329434113</td>\n      <td>positive</td>\n      <td>United</td>\n      <td>NaN</td>\n      <td>PaulBEsteves</td>\n      <td>NaN</td>\n      <td>0</td>\n      <td>@united thanks for the help. Wish the phone re...</td>\n      <td>NaN</td>\n      <td>2015-02-19 16:13:17 -0800</td>\n      <td>Brooklyn</td>\n      <td>Eastern Time (US &amp; Canada)</td>\n    </tr>\n    <tr>\n      <th>10977</th>\n      <td>569643648910028801</td>\n      <td>negative</td>\n      <td>US Airways</td>\n      <td>NaN</td>\n      <td>runfixsteve</td>\n      <td>NaN</td>\n      <td>0</td>\n      <td>@usairways the. Worst. Ever. #dca #customerser...</td>\n      <td>NaN</td>\n      <td>2015-02-22 15:43:24 -0800</td>\n      <td>St. Augustine, Florida</td>\n      <td>NaN</td>\n    </tr>\n    <tr>\n      <th>10978</th>\n      <td>568864981917110272</td>\n      <td>negative</td>\n      <td>US Airways</td>\n      <td>NaN</td>\n      <td>CLChicosky</td>\n      <td>NaN</td>\n      <td>0</td>\n      <td>@nrhodes85: look! Another apology. DO NOT FLY ...</td>\n      <td>NaN</td>\n      <td>2015-02-20 12:09:15 -0800</td>\n      <td>NaN</td>\n      <td>NaN</td>\n    </tr>\n    <tr>\n      <th>10979</th>\n      <td>568929299350179840</td>\n      <td>negative</td>\n      <td>United</td>\n      <td>NaN</td>\n      <td>JW_Blocker</td>\n      <td>NaN</td>\n      <td>1</td>\n      <td>@united you are by far the worst airline. 4 pl...</td>\n      <td>NaN</td>\n      <td>2015-02-20 16:24:49 -0800</td>\n      <td>NaN</td>\n      <td>NaN</td>\n    </tr>\n  </tbody>\n</table>\n</div>"
     },
     "metadata": {},
     "execution_count": 4
    }
   ],
   "source": [
    "training_data.tail(5)"
   ]
  },
  {
   "cell_type": "code",
   "execution_count": 5,
   "metadata": {},
   "outputs": [],
   "source": [
    "# Looks at first 5 rows of testing data"
   ]
  },
  {
   "cell_type": "code",
   "execution_count": 6,
   "metadata": {},
   "outputs": [
    {
     "output_type": "execute_result",
     "data": {
      "text/plain": "             tweet_id     airline airline_sentiment_gold          name  \\\n0  569682010270101504    American                    NaN      zsalim03   \n1  569608307184242688    American                    NaN      sa_craig   \n2  567879304593408001   Southwest                    NaN  DanaChristos   \n3  569757651539660801  US Airways                    NaN      rossj987   \n4  569900705852608513    American                    NaN    tranpham18   \n\n  negativereason_gold  retweet_count  \\\n0                 NaN              0   \n1                 NaN              0   \n2                 NaN              1   \n3                 NaN              0   \n4                 NaN              0   \n\n                                                text tweet_coord  \\\n0  @AmericanAir In car gng to DFW. Pulled over 1h...         NaN   \n1  @AmericanAir after all, the plane didn’t land ...         NaN   \n2  @SouthwestAir can't believe how many paying cu...         NaN   \n3  @USAirways I can legitimately say that I would...         NaN   \n4  @AmericanAir still no response from AA. great ...         NaN   \n\n               tweet_created       tweet_location               user_timezone  \n0  2015-02-22 18:15:50 -0800                Texas  Central Time (US & Canada)  \n1  2015-02-22 13:22:57 -0800  College Station, TX  Central Time (US & Canada)  \n2  2015-02-17 18:52:31 -0800                   CT  Eastern Time (US & Canada)  \n3  2015-02-22 23:16:24 -0800     Washington, D.C.  Eastern Time (US & Canada)  \n4  2015-02-23 08:44:51 -0800        New York City  Eastern Time (US & Canada)  ",
      "text/html": "<div>\n<style scoped>\n    .dataframe tbody tr th:only-of-type {\n        vertical-align: middle;\n    }\n\n    .dataframe tbody tr th {\n        vertical-align: top;\n    }\n\n    .dataframe thead th {\n        text-align: right;\n    }\n</style>\n<table border=\"1\" class=\"dataframe\">\n  <thead>\n    <tr style=\"text-align: right;\">\n      <th></th>\n      <th>tweet_id</th>\n      <th>airline</th>\n      <th>airline_sentiment_gold</th>\n      <th>name</th>\n      <th>negativereason_gold</th>\n      <th>retweet_count</th>\n      <th>text</th>\n      <th>tweet_coord</th>\n      <th>tweet_created</th>\n      <th>tweet_location</th>\n      <th>user_timezone</th>\n    </tr>\n  </thead>\n  <tbody>\n    <tr>\n      <th>0</th>\n      <td>569682010270101504</td>\n      <td>American</td>\n      <td>NaN</td>\n      <td>zsalim03</td>\n      <td>NaN</td>\n      <td>0</td>\n      <td>@AmericanAir In car gng to DFW. Pulled over 1h...</td>\n      <td>NaN</td>\n      <td>2015-02-22 18:15:50 -0800</td>\n      <td>Texas</td>\n      <td>Central Time (US &amp; Canada)</td>\n    </tr>\n    <tr>\n      <th>1</th>\n      <td>569608307184242688</td>\n      <td>American</td>\n      <td>NaN</td>\n      <td>sa_craig</td>\n      <td>NaN</td>\n      <td>0</td>\n      <td>@AmericanAir after all, the plane didn’t land ...</td>\n      <td>NaN</td>\n      <td>2015-02-22 13:22:57 -0800</td>\n      <td>College Station, TX</td>\n      <td>Central Time (US &amp; Canada)</td>\n    </tr>\n    <tr>\n      <th>2</th>\n      <td>567879304593408001</td>\n      <td>Southwest</td>\n      <td>NaN</td>\n      <td>DanaChristos</td>\n      <td>NaN</td>\n      <td>1</td>\n      <td>@SouthwestAir can't believe how many paying cu...</td>\n      <td>NaN</td>\n      <td>2015-02-17 18:52:31 -0800</td>\n      <td>CT</td>\n      <td>Eastern Time (US &amp; Canada)</td>\n    </tr>\n    <tr>\n      <th>3</th>\n      <td>569757651539660801</td>\n      <td>US Airways</td>\n      <td>NaN</td>\n      <td>rossj987</td>\n      <td>NaN</td>\n      <td>0</td>\n      <td>@USAirways I can legitimately say that I would...</td>\n      <td>NaN</td>\n      <td>2015-02-22 23:16:24 -0800</td>\n      <td>Washington, D.C.</td>\n      <td>Eastern Time (US &amp; Canada)</td>\n    </tr>\n    <tr>\n      <th>4</th>\n      <td>569900705852608513</td>\n      <td>American</td>\n      <td>NaN</td>\n      <td>tranpham18</td>\n      <td>NaN</td>\n      <td>0</td>\n      <td>@AmericanAir still no response from AA. great ...</td>\n      <td>NaN</td>\n      <td>2015-02-23 08:44:51 -0800</td>\n      <td>New York City</td>\n      <td>Eastern Time (US &amp; Canada)</td>\n    </tr>\n  </tbody>\n</table>\n</div>"
     },
     "metadata": {},
     "execution_count": 6
    }
   ],
   "source": [
    "testing_data.head(5)"
   ]
  },
  {
   "cell_type": "markdown",
   "metadata": {},
   "source": [
    "# Column Names"
   ]
  },
  {
   "cell_type": "code",
   "execution_count": 7,
   "metadata": {},
   "outputs": [
    {
     "output_type": "execute_result",
     "data": {
      "text/plain": "Index(['tweet_id', 'airline_sentiment', 'airline', 'airline_sentiment_gold',\n       'name', 'negativereason_gold', 'retweet_count', 'text', 'tweet_coord',\n       'tweet_created', 'tweet_location', 'user_timezone'],\n      dtype='object')"
     },
     "metadata": {},
     "execution_count": 7
    }
   ],
   "source": [
    "training_data.columns"
   ]
  },
  {
   "cell_type": "markdown",
   "metadata": {},
   "source": [
    "# Check NAN values in training data"
   ]
  },
  {
   "cell_type": "code",
   "execution_count": 8,
   "metadata": {
    "scrolled": true
   },
   "outputs": [
    {
     "output_type": "execute_result",
     "data": {
      "text/plain": "tweet_id                      0\nairline_sentiment             0\nairline                       0\nairline_sentiment_gold    10949\nname                          0\nnegativereason_gold       10956\nretweet_count                 0\ntext                          0\ntweet_coord               10204\ntweet_created                 0\ntweet_location             3550\nuser_timezone              3577\ndtype: int64"
     },
     "metadata": {},
     "execution_count": 8
    }
   ],
   "source": [
    "training_data.isna().sum()"
   ]
  },
  {
   "cell_type": "markdown",
   "metadata": {},
   "source": [
    "# Check NAN values in testing data"
   ]
  },
  {
   "cell_type": "code",
   "execution_count": 9,
   "metadata": {},
   "outputs": [
    {
     "output_type": "execute_result",
     "data": {
      "text/plain": "tweet_id                     0\nairline                      0\nairline_sentiment_gold    3651\nname                         0\nnegativereason_gold       3652\nretweet_count                0\ntext                         0\ntweet_coord               3417\ntweet_created                0\ntweet_location            1183\nuser_timezone             1243\ndtype: int64"
     },
     "metadata": {},
     "execution_count": 9
    }
   ],
   "source": [
    "testing_data.isna().sum()"
   ]
  },
  {
   "cell_type": "markdown",
   "metadata": {},
   "source": [
    "# Delete the Non-useful Columns from both training and testing data"
   ]
  },
  {
   "cell_type": "code",
   "execution_count": 10,
   "metadata": {},
   "outputs": [],
   "source": [
    "del training_data['tweet_id']\n",
    "del training_data['airline_sentiment_gold']\n",
    "del training_data['name']\n",
    "del training_data['negativereason_gold']\n",
    "del training_data['retweet_count']\n",
    "del training_data['tweet_coord']\n",
    "del training_data['tweet_created']\n",
    "del training_data['tweet_location']\n",
    "del training_data['user_timezone']\n",
    "\n",
    "del testing_data['tweet_id']\n",
    "del testing_data['airline_sentiment_gold']\n",
    "del testing_data['name']\n",
    "del testing_data['negativereason_gold']\n",
    "del testing_data['retweet_count']\n",
    "del testing_data['tweet_coord']\n",
    "del testing_data['tweet_created']\n",
    "del testing_data['tweet_location']\n",
    "del testing_data['user_timezone']"
   ]
  },
  {
   "cell_type": "code",
   "execution_count": 11,
   "metadata": {},
   "outputs": [
    {
     "output_type": "execute_result",
     "data": {
      "text/plain": "  airline_sentiment    airline  \\\n0          negative  Southwest   \n1          positive  Southwest   \n2          positive     United   \n3          negative  Southwest   \n4          negative     United   \n\n                                                text  \n0  @SouthwestAir I am scheduled for the morning, ...  \n1  @SouthwestAir seeing your workers time in and ...  \n2  @united Flew ORD to Miami and back and  had gr...  \n3     @SouthwestAir @dultch97 that's horse radish 😤🐴  \n4  @united so our flight into ORD was delayed bec...  ",
      "text/html": "<div>\n<style scoped>\n    .dataframe tbody tr th:only-of-type {\n        vertical-align: middle;\n    }\n\n    .dataframe tbody tr th {\n        vertical-align: top;\n    }\n\n    .dataframe thead th {\n        text-align: right;\n    }\n</style>\n<table border=\"1\" class=\"dataframe\">\n  <thead>\n    <tr style=\"text-align: right;\">\n      <th></th>\n      <th>airline_sentiment</th>\n      <th>airline</th>\n      <th>text</th>\n    </tr>\n  </thead>\n  <tbody>\n    <tr>\n      <th>0</th>\n      <td>negative</td>\n      <td>Southwest</td>\n      <td>@SouthwestAir I am scheduled for the morning, ...</td>\n    </tr>\n    <tr>\n      <th>1</th>\n      <td>positive</td>\n      <td>Southwest</td>\n      <td>@SouthwestAir seeing your workers time in and ...</td>\n    </tr>\n    <tr>\n      <th>2</th>\n      <td>positive</td>\n      <td>United</td>\n      <td>@united Flew ORD to Miami and back and  had gr...</td>\n    </tr>\n    <tr>\n      <th>3</th>\n      <td>negative</td>\n      <td>Southwest</td>\n      <td>@SouthwestAir @dultch97 that's horse radish 😤🐴</td>\n    </tr>\n    <tr>\n      <th>4</th>\n      <td>negative</td>\n      <td>United</td>\n      <td>@united so our flight into ORD was delayed bec...</td>\n    </tr>\n  </tbody>\n</table>\n</div>"
     },
     "metadata": {},
     "execution_count": 11
    }
   ],
   "source": [
    "training_data.head()"
   ]
  },
  {
   "cell_type": "markdown",
   "metadata": {},
   "source": [
    "# Number of Tweets Per airline"
   ]
  },
  {
   "cell_type": "code",
   "execution_count": 12,
   "metadata": {},
   "outputs": [
    {
     "output_type": "execute_result",
     "data": {
      "text/plain": "United            2928\nUS Airways        2152\nAmerican          2078\nSouthwest         1817\nDelta             1639\nVirgin America     366\nName: airline, dtype: int64"
     },
     "metadata": {},
     "execution_count": 12
    }
   ],
   "source": [
    "training_data['airline'].value_counts()"
   ]
  },
  {
   "cell_type": "markdown",
   "metadata": {},
   "source": [
    "# Plot the Pie - Graph to visualize the Number of Tweets per Airline"
   ]
  },
  {
   "cell_type": "code",
   "execution_count": 13,
   "metadata": {},
   "outputs": [
    {
     "output_type": "display_data",
     "data": {
      "text/plain": "<Figure size 432x288 with 1 Axes>",
      "image/svg+xml": "<?xml version=\"1.0\" encoding=\"utf-8\" standalone=\"no\"?>\r\n<!DOCTYPE svg PUBLIC \"-//W3C//DTD SVG 1.1//EN\"\r\n  \"http://www.w3.org/Graphics/SVG/1.1/DTD/svg11.dtd\">\r\n<!-- Created with matplotlib (https://matplotlib.org/) -->\r\n<svg height=\"246.958125pt\" version=\"1.1\" viewBox=\"0 0 320.296871 246.958125\" width=\"320.296871pt\" xmlns=\"http://www.w3.org/2000/svg\" xmlns:xlink=\"http://www.w3.org/1999/xlink\">\r\n <defs>\r\n  <style type=\"text/css\">\r\n*{stroke-linecap:butt;stroke-linejoin:round;}\r\n  </style>\r\n </defs>\r\n <g id=\"figure_1\">\r\n  <g id=\"patch_1\">\r\n   <path d=\"M 0 246.958125 \r\nL 320.296871 246.958125 \r\nL 320.296871 0 \r\nL 0 0 \r\nz\r\n\" style=\"fill:none;\"/>\r\n  </g>\r\n  <g id=\"axes_1\">\r\n   <g id=\"patch_2\">\r\n    <path d=\"M 231.306193 131.038125 \r\nC 231.306193 118.849766 228.744175 106.796417 223.786722 95.661797 \r\nC 218.82927 84.527177 211.58621 74.557962 202.528494 66.402358 \r\nC 193.470778 58.246755 182.799068 52.085441 171.20725 48.319032 \r\nC 159.615432 44.552622 147.360308 43.264558 135.238718 44.538589 \r\nL 144.330193 131.038125 \r\nL 231.306193 131.038125 \r\nz\r\n\" style=\"fill:#1f77b4;\"/>\r\n   </g>\r\n   <g id=\"patch_3\">\r\n    <path d=\"M 135.238718 44.538589 \r\nC 117.346283 46.419162 100.470594 53.805775 86.950192 65.674832 \r\nC 73.42979 77.54389 63.919448 93.320591 59.737056 110.818688 \r\nL 144.330193 131.038125 \r\nL 135.238718 44.538589 \r\nz\r\n\" style=\"fill:#ff7f0e;\"/>\r\n   </g>\r\n   <g id=\"patch_4\">\r\n    <path d=\"M 59.737056 110.818688 \r\nC 55.700585 127.706288 56.812103 145.421884 62.927745 161.672516 \r\nC 69.043387 177.923149 79.887403 191.976089 94.056234 202.012441 \r\nL 144.330193 131.038125 \r\nL 59.737056 110.818688 \r\nz\r\n\" style=\"fill:#2ca02c;\"/>\r\n   </g>\r\n   <g id=\"patch_5\">\r\n    <path d=\"M 94.056234 202.012441 \r\nC 106.424422 210.773326 120.870475 216.150941 135.95676 217.610119 \r\nC 151.043044 219.069298 166.25194 216.559975 180.069896 210.331872 \r\nL 144.330193 131.038125 \r\nL 94.056234 202.012441 \r\nz\r\n\" style=\"fill:#d62728;\"/>\r\n   </g>\r\n   <g id=\"patch_6\">\r\n    <path d=\"M 180.069896 210.331872 \r\nC 192.521335 204.719692 203.477552 196.252766 212.048353 185.619033 \r\nC 220.619153 174.9853 226.565948 162.480774 229.405559 149.121451 \r\nL 144.330193 131.038125 \r\nL 180.069896 210.331872 \r\nz\r\n\" style=\"fill:#9467bd;\"/>\r\n   </g>\r\n   <g id=\"patch_7\">\r\n    <path d=\"M 229.405559 149.121451 \r\nC 230.036931 146.151082 230.512305 143.149684 230.82973 140.129591 \r\nC 231.147155 137.109498 231.306194 134.074852 231.306193 131.038123 \r\nL 144.330193 131.038125 \r\nL 229.405559 149.121451 \r\nz\r\n\" style=\"fill:#8c564b;\"/>\r\n   </g>\r\n   <g id=\"matplotlib.axis_1\"/>\r\n   <g id=\"matplotlib.axis_2\"/>\r\n   <g id=\"text_1\">\r\n    <!-- United -->\r\n    <defs>\r\n     <path d=\"M 8.6875 72.90625 \r\nL 18.609375 72.90625 \r\nL 18.609375 28.609375 \r\nQ 18.609375 16.890625 22.84375 11.734375 \r\nQ 27.09375 6.59375 36.625 6.59375 \r\nQ 46.09375 6.59375 50.34375 11.734375 \r\nQ 54.59375 16.890625 54.59375 28.609375 \r\nL 54.59375 72.90625 \r\nL 64.5 72.90625 \r\nL 64.5 27.390625 \r\nQ 64.5 13.140625 57.4375 5.859375 \r\nQ 50.390625 -1.421875 36.625 -1.421875 \r\nQ 22.796875 -1.421875 15.734375 5.859375 \r\nQ 8.6875 13.140625 8.6875 27.390625 \r\nz\r\n\" id=\"DejaVuSans-85\"/>\r\n     <path d=\"M 54.890625 33.015625 \r\nL 54.890625 0 \r\nL 45.90625 0 \r\nL 45.90625 32.71875 \r\nQ 45.90625 40.484375 42.875 44.328125 \r\nQ 39.84375 48.1875 33.796875 48.1875 \r\nQ 26.515625 48.1875 22.3125 43.546875 \r\nQ 18.109375 38.921875 18.109375 30.90625 \r\nL 18.109375 0 \r\nL 9.078125 0 \r\nL 9.078125 54.6875 \r\nL 18.109375 54.6875 \r\nL 18.109375 46.1875 \r\nQ 21.34375 51.125 25.703125 53.5625 \r\nQ 30.078125 56 35.796875 56 \r\nQ 45.21875 56 50.046875 50.171875 \r\nQ 54.890625 44.34375 54.890625 33.015625 \r\nz\r\n\" id=\"DejaVuSans-110\"/>\r\n     <path d=\"M 9.421875 54.6875 \r\nL 18.40625 54.6875 \r\nL 18.40625 0 \r\nL 9.421875 0 \r\nz\r\nM 9.421875 75.984375 \r\nL 18.40625 75.984375 \r\nL 18.40625 64.59375 \r\nL 9.421875 64.59375 \r\nz\r\n\" id=\"DejaVuSans-105\"/>\r\n     <path d=\"M 18.3125 70.21875 \r\nL 18.3125 54.6875 \r\nL 36.8125 54.6875 \r\nL 36.8125 47.703125 \r\nL 18.3125 47.703125 \r\nL 18.3125 18.015625 \r\nQ 18.3125 11.328125 20.140625 9.421875 \r\nQ 21.96875 7.515625 27.59375 7.515625 \r\nL 36.8125 7.515625 \r\nL 36.8125 0 \r\nL 27.59375 0 \r\nQ 17.1875 0 13.234375 3.875 \r\nQ 9.28125 7.765625 9.28125 18.015625 \r\nL 9.28125 47.703125 \r\nL 2.6875 47.703125 \r\nL 2.6875 54.6875 \r\nL 9.28125 54.6875 \r\nL 9.28125 70.21875 \r\nz\r\n\" id=\"DejaVuSans-116\"/>\r\n     <path d=\"M 56.203125 29.59375 \r\nL 56.203125 25.203125 \r\nL 14.890625 25.203125 \r\nQ 15.484375 15.921875 20.484375 11.0625 \r\nQ 25.484375 6.203125 34.421875 6.203125 \r\nQ 39.59375 6.203125 44.453125 7.46875 \r\nQ 49.3125 8.734375 54.109375 11.28125 \r\nL 54.109375 2.78125 \r\nQ 49.265625 0.734375 44.1875 -0.34375 \r\nQ 39.109375 -1.421875 33.890625 -1.421875 \r\nQ 20.796875 -1.421875 13.15625 6.1875 \r\nQ 5.515625 13.8125 5.515625 26.8125 \r\nQ 5.515625 40.234375 12.765625 48.109375 \r\nQ 20.015625 56 32.328125 56 \r\nQ 43.359375 56 49.78125 48.890625 \r\nQ 56.203125 41.796875 56.203125 29.59375 \r\nz\r\nM 47.21875 32.234375 \r\nQ 47.125 39.59375 43.09375 43.984375 \r\nQ 39.0625 48.390625 32.421875 48.390625 \r\nQ 24.90625 48.390625 20.390625 44.140625 \r\nQ 15.875 39.890625 15.1875 32.171875 \r\nz\r\n\" id=\"DejaVuSans-101\"/>\r\n     <path d=\"M 45.40625 46.390625 \r\nL 45.40625 75.984375 \r\nL 54.390625 75.984375 \r\nL 54.390625 0 \r\nL 45.40625 0 \r\nL 45.40625 8.203125 \r\nQ 42.578125 3.328125 38.25 0.953125 \r\nQ 33.9375 -1.421875 27.875 -1.421875 \r\nQ 17.96875 -1.421875 11.734375 6.484375 \r\nQ 5.515625 14.40625 5.515625 27.296875 \r\nQ 5.515625 40.1875 11.734375 48.09375 \r\nQ 17.96875 56 27.875 56 \r\nQ 33.9375 56 38.25 53.625 \r\nQ 42.578125 51.265625 45.40625 46.390625 \r\nz\r\nM 14.796875 27.296875 \r\nQ 14.796875 17.390625 18.875 11.75 \r\nQ 22.953125 6.109375 30.078125 6.109375 \r\nQ 37.203125 6.109375 41.296875 11.75 \r\nQ 45.40625 17.390625 45.40625 27.296875 \r\nQ 45.40625 37.203125 41.296875 42.84375 \r\nQ 37.203125 48.484375 30.078125 48.484375 \r\nQ 22.953125 48.484375 18.875 42.84375 \r\nQ 14.796875 37.203125 14.796875 27.296875 \r\nz\r\n\" id=\"DejaVuSans-100\"/>\r\n    </defs>\r\n    <g transform=\"translate(208.348324 62.698156)scale(0.1 -0.1)\">\r\n     <use xlink:href=\"#DejaVuSans-85\"/>\r\n     <use x=\"73.193359\" xlink:href=\"#DejaVuSans-110\"/>\r\n     <use x=\"136.572266\" xlink:href=\"#DejaVuSans-105\"/>\r\n     <use x=\"164.355469\" xlink:href=\"#DejaVuSans-116\"/>\r\n     <use x=\"203.564453\" xlink:href=\"#DejaVuSans-101\"/>\r\n     <use x=\"265.087891\" xlink:href=\"#DejaVuSans-100\"/>\r\n    </g>\r\n   </g>\r\n   <g id=\"text_2\">\r\n    <!-- 26.7 -->\r\n    <defs>\r\n     <path d=\"M 19.1875 8.296875 \r\nL 53.609375 8.296875 \r\nL 53.609375 0 \r\nL 7.328125 0 \r\nL 7.328125 8.296875 \r\nQ 12.9375 14.109375 22.625 23.890625 \r\nQ 32.328125 33.6875 34.8125 36.53125 \r\nQ 39.546875 41.84375 41.421875 45.53125 \r\nQ 43.3125 49.21875 43.3125 52.78125 \r\nQ 43.3125 58.59375 39.234375 62.25 \r\nQ 35.15625 65.921875 28.609375 65.921875 \r\nQ 23.96875 65.921875 18.8125 64.3125 \r\nQ 13.671875 62.703125 7.8125 59.421875 \r\nL 7.8125 69.390625 \r\nQ 13.765625 71.78125 18.9375 73 \r\nQ 24.125 74.21875 28.421875 74.21875 \r\nQ 39.75 74.21875 46.484375 68.546875 \r\nQ 53.21875 62.890625 53.21875 53.421875 \r\nQ 53.21875 48.921875 51.53125 44.890625 \r\nQ 49.859375 40.875 45.40625 35.40625 \r\nQ 44.1875 33.984375 37.640625 27.21875 \r\nQ 31.109375 20.453125 19.1875 8.296875 \r\nz\r\n\" id=\"DejaVuSans-50\"/>\r\n     <path d=\"M 33.015625 40.375 \r\nQ 26.375 40.375 22.484375 35.828125 \r\nQ 18.609375 31.296875 18.609375 23.390625 \r\nQ 18.609375 15.53125 22.484375 10.953125 \r\nQ 26.375 6.390625 33.015625 6.390625 \r\nQ 39.65625 6.390625 43.53125 10.953125 \r\nQ 47.40625 15.53125 47.40625 23.390625 \r\nQ 47.40625 31.296875 43.53125 35.828125 \r\nQ 39.65625 40.375 33.015625 40.375 \r\nz\r\nM 52.59375 71.296875 \r\nL 52.59375 62.3125 \r\nQ 48.875 64.0625 45.09375 64.984375 \r\nQ 41.3125 65.921875 37.59375 65.921875 \r\nQ 27.828125 65.921875 22.671875 59.328125 \r\nQ 17.53125 52.734375 16.796875 39.40625 \r\nQ 19.671875 43.65625 24.015625 45.921875 \r\nQ 28.375 48.1875 33.59375 48.1875 \r\nQ 44.578125 48.1875 50.953125 41.515625 \r\nQ 57.328125 34.859375 57.328125 23.390625 \r\nQ 57.328125 12.15625 50.6875 5.359375 \r\nQ 44.046875 -1.421875 33.015625 -1.421875 \r\nQ 20.359375 -1.421875 13.671875 8.265625 \r\nQ 6.984375 17.96875 6.984375 36.375 \r\nQ 6.984375 53.65625 15.1875 63.9375 \r\nQ 23.390625 74.21875 37.203125 74.21875 \r\nQ 40.921875 74.21875 44.703125 73.484375 \r\nQ 48.484375 72.75 52.59375 71.296875 \r\nz\r\n\" id=\"DejaVuSans-54\"/>\r\n     <path d=\"M 10.6875 12.40625 \r\nL 21 12.40625 \r\nL 21 0 \r\nL 10.6875 0 \r\nz\r\n\" id=\"DejaVuSans-46\"/>\r\n     <path d=\"M 8.203125 72.90625 \r\nL 55.078125 72.90625 \r\nL 55.078125 68.703125 \r\nL 28.609375 0 \r\nL 18.3125 0 \r\nL 43.21875 64.59375 \r\nL 8.203125 64.59375 \r\nz\r\n\" id=\"DejaVuSans-55\"/>\r\n    </defs>\r\n    <g transform=\"translate(168.116361 95.01604)scale(0.1 -0.1)\">\r\n     <use xlink:href=\"#DejaVuSans-50\"/>\r\n     <use x=\"63.623047\" xlink:href=\"#DejaVuSans-54\"/>\r\n     <use x=\"127.246094\" xlink:href=\"#DejaVuSans-46\"/>\r\n     <use x=\"159.033203\" xlink:href=\"#DejaVuSans-55\"/>\r\n    </g>\r\n   </g>\r\n   <g id=\"text_3\">\r\n    <!-- US Airways -->\r\n    <defs>\r\n     <path d=\"M 53.515625 70.515625 \r\nL 53.515625 60.890625 \r\nQ 47.90625 63.578125 42.921875 64.890625 \r\nQ 37.9375 66.21875 33.296875 66.21875 \r\nQ 25.25 66.21875 20.875 63.09375 \r\nQ 16.5 59.96875 16.5 54.203125 \r\nQ 16.5 49.359375 19.40625 46.890625 \r\nQ 22.3125 44.4375 30.421875 42.921875 \r\nL 36.375 41.703125 \r\nQ 47.40625 39.59375 52.65625 34.296875 \r\nQ 57.90625 29 57.90625 20.125 \r\nQ 57.90625 9.515625 50.796875 4.046875 \r\nQ 43.703125 -1.421875 29.984375 -1.421875 \r\nQ 24.8125 -1.421875 18.96875 -0.25 \r\nQ 13.140625 0.921875 6.890625 3.21875 \r\nL 6.890625 13.375 \r\nQ 12.890625 10.015625 18.65625 8.296875 \r\nQ 24.421875 6.59375 29.984375 6.59375 \r\nQ 38.421875 6.59375 43.015625 9.90625 \r\nQ 47.609375 13.234375 47.609375 19.390625 \r\nQ 47.609375 24.75 44.3125 27.78125 \r\nQ 41.015625 30.8125 33.5 32.328125 \r\nL 27.484375 33.5 \r\nQ 16.453125 35.6875 11.515625 40.375 \r\nQ 6.59375 45.0625 6.59375 53.421875 \r\nQ 6.59375 63.09375 13.40625 68.65625 \r\nQ 20.21875 74.21875 32.171875 74.21875 \r\nQ 37.3125 74.21875 42.625 73.28125 \r\nQ 47.953125 72.359375 53.515625 70.515625 \r\nz\r\n\" id=\"DejaVuSans-83\"/>\r\n     <path id=\"DejaVuSans-32\"/>\r\n     <path d=\"M 34.1875 63.1875 \r\nL 20.796875 26.90625 \r\nL 47.609375 26.90625 \r\nz\r\nM 28.609375 72.90625 \r\nL 39.796875 72.90625 \r\nL 67.578125 0 \r\nL 57.328125 0 \r\nL 50.6875 18.703125 \r\nL 17.828125 18.703125 \r\nL 11.1875 0 \r\nL 0.78125 0 \r\nz\r\n\" id=\"DejaVuSans-65\"/>\r\n     <path d=\"M 41.109375 46.296875 \r\nQ 39.59375 47.171875 37.8125 47.578125 \r\nQ 36.03125 48 33.890625 48 \r\nQ 26.265625 48 22.1875 43.046875 \r\nQ 18.109375 38.09375 18.109375 28.8125 \r\nL 18.109375 0 \r\nL 9.078125 0 \r\nL 9.078125 54.6875 \r\nL 18.109375 54.6875 \r\nL 18.109375 46.1875 \r\nQ 20.953125 51.171875 25.484375 53.578125 \r\nQ 30.03125 56 36.53125 56 \r\nQ 37.453125 56 38.578125 55.875 \r\nQ 39.703125 55.765625 41.0625 55.515625 \r\nz\r\n\" id=\"DejaVuSans-114\"/>\r\n     <path d=\"M 4.203125 54.6875 \r\nL 13.1875 54.6875 \r\nL 24.421875 12.015625 \r\nL 35.59375 54.6875 \r\nL 46.1875 54.6875 \r\nL 57.421875 12.015625 \r\nL 68.609375 54.6875 \r\nL 77.59375 54.6875 \r\nL 63.28125 0 \r\nL 52.6875 0 \r\nL 40.921875 44.828125 \r\nL 29.109375 0 \r\nL 18.5 0 \r\nz\r\n\" id=\"DejaVuSans-119\"/>\r\n     <path d=\"M 34.28125 27.484375 \r\nQ 23.390625 27.484375 19.1875 25 \r\nQ 14.984375 22.515625 14.984375 16.5 \r\nQ 14.984375 11.71875 18.140625 8.90625 \r\nQ 21.296875 6.109375 26.703125 6.109375 \r\nQ 34.1875 6.109375 38.703125 11.40625 \r\nQ 43.21875 16.703125 43.21875 25.484375 \r\nL 43.21875 27.484375 \r\nz\r\nM 52.203125 31.203125 \r\nL 52.203125 0 \r\nL 43.21875 0 \r\nL 43.21875 8.296875 \r\nQ 40.140625 3.328125 35.546875 0.953125 \r\nQ 30.953125 -1.421875 24.3125 -1.421875 \r\nQ 15.921875 -1.421875 10.953125 3.296875 \r\nQ 6 8.015625 6 15.921875 \r\nQ 6 25.140625 12.171875 29.828125 \r\nQ 18.359375 34.515625 30.609375 34.515625 \r\nL 43.21875 34.515625 \r\nL 43.21875 35.40625 \r\nQ 43.21875 41.609375 39.140625 45 \r\nQ 35.0625 48.390625 27.6875 48.390625 \r\nQ 23 48.390625 18.546875 47.265625 \r\nQ 14.109375 46.140625 10.015625 43.890625 \r\nL 10.015625 52.203125 \r\nQ 14.9375 54.109375 19.578125 55.046875 \r\nQ 24.21875 56 28.609375 56 \r\nQ 40.484375 56 46.34375 49.84375 \r\nQ 52.203125 43.703125 52.203125 31.203125 \r\nz\r\n\" id=\"DejaVuSans-97\"/>\r\n     <path d=\"M 32.171875 -5.078125 \r\nQ 28.375 -14.84375 24.75 -17.8125 \r\nQ 21.140625 -20.796875 15.09375 -20.796875 \r\nL 7.90625 -20.796875 \r\nL 7.90625 -13.28125 \r\nL 13.1875 -13.28125 \r\nQ 16.890625 -13.28125 18.9375 -11.515625 \r\nQ 21 -9.765625 23.484375 -3.21875 \r\nL 25.09375 0.875 \r\nL 2.984375 54.6875 \r\nL 12.5 54.6875 \r\nL 29.59375 11.921875 \r\nL 46.6875 54.6875 \r\nL 56.203125 54.6875 \r\nz\r\n\" id=\"DejaVuSans-121\"/>\r\n     <path d=\"M 44.28125 53.078125 \r\nL 44.28125 44.578125 \r\nQ 40.484375 46.53125 36.375 47.5 \r\nQ 32.28125 48.484375 27.875 48.484375 \r\nQ 21.1875 48.484375 17.84375 46.4375 \r\nQ 14.5 44.390625 14.5 40.28125 \r\nQ 14.5 37.15625 16.890625 35.375 \r\nQ 19.28125 33.59375 26.515625 31.984375 \r\nL 29.59375 31.296875 \r\nQ 39.15625 29.25 43.1875 25.515625 \r\nQ 47.21875 21.78125 47.21875 15.09375 \r\nQ 47.21875 7.46875 41.1875 3.015625 \r\nQ 35.15625 -1.421875 24.609375 -1.421875 \r\nQ 20.21875 -1.421875 15.453125 -0.5625 \r\nQ 10.6875 0.296875 5.421875 2 \r\nL 5.421875 11.28125 \r\nQ 10.40625 8.6875 15.234375 7.390625 \r\nQ 20.0625 6.109375 24.8125 6.109375 \r\nQ 31.15625 6.109375 34.5625 8.28125 \r\nQ 37.984375 10.453125 37.984375 14.40625 \r\nQ 37.984375 18.0625 35.515625 20.015625 \r\nQ 33.0625 21.96875 24.703125 23.78125 \r\nL 21.578125 24.515625 \r\nQ 13.234375 26.265625 9.515625 29.90625 \r\nQ 5.8125 33.546875 5.8125 39.890625 \r\nQ 5.8125 47.609375 11.28125 51.796875 \r\nQ 16.75 56 26.8125 56 \r\nQ 31.78125 56 36.171875 55.265625 \r\nQ 40.578125 54.546875 44.28125 53.078125 \r\nz\r\n\" id=\"DejaVuSans-115\"/>\r\n    </defs>\r\n    <g transform=\"translate(25.202817 61.897878)scale(0.1 -0.1)\">\r\n     <use xlink:href=\"#DejaVuSans-85\"/>\r\n     <use x=\"73.193359\" xlink:href=\"#DejaVuSans-83\"/>\r\n     <use x=\"136.669922\" xlink:href=\"#DejaVuSans-32\"/>\r\n     <use x=\"168.457031\" xlink:href=\"#DejaVuSans-65\"/>\r\n     <use x=\"236.865234\" xlink:href=\"#DejaVuSans-105\"/>\r\n     <use x=\"264.648438\" xlink:href=\"#DejaVuSans-114\"/>\r\n     <use x=\"305.761719\" xlink:href=\"#DejaVuSans-119\"/>\r\n     <use x=\"387.548828\" xlink:href=\"#DejaVuSans-97\"/>\r\n     <use x=\"448.828125\" xlink:href=\"#DejaVuSans-121\"/>\r\n     <use x=\"508.007812\" xlink:href=\"#DejaVuSans-115\"/>\r\n    </g>\r\n   </g>\r\n   <g id=\"text_4\">\r\n    <!-- 19.6 -->\r\n    <defs>\r\n     <path d=\"M 12.40625 8.296875 \r\nL 28.515625 8.296875 \r\nL 28.515625 63.921875 \r\nL 10.984375 60.40625 \r\nL 10.984375 69.390625 \r\nL 28.421875 72.90625 \r\nL 38.28125 72.90625 \r\nL 38.28125 8.296875 \r\nL 54.390625 8.296875 \r\nL 54.390625 0 \r\nL 12.40625 0 \r\nz\r\n\" id=\"DejaVuSans-49\"/>\r\n     <path d=\"M 10.984375 1.515625 \r\nL 10.984375 10.5 \r\nQ 14.703125 8.734375 18.5 7.8125 \r\nQ 22.3125 6.890625 25.984375 6.890625 \r\nQ 35.75 6.890625 40.890625 13.453125 \r\nQ 46.046875 20.015625 46.78125 33.40625 \r\nQ 43.953125 29.203125 39.59375 26.953125 \r\nQ 35.25 24.703125 29.984375 24.703125 \r\nQ 19.046875 24.703125 12.671875 31.3125 \r\nQ 6.296875 37.9375 6.296875 49.421875 \r\nQ 6.296875 60.640625 12.9375 67.421875 \r\nQ 19.578125 74.21875 30.609375 74.21875 \r\nQ 43.265625 74.21875 49.921875 64.515625 \r\nQ 56.59375 54.828125 56.59375 36.375 \r\nQ 56.59375 19.140625 48.40625 8.859375 \r\nQ 40.234375 -1.421875 26.421875 -1.421875 \r\nQ 22.703125 -1.421875 18.890625 -0.6875 \r\nQ 15.09375 0.046875 10.984375 1.515625 \r\nz\r\nM 30.609375 32.421875 \r\nQ 37.25 32.421875 41.125 36.953125 \r\nQ 45.015625 41.5 45.015625 49.421875 \r\nQ 45.015625 57.28125 41.125 61.84375 \r\nQ 37.25 66.40625 30.609375 66.40625 \r\nQ 23.96875 66.40625 20.09375 61.84375 \r\nQ 16.21875 57.28125 16.21875 49.421875 \r\nQ 16.21875 41.5 20.09375 36.953125 \r\nQ 23.96875 32.421875 30.609375 32.421875 \r\nz\r\n\" id=\"DejaVuSans-57\"/>\r\n    </defs>\r\n    <g transform=\"translate(98.76938 94.579524)scale(0.1 -0.1)\">\r\n     <use xlink:href=\"#DejaVuSans-49\"/>\r\n     <use x=\"63.623047\" xlink:href=\"#DejaVuSans-57\"/>\r\n     <use x=\"127.246094\" xlink:href=\"#DejaVuSans-46\"/>\r\n     <use x=\"159.033203\" xlink:href=\"#DejaVuSans-54\"/>\r\n    </g>\r\n   </g>\r\n   <g id=\"text_5\">\r\n    <!-- American -->\r\n    <defs>\r\n     <path d=\"M 52 44.1875 \r\nQ 55.375 50.25 60.0625 53.125 \r\nQ 64.75 56 71.09375 56 \r\nQ 79.640625 56 84.28125 50.015625 \r\nQ 88.921875 44.046875 88.921875 33.015625 \r\nL 88.921875 0 \r\nL 79.890625 0 \r\nL 79.890625 32.71875 \r\nQ 79.890625 40.578125 77.09375 44.375 \r\nQ 74.3125 48.1875 68.609375 48.1875 \r\nQ 61.625 48.1875 57.5625 43.546875 \r\nQ 53.515625 38.921875 53.515625 30.90625 \r\nL 53.515625 0 \r\nL 44.484375 0 \r\nL 44.484375 32.71875 \r\nQ 44.484375 40.625 41.703125 44.40625 \r\nQ 38.921875 48.1875 33.109375 48.1875 \r\nQ 26.21875 48.1875 22.15625 43.53125 \r\nQ 18.109375 38.875 18.109375 30.90625 \r\nL 18.109375 0 \r\nL 9.078125 0 \r\nL 9.078125 54.6875 \r\nL 18.109375 54.6875 \r\nL 18.109375 46.1875 \r\nQ 21.1875 51.21875 25.484375 53.609375 \r\nQ 29.78125 56 35.6875 56 \r\nQ 41.65625 56 45.828125 52.96875 \r\nQ 50 49.953125 52 44.1875 \r\nz\r\n\" id=\"DejaVuSans-109\"/>\r\n     <path d=\"M 48.78125 52.59375 \r\nL 48.78125 44.1875 \r\nQ 44.96875 46.296875 41.140625 47.34375 \r\nQ 37.3125 48.390625 33.40625 48.390625 \r\nQ 24.65625 48.390625 19.8125 42.84375 \r\nQ 14.984375 37.3125 14.984375 27.296875 \r\nQ 14.984375 17.28125 19.8125 11.734375 \r\nQ 24.65625 6.203125 33.40625 6.203125 \r\nQ 37.3125 6.203125 41.140625 7.25 \r\nQ 44.96875 8.296875 48.78125 10.40625 \r\nL 48.78125 2.09375 \r\nQ 45.015625 0.34375 40.984375 -0.53125 \r\nQ 36.96875 -1.421875 32.421875 -1.421875 \r\nQ 20.0625 -1.421875 12.78125 6.34375 \r\nQ 5.515625 14.109375 5.515625 27.296875 \r\nQ 5.515625 40.671875 12.859375 48.328125 \r\nQ 20.21875 56 33.015625 56 \r\nQ 37.15625 56 41.109375 55.140625 \r\nQ 45.0625 54.296875 48.78125 52.59375 \r\nz\r\n\" id=\"DejaVuSans-99\"/>\r\n    </defs>\r\n    <g transform=\"translate(7.2 167.49533)scale(0.1 -0.1)\">\r\n     <use xlink:href=\"#DejaVuSans-65\"/>\r\n     <use x=\"68.408203\" xlink:href=\"#DejaVuSans-109\"/>\r\n     <use x=\"165.820312\" xlink:href=\"#DejaVuSans-101\"/>\r\n     <use x=\"227.34375\" xlink:href=\"#DejaVuSans-114\"/>\r\n     <use x=\"268.457031\" xlink:href=\"#DejaVuSans-105\"/>\r\n     <use x=\"296.240234\" xlink:href=\"#DejaVuSans-99\"/>\r\n     <use x=\"351.220703\" xlink:href=\"#DejaVuSans-97\"/>\r\n     <use x=\"412.5\" xlink:href=\"#DejaVuSans-110\"/>\r\n    </g>\r\n   </g>\r\n   <g id=\"text_6\">\r\n    <!-- 18.9 -->\r\n    <defs>\r\n     <path d=\"M 31.78125 34.625 \r\nQ 24.75 34.625 20.71875 30.859375 \r\nQ 16.703125 27.09375 16.703125 20.515625 \r\nQ 16.703125 13.921875 20.71875 10.15625 \r\nQ 24.75 6.390625 31.78125 6.390625 \r\nQ 38.8125 6.390625 42.859375 10.171875 \r\nQ 46.921875 13.96875 46.921875 20.515625 \r\nQ 46.921875 27.09375 42.890625 30.859375 \r\nQ 38.875 34.625 31.78125 34.625 \r\nz\r\nM 21.921875 38.8125 \r\nQ 15.578125 40.375 12.03125 44.71875 \r\nQ 8.5 49.078125 8.5 55.328125 \r\nQ 8.5 64.0625 14.71875 69.140625 \r\nQ 20.953125 74.21875 31.78125 74.21875 \r\nQ 42.671875 74.21875 48.875 69.140625 \r\nQ 55.078125 64.0625 55.078125 55.328125 \r\nQ 55.078125 49.078125 51.53125 44.71875 \r\nQ 48 40.375 41.703125 38.8125 \r\nQ 48.828125 37.15625 52.796875 32.3125 \r\nQ 56.78125 27.484375 56.78125 20.515625 \r\nQ 56.78125 9.90625 50.3125 4.234375 \r\nQ 43.84375 -1.421875 31.78125 -1.421875 \r\nQ 19.734375 -1.421875 13.25 4.234375 \r\nQ 6.78125 9.90625 6.78125 20.515625 \r\nQ 6.78125 27.484375 10.78125 32.3125 \r\nQ 14.796875 37.15625 21.921875 38.8125 \r\nz\r\nM 18.3125 54.390625 \r\nQ 18.3125 48.734375 21.84375 45.5625 \r\nQ 25.390625 42.390625 31.78125 42.390625 \r\nQ 38.140625 42.390625 41.71875 45.5625 \r\nQ 45.3125 48.734375 45.3125 54.390625 \r\nQ 45.3125 60.0625 41.71875 63.234375 \r\nQ 38.140625 66.40625 31.78125 66.40625 \r\nQ 25.390625 66.40625 21.84375 63.234375 \r\nQ 18.3125 60.0625 18.3125 54.390625 \r\nz\r\n\" id=\"DejaVuSans-56\"/>\r\n    </defs>\r\n    <g transform=\"translate(84.355912 152.178135)scale(0.1 -0.1)\">\r\n     <use xlink:href=\"#DejaVuSans-49\"/>\r\n     <use x=\"63.623047\" xlink:href=\"#DejaVuSans-56\"/>\r\n     <use x=\"127.246094\" xlink:href=\"#DejaVuSans-46\"/>\r\n     <use x=\"159.033203\" xlink:href=\"#DejaVuSans-57\"/>\r\n    </g>\r\n   </g>\r\n   <g id=\"text_7\">\r\n    <!-- Southwest -->\r\n    <defs>\r\n     <path d=\"M 30.609375 48.390625 \r\nQ 23.390625 48.390625 19.1875 42.75 \r\nQ 14.984375 37.109375 14.984375 27.296875 \r\nQ 14.984375 17.484375 19.15625 11.84375 \r\nQ 23.34375 6.203125 30.609375 6.203125 \r\nQ 37.796875 6.203125 41.984375 11.859375 \r\nQ 46.1875 17.53125 46.1875 27.296875 \r\nQ 46.1875 37.015625 41.984375 42.703125 \r\nQ 37.796875 48.390625 30.609375 48.390625 \r\nz\r\nM 30.609375 56 \r\nQ 42.328125 56 49.015625 48.375 \r\nQ 55.71875 40.765625 55.71875 27.296875 \r\nQ 55.71875 13.875 49.015625 6.21875 \r\nQ 42.328125 -1.421875 30.609375 -1.421875 \r\nQ 18.84375 -1.421875 12.171875 6.21875 \r\nQ 5.515625 13.875 5.515625 27.296875 \r\nQ 5.515625 40.765625 12.171875 48.375 \r\nQ 18.84375 56 30.609375 56 \r\nz\r\n\" id=\"DejaVuSans-111\"/>\r\n     <path d=\"M 8.5 21.578125 \r\nL 8.5 54.6875 \r\nL 17.484375 54.6875 \r\nL 17.484375 21.921875 \r\nQ 17.484375 14.15625 20.5 10.265625 \r\nQ 23.53125 6.390625 29.59375 6.390625 \r\nQ 36.859375 6.390625 41.078125 11.03125 \r\nQ 45.3125 15.671875 45.3125 23.6875 \r\nL 45.3125 54.6875 \r\nL 54.296875 54.6875 \r\nL 54.296875 0 \r\nL 45.3125 0 \r\nL 45.3125 8.40625 \r\nQ 42.046875 3.421875 37.71875 1 \r\nQ 33.40625 -1.421875 27.6875 -1.421875 \r\nQ 18.265625 -1.421875 13.375 4.4375 \r\nQ 8.5 10.296875 8.5 21.578125 \r\nz\r\nM 31.109375 56 \r\nz\r\n\" id=\"DejaVuSans-117\"/>\r\n     <path d=\"M 54.890625 33.015625 \r\nL 54.890625 0 \r\nL 45.90625 0 \r\nL 45.90625 32.71875 \r\nQ 45.90625 40.484375 42.875 44.328125 \r\nQ 39.84375 48.1875 33.796875 48.1875 \r\nQ 26.515625 48.1875 22.3125 43.546875 \r\nQ 18.109375 38.921875 18.109375 30.90625 \r\nL 18.109375 0 \r\nL 9.078125 0 \r\nL 9.078125 75.984375 \r\nL 18.109375 75.984375 \r\nL 18.109375 46.1875 \r\nQ 21.34375 51.125 25.703125 53.5625 \r\nQ 30.078125 56 35.796875 56 \r\nQ 45.21875 56 50.046875 50.171875 \r\nQ 54.890625 44.34375 54.890625 33.015625 \r\nz\r\n\" id=\"DejaVuSans-104\"/>\r\n    </defs>\r\n    <g transform=\"translate(82.595979 229.026694)scale(0.1 -0.1)\">\r\n     <use xlink:href=\"#DejaVuSans-83\"/>\r\n     <use x=\"63.476562\" xlink:href=\"#DejaVuSans-111\"/>\r\n     <use x=\"124.658203\" xlink:href=\"#DejaVuSans-117\"/>\r\n     <use x=\"188.037109\" xlink:href=\"#DejaVuSans-116\"/>\r\n     <use x=\"227.246094\" xlink:href=\"#DejaVuSans-104\"/>\r\n     <use x=\"290.625\" xlink:href=\"#DejaVuSans-119\"/>\r\n     <use x=\"372.412109\" xlink:href=\"#DejaVuSans-101\"/>\r\n     <use x=\"433.935547\" xlink:href=\"#DejaVuSans-115\"/>\r\n     <use x=\"486.035156\" xlink:href=\"#DejaVuSans-116\"/>\r\n    </g>\r\n   </g>\r\n   <g id=\"text_8\">\r\n    <!-- 16.5 -->\r\n    <defs>\r\n     <path d=\"M 10.796875 72.90625 \r\nL 49.515625 72.90625 \r\nL 49.515625 64.59375 \r\nL 19.828125 64.59375 \r\nL 19.828125 46.734375 \r\nQ 21.96875 47.46875 24.109375 47.828125 \r\nQ 26.265625 48.1875 28.421875 48.1875 \r\nQ 40.625 48.1875 47.75 41.5 \r\nQ 54.890625 34.8125 54.890625 23.390625 \r\nQ 54.890625 11.625 47.5625 5.09375 \r\nQ 40.234375 -1.421875 26.90625 -1.421875 \r\nQ 22.3125 -1.421875 17.546875 -0.640625 \r\nQ 12.796875 0.140625 7.71875 1.703125 \r\nL 7.71875 11.625 \r\nQ 12.109375 9.234375 16.796875 8.0625 \r\nQ 21.484375 6.890625 26.703125 6.890625 \r\nQ 35.15625 6.890625 40.078125 11.328125 \r\nQ 45.015625 15.765625 45.015625 23.390625 \r\nQ 45.015625 31 40.078125 35.4375 \r\nQ 35.15625 39.890625 26.703125 39.890625 \r\nQ 22.75 39.890625 18.8125 39.015625 \r\nQ 14.890625 38.140625 10.796875 36.28125 \r\nz\r\n\" id=\"DejaVuSans-53\"/>\r\n    </defs>\r\n    <g transform=\"translate(128.173321 185.740697)scale(0.1 -0.1)\">\r\n     <use xlink:href=\"#DejaVuSans-49\"/>\r\n     <use x=\"63.623047\" xlink:href=\"#DejaVuSans-54\"/>\r\n     <use x=\"127.246094\" xlink:href=\"#DejaVuSans-46\"/>\r\n     <use x=\"159.033203\" xlink:href=\"#DejaVuSans-53\"/>\r\n    </g>\r\n   </g>\r\n   <g id=\"text_9\">\r\n    <!-- Delta -->\r\n    <defs>\r\n     <path d=\"M 19.671875 64.796875 \r\nL 19.671875 8.109375 \r\nL 31.59375 8.109375 \r\nQ 46.6875 8.109375 53.6875 14.9375 \r\nQ 60.6875 21.78125 60.6875 36.53125 \r\nQ 60.6875 51.171875 53.6875 57.984375 \r\nQ 46.6875 64.796875 31.59375 64.796875 \r\nz\r\nM 9.8125 72.90625 \r\nL 30.078125 72.90625 \r\nQ 51.265625 72.90625 61.171875 64.09375 \r\nQ 71.09375 55.28125 71.09375 36.53125 \r\nQ 71.09375 17.671875 61.125 8.828125 \r\nQ 51.171875 0 30.078125 0 \r\nL 9.8125 0 \r\nz\r\n\" id=\"DejaVuSans-68\"/>\r\n     <path d=\"M 9.421875 75.984375 \r\nL 18.40625 75.984375 \r\nL 18.40625 0 \r\nL 9.421875 0 \r\nz\r\n\" id=\"DejaVuSans-108\"/>\r\n    </defs>\r\n    <g transform=\"translate(218.820168 193.836499)scale(0.1 -0.1)\">\r\n     <use xlink:href=\"#DejaVuSans-68\"/>\r\n     <use x=\"77.001953\" xlink:href=\"#DejaVuSans-101\"/>\r\n     <use x=\"138.525391\" xlink:href=\"#DejaVuSans-108\"/>\r\n     <use x=\"166.308594\" xlink:href=\"#DejaVuSans-116\"/>\r\n     <use x=\"205.517578\" xlink:href=\"#DejaVuSans-97\"/>\r\n    </g>\r\n   </g>\r\n   <g id=\"text_10\">\r\n    <!-- 14.9 -->\r\n    <defs>\r\n     <path d=\"M 37.796875 64.3125 \r\nL 12.890625 25.390625 \r\nL 37.796875 25.390625 \r\nz\r\nM 35.203125 72.90625 \r\nL 47.609375 72.90625 \r\nL 47.609375 25.390625 \r\nL 58.015625 25.390625 \r\nL 58.015625 17.1875 \r\nL 47.609375 17.1875 \r\nL 47.609375 0 \r\nL 37.796875 0 \r\nL 37.796875 17.1875 \r\nL 4.890625 17.1875 \r\nL 4.890625 26.703125 \r\nz\r\n\" id=\"DejaVuSans-52\"/>\r\n    </defs>\r\n    <g transform=\"translate(173.828276 166.546045)scale(0.1 -0.1)\">\r\n     <use xlink:href=\"#DejaVuSans-49\"/>\r\n     <use x=\"63.623047\" xlink:href=\"#DejaVuSans-52\"/>\r\n     <use x=\"127.246094\" xlink:href=\"#DejaVuSans-46\"/>\r\n     <use x=\"159.033203\" xlink:href=\"#DejaVuSans-57\"/>\r\n    </g>\r\n   </g>\r\n   <g id=\"text_11\">\r\n    <!-- Virgin America -->\r\n    <defs>\r\n     <path d=\"M 28.609375 0 \r\nL 0.78125 72.90625 \r\nL 11.078125 72.90625 \r\nL 34.1875 11.53125 \r\nL 57.328125 72.90625 \r\nL 67.578125 72.90625 \r\nL 39.796875 0 \r\nz\r\n\" id=\"DejaVuSans-86\"/>\r\n     <path d=\"M 45.40625 27.984375 \r\nQ 45.40625 37.75 41.375 43.109375 \r\nQ 37.359375 48.484375 30.078125 48.484375 \r\nQ 22.859375 48.484375 18.828125 43.109375 \r\nQ 14.796875 37.75 14.796875 27.984375 \r\nQ 14.796875 18.265625 18.828125 12.890625 \r\nQ 22.859375 7.515625 30.078125 7.515625 \r\nQ 37.359375 7.515625 41.375 12.890625 \r\nQ 45.40625 18.265625 45.40625 27.984375 \r\nz\r\nM 54.390625 6.78125 \r\nQ 54.390625 -7.171875 48.1875 -13.984375 \r\nQ 42 -20.796875 29.203125 -20.796875 \r\nQ 24.46875 -20.796875 20.265625 -20.09375 \r\nQ 16.0625 -19.390625 12.109375 -17.921875 \r\nL 12.109375 -9.1875 \r\nQ 16.0625 -11.328125 19.921875 -12.34375 \r\nQ 23.78125 -13.375 27.78125 -13.375 \r\nQ 36.625 -13.375 41.015625 -8.765625 \r\nQ 45.40625 -4.15625 45.40625 5.171875 \r\nL 45.40625 9.625 \r\nQ 42.625 4.78125 38.28125 2.390625 \r\nQ 33.9375 0 27.875 0 \r\nQ 17.828125 0 11.671875 7.65625 \r\nQ 5.515625 15.328125 5.515625 27.984375 \r\nQ 5.515625 40.671875 11.671875 48.328125 \r\nQ 17.828125 56 27.875 56 \r\nQ 33.9375 56 38.28125 53.609375 \r\nQ 42.625 51.21875 45.40625 46.390625 \r\nL 45.40625 54.6875 \r\nL 54.390625 54.6875 \r\nz\r\n\" id=\"DejaVuSans-103\"/>\r\n    </defs>\r\n    <g transform=\"translate(239.479684 143.798113)scale(0.1 -0.1)\">\r\n     <use xlink:href=\"#DejaVuSans-86\"/>\r\n     <use x=\"68.376953\" xlink:href=\"#DejaVuSans-105\"/>\r\n     <use x=\"96.160156\" xlink:href=\"#DejaVuSans-114\"/>\r\n     <use x=\"137.257812\" xlink:href=\"#DejaVuSans-103\"/>\r\n     <use x=\"200.734375\" xlink:href=\"#DejaVuSans-105\"/>\r\n     <use x=\"228.517578\" xlink:href=\"#DejaVuSans-110\"/>\r\n     <use x=\"291.896484\" xlink:href=\"#DejaVuSans-32\"/>\r\n     <use x=\"323.683594\" xlink:href=\"#DejaVuSans-65\"/>\r\n     <use x=\"392.091797\" xlink:href=\"#DejaVuSans-109\"/>\r\n     <use x=\"489.503906\" xlink:href=\"#DejaVuSans-101\"/>\r\n     <use x=\"551.027344\" xlink:href=\"#DejaVuSans-114\"/>\r\n     <use x=\"592.140625\" xlink:href=\"#DejaVuSans-105\"/>\r\n     <use x=\"619.923828\" xlink:href=\"#DejaVuSans-99\"/>\r\n     <use x=\"674.904297\" xlink:href=\"#DejaVuSans-97\"/>\r\n    </g>\r\n   </g>\r\n   <g id=\"text_12\">\r\n    <!-- 3.3 -->\r\n    <defs>\r\n     <path d=\"M 40.578125 39.3125 \r\nQ 47.65625 37.796875 51.625 33 \r\nQ 55.609375 28.21875 55.609375 21.1875 \r\nQ 55.609375 10.40625 48.1875 4.484375 \r\nQ 40.765625 -1.421875 27.09375 -1.421875 \r\nQ 22.515625 -1.421875 17.65625 -0.515625 \r\nQ 12.796875 0.390625 7.625 2.203125 \r\nL 7.625 11.71875 \r\nQ 11.71875 9.328125 16.59375 8.109375 \r\nQ 21.484375 6.890625 26.8125 6.890625 \r\nQ 36.078125 6.890625 40.9375 10.546875 \r\nQ 45.796875 14.203125 45.796875 21.1875 \r\nQ 45.796875 27.640625 41.28125 31.265625 \r\nQ 36.765625 34.90625 28.71875 34.90625 \r\nL 20.21875 34.90625 \r\nL 20.21875 43.015625 \r\nL 29.109375 43.015625 \r\nQ 36.375 43.015625 40.234375 45.921875 \r\nQ 44.09375 48.828125 44.09375 54.296875 \r\nQ 44.09375 59.90625 40.109375 62.90625 \r\nQ 36.140625 65.921875 28.71875 65.921875 \r\nQ 24.65625 65.921875 20.015625 65.03125 \r\nQ 15.375 64.15625 9.8125 62.3125 \r\nL 9.8125 71.09375 \r\nQ 15.4375 72.65625 20.34375 73.4375 \r\nQ 25.25 74.21875 29.59375 74.21875 \r\nQ 40.828125 74.21875 47.359375 69.109375 \r\nQ 53.90625 64.015625 53.90625 55.328125 \r\nQ 53.90625 49.265625 50.4375 45.09375 \r\nQ 46.96875 40.921875 40.578125 39.3125 \r\nz\r\n\" id=\"DejaVuSans-51\"/>\r\n    </defs>\r\n    <g transform=\"translate(188.278353 139.25238)scale(0.1 -0.1)\">\r\n     <use xlink:href=\"#DejaVuSans-51\"/>\r\n     <use x=\"63.623047\" xlink:href=\"#DejaVuSans-46\"/>\r\n     <use x=\"95.410156\" xlink:href=\"#DejaVuSans-51\"/>\r\n    </g>\r\n   </g>\r\n   <g id=\"text_13\">\r\n    <!-- Number of tweets per Airlne -->\r\n    <defs>\r\n     <path d=\"M 9.8125 72.90625 \r\nL 23.09375 72.90625 \r\nL 55.421875 11.921875 \r\nL 55.421875 72.90625 \r\nL 64.984375 72.90625 \r\nL 64.984375 0 \r\nL 51.703125 0 \r\nL 19.390625 60.984375 \r\nL 19.390625 0 \r\nL 9.8125 0 \r\nz\r\n\" id=\"DejaVuSans-78\"/>\r\n     <path d=\"M 48.6875 27.296875 \r\nQ 48.6875 37.203125 44.609375 42.84375 \r\nQ 40.53125 48.484375 33.40625 48.484375 \r\nQ 26.265625 48.484375 22.1875 42.84375 \r\nQ 18.109375 37.203125 18.109375 27.296875 \r\nQ 18.109375 17.390625 22.1875 11.75 \r\nQ 26.265625 6.109375 33.40625 6.109375 \r\nQ 40.53125 6.109375 44.609375 11.75 \r\nQ 48.6875 17.390625 48.6875 27.296875 \r\nz\r\nM 18.109375 46.390625 \r\nQ 20.953125 51.265625 25.265625 53.625 \r\nQ 29.59375 56 35.59375 56 \r\nQ 45.5625 56 51.78125 48.09375 \r\nQ 58.015625 40.1875 58.015625 27.296875 \r\nQ 58.015625 14.40625 51.78125 6.484375 \r\nQ 45.5625 -1.421875 35.59375 -1.421875 \r\nQ 29.59375 -1.421875 25.265625 0.953125 \r\nQ 20.953125 3.328125 18.109375 8.203125 \r\nL 18.109375 0 \r\nL 9.078125 0 \r\nL 9.078125 75.984375 \r\nL 18.109375 75.984375 \r\nz\r\n\" id=\"DejaVuSans-98\"/>\r\n     <path d=\"M 37.109375 75.984375 \r\nL 37.109375 68.5 \r\nL 28.515625 68.5 \r\nQ 23.6875 68.5 21.796875 66.546875 \r\nQ 19.921875 64.59375 19.921875 59.515625 \r\nL 19.921875 54.6875 \r\nL 34.71875 54.6875 \r\nL 34.71875 47.703125 \r\nL 19.921875 47.703125 \r\nL 19.921875 0 \r\nL 10.890625 0 \r\nL 10.890625 47.703125 \r\nL 2.296875 47.703125 \r\nL 2.296875 54.6875 \r\nL 10.890625 54.6875 \r\nL 10.890625 58.5 \r\nQ 10.890625 67.625 15.140625 71.796875 \r\nQ 19.390625 75.984375 28.609375 75.984375 \r\nz\r\n\" id=\"DejaVuSans-102\"/>\r\n     <path d=\"M 18.109375 8.203125 \r\nL 18.109375 -20.796875 \r\nL 9.078125 -20.796875 \r\nL 9.078125 54.6875 \r\nL 18.109375 54.6875 \r\nL 18.109375 46.390625 \r\nQ 20.953125 51.265625 25.265625 53.625 \r\nQ 29.59375 56 35.59375 56 \r\nQ 45.5625 56 51.78125 48.09375 \r\nQ 58.015625 40.1875 58.015625 27.296875 \r\nQ 58.015625 14.40625 51.78125 6.484375 \r\nQ 45.5625 -1.421875 35.59375 -1.421875 \r\nQ 29.59375 -1.421875 25.265625 0.953125 \r\nQ 20.953125 3.328125 18.109375 8.203125 \r\nz\r\nM 48.6875 27.296875 \r\nQ 48.6875 37.203125 44.609375 42.84375 \r\nQ 40.53125 48.484375 33.40625 48.484375 \r\nQ 26.265625 48.484375 22.1875 42.84375 \r\nQ 18.109375 37.203125 18.109375 27.296875 \r\nQ 18.109375 17.390625 22.1875 11.75 \r\nQ 26.265625 6.109375 33.40625 6.109375 \r\nQ 40.53125 6.109375 44.609375 11.75 \r\nQ 48.6875 17.390625 48.6875 27.296875 \r\nz\r\n\" id=\"DejaVuSans-112\"/>\r\n    </defs>\r\n    <g transform=\"translate(59.328943 16.318125)scale(0.12 -0.12)\">\r\n     <use xlink:href=\"#DejaVuSans-78\"/>\r\n     <use x=\"74.804688\" xlink:href=\"#DejaVuSans-117\"/>\r\n     <use x=\"138.183594\" xlink:href=\"#DejaVuSans-109\"/>\r\n     <use x=\"235.595703\" xlink:href=\"#DejaVuSans-98\"/>\r\n     <use x=\"299.072266\" xlink:href=\"#DejaVuSans-101\"/>\r\n     <use x=\"360.595703\" xlink:href=\"#DejaVuSans-114\"/>\r\n     <use x=\"401.708984\" xlink:href=\"#DejaVuSans-32\"/>\r\n     <use x=\"433.496094\" xlink:href=\"#DejaVuSans-111\"/>\r\n     <use x=\"494.677734\" xlink:href=\"#DejaVuSans-102\"/>\r\n     <use x=\"529.882812\" xlink:href=\"#DejaVuSans-32\"/>\r\n     <use x=\"561.669922\" xlink:href=\"#DejaVuSans-116\"/>\r\n     <use x=\"600.878906\" xlink:href=\"#DejaVuSans-119\"/>\r\n     <use x=\"682.666016\" xlink:href=\"#DejaVuSans-101\"/>\r\n     <use x=\"744.189453\" xlink:href=\"#DejaVuSans-101\"/>\r\n     <use x=\"805.712891\" xlink:href=\"#DejaVuSans-116\"/>\r\n     <use x=\"844.921875\" xlink:href=\"#DejaVuSans-115\"/>\r\n     <use x=\"897.021484\" xlink:href=\"#DejaVuSans-32\"/>\r\n     <use x=\"928.808594\" xlink:href=\"#DejaVuSans-112\"/>\r\n     <use x=\"992.285156\" xlink:href=\"#DejaVuSans-101\"/>\r\n     <use x=\"1053.808594\" xlink:href=\"#DejaVuSans-114\"/>\r\n     <use x=\"1094.921875\" xlink:href=\"#DejaVuSans-32\"/>\r\n     <use x=\"1126.708984\" xlink:href=\"#DejaVuSans-65\"/>\r\n     <use x=\"1195.117188\" xlink:href=\"#DejaVuSans-105\"/>\r\n     <use x=\"1222.900391\" xlink:href=\"#DejaVuSans-114\"/>\r\n     <use x=\"1264.013672\" xlink:href=\"#DejaVuSans-108\"/>\r\n     <use x=\"1291.796875\" xlink:href=\"#DejaVuSans-110\"/>\r\n     <use x=\"1355.175781\" xlink:href=\"#DejaVuSans-101\"/>\r\n    </g>\r\n   </g>\r\n  </g>\r\n </g>\r\n</svg>\r\n",
      "image/png": "[encoded data removed]"
     },
     "metadata": {}
    }
   ],
   "source": [
    "plt.title(\"Number of tweets per Airlne\")\n",
    "labels = ['United','US Airways','American','Southwest','Delta','Virgin America']\n",
    "sizes = [2928,2152,2078,1817,1639,366]\n",
    "plt.pie(sizes,labels=labels,autopct='%.1f')\n",
    "plt.show()"
   ]
  },
  {
   "cell_type": "code",
   "execution_count": 14,
   "metadata": {},
   "outputs": [
    {
     "output_type": "execute_result",
     "data": {
      "text/plain": "negative    6851\nneutral     2327\npositive    1802\nName: airline_sentiment, dtype: int64"
     },
     "metadata": {},
     "execution_count": 14
    }
   ],
   "source": [
    "training_data['airline_sentiment'].value_counts()"
   ]
  },
  {
   "cell_type": "markdown",
   "metadata": {},
   "source": [
    "# Plot the Graph to visualize the airline_sentiments"
   ]
  },
  {
   "cell_type": "code",
   "execution_count": 15,
   "metadata": {},
   "outputs": [
    {
     "output_type": "display_data",
     "data": {
      "text/plain": "<Figure size 432x288 with 1 Axes>",
      "image/svg+xml": "<?xml version=\"1.0\" encoding=\"utf-8\" standalone=\"no\"?>\r\n<!DOCTYPE svg PUBLIC \"-//W3C//DTD SVG 1.1//EN\"\r\n  \"http://www.w3.org/Graphics/SVG/1.1/DTD/svg11.dtd\">\r\n<!-- Created with matplotlib (https://matplotlib.org/) -->\r\n<svg height=\"246.958125pt\" version=\"1.1\" viewBox=\"0 0 245.2579 246.958125\" width=\"245.2579pt\" xmlns=\"http://www.w3.org/2000/svg\" xmlns:xlink=\"http://www.w3.org/1999/xlink\">\r\n <defs>\r\n  <style type=\"text/css\">\r\n*{stroke-linecap:butt;stroke-linejoin:round;}\r\n  </style>\r\n </defs>\r\n <g id=\"figure_1\">\r\n  <g id=\"patch_1\">\r\n   <path d=\"M 0 246.958125 \r\nL 245.2579 246.958125 \r\nL 245.2579 0 \r\nL 0 0 \r\nz\r\n\" style=\"fill:none;\"/>\r\n  </g>\r\n  <g id=\"axes_1\">\r\n   <g id=\"patch_2\">\r\n    <path d=\"M 202.896 131.038125 \r\nC 202.896 116.759862 199.380051 102.698871 192.659685 90.101035 \r\nC 185.939319 77.503199 176.219064 66.75192 164.360189 58.79982 \r\nC 152.501314 50.847721 138.864732 45.936817 124.65872 44.50224 \r\nC 110.452707 43.067664 96.109611 45.153075 82.900308 50.573695 \r\nC 69.691006 55.994315 58.017509 64.585172 48.914155 75.58507 \r\nC 39.810801 86.584967 33.554642 99.659133 30.700007 113.649125 \r\nC 27.845372 127.639116 28.47914 142.119161 32.545155 155.806247 \r\nC 36.611171 169.493332 43.985688 181.970906 54.015285 192.133385 \r\nL 115.92 131.038125 \r\nL 202.896 131.038125 \r\nz\r\n\" style=\"fill:#1f77b4;\"/>\r\n   </g>\r\n   <g id=\"patch_3\">\r\n    <path d=\"M 54.015285 192.133385 \r\nC 67.698301 205.997688 85.650112 214.871306 104.974569 217.322667 \r\nC 124.299027 219.774027 143.897872 215.663813 160.609243 205.655121 \r\nL 115.92 131.038125 \r\nL 54.015285 192.133385 \r\nz\r\n\" style=\"fill:#ff7f0e;\"/>\r\n   </g>\r\n   <g id=\"patch_4\">\r\n    <path d=\"M 160.609243 205.655121 \r\nC 173.503698 197.932438 184.178818 186.99762 191.589398 173.921301 \r\nC 198.999977 160.844982 202.895999 146.06833 202.896 131.038133 \r\nL 115.92 131.038125 \r\nL 160.609243 205.655121 \r\nz\r\n\" style=\"fill:#2ca02c;\"/>\r\n   </g>\r\n   <g id=\"matplotlib.axis_1\"/>\r\n   <g id=\"matplotlib.axis_2\"/>\r\n   <g id=\"text_1\">\r\n    <!-- Negative -->\r\n    <defs>\r\n     <path d=\"M 9.8125 72.90625 \r\nL 23.09375 72.90625 \r\nL 55.421875 11.921875 \r\nL 55.421875 72.90625 \r\nL 64.984375 72.90625 \r\nL 64.984375 0 \r\nL 51.703125 0 \r\nL 19.390625 60.984375 \r\nL 19.390625 0 \r\nL 9.8125 0 \r\nz\r\n\" id=\"DejaVuSans-78\"/>\r\n     <path d=\"M 56.203125 29.59375 \r\nL 56.203125 25.203125 \r\nL 14.890625 25.203125 \r\nQ 15.484375 15.921875 20.484375 11.0625 \r\nQ 25.484375 6.203125 34.421875 6.203125 \r\nQ 39.59375 6.203125 44.453125 7.46875 \r\nQ 49.3125 8.734375 54.109375 11.28125 \r\nL 54.109375 2.78125 \r\nQ 49.265625 0.734375 44.1875 -0.34375 \r\nQ 39.109375 -1.421875 33.890625 -1.421875 \r\nQ 20.796875 -1.421875 13.15625 6.1875 \r\nQ 5.515625 13.8125 5.515625 26.8125 \r\nQ 5.515625 40.234375 12.765625 48.109375 \r\nQ 20.015625 56 32.328125 56 \r\nQ 43.359375 56 49.78125 48.890625 \r\nQ 56.203125 41.796875 56.203125 29.59375 \r\nz\r\nM 47.21875 32.234375 \r\nQ 47.125 39.59375 43.09375 43.984375 \r\nQ 39.0625 48.390625 32.421875 48.390625 \r\nQ 24.90625 48.390625 20.390625 44.140625 \r\nQ 15.875 39.890625 15.1875 32.171875 \r\nz\r\n\" id=\"DejaVuSans-101\"/>\r\n     <path d=\"M 45.40625 27.984375 \r\nQ 45.40625 37.75 41.375 43.109375 \r\nQ 37.359375 48.484375 30.078125 48.484375 \r\nQ 22.859375 48.484375 18.828125 43.109375 \r\nQ 14.796875 37.75 14.796875 27.984375 \r\nQ 14.796875 18.265625 18.828125 12.890625 \r\nQ 22.859375 7.515625 30.078125 7.515625 \r\nQ 37.359375 7.515625 41.375 12.890625 \r\nQ 45.40625 18.265625 45.40625 27.984375 \r\nz\r\nM 54.390625 6.78125 \r\nQ 54.390625 -7.171875 48.1875 -13.984375 \r\nQ 42 -20.796875 29.203125 -20.796875 \r\nQ 24.46875 -20.796875 20.265625 -20.09375 \r\nQ 16.0625 -19.390625 12.109375 -17.921875 \r\nL 12.109375 -9.1875 \r\nQ 16.0625 -11.328125 19.921875 -12.34375 \r\nQ 23.78125 -13.375 27.78125 -13.375 \r\nQ 36.625 -13.375 41.015625 -8.765625 \r\nQ 45.40625 -4.15625 45.40625 5.171875 \r\nL 45.40625 9.625 \r\nQ 42.625 4.78125 38.28125 2.390625 \r\nQ 33.9375 0 27.875 0 \r\nQ 17.828125 0 11.671875 7.65625 \r\nQ 5.515625 15.328125 5.515625 27.984375 \r\nQ 5.515625 40.671875 11.671875 48.328125 \r\nQ 17.828125 56 27.875 56 \r\nQ 33.9375 56 38.28125 53.609375 \r\nQ 42.625 51.21875 45.40625 46.390625 \r\nL 45.40625 54.6875 \r\nL 54.390625 54.6875 \r\nz\r\n\" id=\"DejaVuSans-103\"/>\r\n     <path d=\"M 34.28125 27.484375 \r\nQ 23.390625 27.484375 19.1875 25 \r\nQ 14.984375 22.515625 14.984375 16.5 \r\nQ 14.984375 11.71875 18.140625 8.90625 \r\nQ 21.296875 6.109375 26.703125 6.109375 \r\nQ 34.1875 6.109375 38.703125 11.40625 \r\nQ 43.21875 16.703125 43.21875 25.484375 \r\nL 43.21875 27.484375 \r\nz\r\nM 52.203125 31.203125 \r\nL 52.203125 0 \r\nL 43.21875 0 \r\nL 43.21875 8.296875 \r\nQ 40.140625 3.328125 35.546875 0.953125 \r\nQ 30.953125 -1.421875 24.3125 -1.421875 \r\nQ 15.921875 -1.421875 10.953125 3.296875 \r\nQ 6 8.015625 6 15.921875 \r\nQ 6 25.140625 12.171875 29.828125 \r\nQ 18.359375 34.515625 30.609375 34.515625 \r\nL 43.21875 34.515625 \r\nL 43.21875 35.40625 \r\nQ 43.21875 41.609375 39.140625 45 \r\nQ 35.0625 48.390625 27.6875 48.390625 \r\nQ 23 48.390625 18.546875 47.265625 \r\nQ 14.109375 46.140625 10.015625 43.890625 \r\nL 10.015625 52.203125 \r\nQ 14.9375 54.109375 19.578125 55.046875 \r\nQ 24.21875 56 28.609375 56 \r\nQ 40.484375 56 46.34375 49.84375 \r\nQ 52.203125 43.703125 52.203125 31.203125 \r\nz\r\n\" id=\"DejaVuSans-97\"/>\r\n     <path d=\"M 18.3125 70.21875 \r\nL 18.3125 54.6875 \r\nL 36.8125 54.6875 \r\nL 36.8125 47.703125 \r\nL 18.3125 47.703125 \r\nL 18.3125 18.015625 \r\nQ 18.3125 11.328125 20.140625 9.421875 \r\nQ 21.96875 7.515625 27.59375 7.515625 \r\nL 36.8125 7.515625 \r\nL 36.8125 0 \r\nL 27.59375 0 \r\nQ 17.1875 0 13.234375 3.875 \r\nQ 9.28125 7.765625 9.28125 18.015625 \r\nL 9.28125 47.703125 \r\nL 2.6875 47.703125 \r\nL 2.6875 54.6875 \r\nL 9.28125 54.6875 \r\nL 9.28125 70.21875 \r\nz\r\n\" id=\"DejaVuSans-116\"/>\r\n     <path d=\"M 9.421875 54.6875 \r\nL 18.40625 54.6875 \r\nL 18.40625 0 \r\nL 9.421875 0 \r\nz\r\nM 9.421875 75.984375 \r\nL 18.40625 75.984375 \r\nL 18.40625 64.59375 \r\nL 9.421875 64.59375 \r\nz\r\n\" id=\"DejaVuSans-105\"/>\r\n     <path d=\"M 2.984375 54.6875 \r\nL 12.5 54.6875 \r\nL 29.59375 8.796875 \r\nL 46.6875 54.6875 \r\nL 56.203125 54.6875 \r\nL 35.6875 0 \r\nL 23.484375 0 \r\nz\r\n\" id=\"DejaVuSans-118\"/>\r\n    </defs>\r\n    <g transform=\"translate(34.717089 45.286627)scale(0.1 -0.1)\">\r\n     <use xlink:href=\"#DejaVuSans-78\"/>\r\n     <use x=\"74.804688\" xlink:href=\"#DejaVuSans-101\"/>\r\n     <use x=\"136.328125\" xlink:href=\"#DejaVuSans-103\"/>\r\n     <use x=\"199.804688\" xlink:href=\"#DejaVuSans-97\"/>\r\n     <use x=\"261.083984\" xlink:href=\"#DejaVuSans-116\"/>\r\n     <use x=\"300.292969\" xlink:href=\"#DejaVuSans-105\"/>\r\n     <use x=\"328.076172\" xlink:href=\"#DejaVuSans-118\"/>\r\n     <use x=\"387.255859\" xlink:href=\"#DejaVuSans-101\"/>\r\n    </g>\r\n   </g>\r\n   <g id=\"text_2\">\r\n    <!-- 62.4 -->\r\n    <defs>\r\n     <path d=\"M 33.015625 40.375 \r\nQ 26.375 40.375 22.484375 35.828125 \r\nQ 18.609375 31.296875 18.609375 23.390625 \r\nQ 18.609375 15.53125 22.484375 10.953125 \r\nQ 26.375 6.390625 33.015625 6.390625 \r\nQ 39.65625 6.390625 43.53125 10.953125 \r\nQ 47.40625 15.53125 47.40625 23.390625 \r\nQ 47.40625 31.296875 43.53125 35.828125 \r\nQ 39.65625 40.375 33.015625 40.375 \r\nz\r\nM 52.59375 71.296875 \r\nL 52.59375 62.3125 \r\nQ 48.875 64.0625 45.09375 64.984375 \r\nQ 41.3125 65.921875 37.59375 65.921875 \r\nQ 27.828125 65.921875 22.671875 59.328125 \r\nQ 17.53125 52.734375 16.796875 39.40625 \r\nQ 19.671875 43.65625 24.015625 45.921875 \r\nQ 28.375 48.1875 33.59375 48.1875 \r\nQ 44.578125 48.1875 50.953125 41.515625 \r\nQ 57.328125 34.859375 57.328125 23.390625 \r\nQ 57.328125 12.15625 50.6875 5.359375 \r\nQ 44.046875 -1.421875 33.015625 -1.421875 \r\nQ 20.359375 -1.421875 13.671875 8.265625 \r\nQ 6.984375 17.96875 6.984375 36.375 \r\nQ 6.984375 53.65625 15.1875 63.9375 \r\nQ 23.390625 74.21875 37.203125 74.21875 \r\nQ 40.921875 74.21875 44.703125 73.484375 \r\nQ 48.484375 72.75 52.59375 71.296875 \r\nz\r\n\" id=\"DejaVuSans-54\"/>\r\n     <path d=\"M 19.1875 8.296875 \r\nL 53.609375 8.296875 \r\nL 53.609375 0 \r\nL 7.328125 0 \r\nL 7.328125 8.296875 \r\nQ 12.9375 14.109375 22.625 23.890625 \r\nQ 32.328125 33.6875 34.8125 36.53125 \r\nQ 39.546875 41.84375 41.421875 45.53125 \r\nQ 43.3125 49.21875 43.3125 52.78125 \r\nQ 43.3125 58.59375 39.234375 62.25 \r\nQ 35.15625 65.921875 28.609375 65.921875 \r\nQ 23.96875 65.921875 18.8125 64.3125 \r\nQ 13.671875 62.703125 7.8125 59.421875 \r\nL 7.8125 69.390625 \r\nQ 13.765625 71.78125 18.9375 73 \r\nQ 24.125 74.21875 28.421875 74.21875 \r\nQ 39.75 74.21875 46.484375 68.546875 \r\nQ 53.21875 62.890625 53.21875 53.421875 \r\nQ 53.21875 48.921875 51.53125 44.890625 \r\nQ 49.859375 40.875 45.40625 35.40625 \r\nQ 44.1875 33.984375 37.640625 27.21875 \r\nQ 31.109375 20.453125 19.1875 8.296875 \r\nz\r\n\" id=\"DejaVuSans-50\"/>\r\n     <path d=\"M 10.6875 12.40625 \r\nL 21 12.40625 \r\nL 21 0 \r\nL 10.6875 0 \r\nz\r\n\" id=\"DejaVuSans-46\"/>\r\n     <path d=\"M 37.796875 64.3125 \r\nL 12.890625 25.390625 \r\nL 37.796875 25.390625 \r\nz\r\nM 35.203125 72.90625 \r\nL 47.609375 72.90625 \r\nL 47.609375 25.390625 \r\nL 58.015625 25.390625 \r\nL 58.015625 17.1875 \r\nL 47.609375 17.1875 \r\nL 47.609375 0 \r\nL 37.796875 0 \r\nL 37.796875 17.1875 \r\nL 4.890625 17.1875 \r\nL 4.890625 26.703125 \r\nz\r\n\" id=\"DejaVuSans-52\"/>\r\n    </defs>\r\n    <g transform=\"translate(84.975372 85.518842)scale(0.1 -0.1)\">\r\n     <use xlink:href=\"#DejaVuSans-54\"/>\r\n     <use x=\"63.623047\" xlink:href=\"#DejaVuSans-50\"/>\r\n     <use x=\"127.246094\" xlink:href=\"#DejaVuSans-46\"/>\r\n     <use x=\"159.033203\" xlink:href=\"#DejaVuSans-52\"/>\r\n    </g>\r\n   </g>\r\n   <g id=\"text_3\">\r\n    <!-- Neutral -->\r\n    <defs>\r\n     <path d=\"M 8.5 21.578125 \r\nL 8.5 54.6875 \r\nL 17.484375 54.6875 \r\nL 17.484375 21.921875 \r\nQ 17.484375 14.15625 20.5 10.265625 \r\nQ 23.53125 6.390625 29.59375 6.390625 \r\nQ 36.859375 6.390625 41.078125 11.03125 \r\nQ 45.3125 15.671875 45.3125 23.6875 \r\nL 45.3125 54.6875 \r\nL 54.296875 54.6875 \r\nL 54.296875 0 \r\nL 45.3125 0 \r\nL 45.3125 8.40625 \r\nQ 42.046875 3.421875 37.71875 1 \r\nQ 33.40625 -1.421875 27.6875 -1.421875 \r\nQ 18.265625 -1.421875 13.375 4.4375 \r\nQ 8.5 10.296875 8.5 21.578125 \r\nz\r\nM 31.109375 56 \r\nz\r\n\" id=\"DejaVuSans-117\"/>\r\n     <path d=\"M 41.109375 46.296875 \r\nQ 39.59375 47.171875 37.8125 47.578125 \r\nQ 36.03125 48 33.890625 48 \r\nQ 26.265625 48 22.1875 43.046875 \r\nQ 18.109375 38.09375 18.109375 28.8125 \r\nL 18.109375 0 \r\nL 9.078125 0 \r\nL 9.078125 54.6875 \r\nL 18.109375 54.6875 \r\nL 18.109375 46.1875 \r\nQ 20.953125 51.171875 25.484375 53.578125 \r\nQ 30.03125 56 36.53125 56 \r\nQ 37.453125 56 38.578125 55.875 \r\nQ 39.703125 55.765625 41.0625 55.515625 \r\nz\r\n\" id=\"DejaVuSans-114\"/>\r\n     <path d=\"M 9.421875 75.984375 \r\nL 18.40625 75.984375 \r\nL 18.40625 0 \r\nL 9.421875 0 \r\nz\r\n\" id=\"DejaVuSans-108\"/>\r\n    </defs>\r\n    <g transform=\"translate(66.970651 228.710496)scale(0.1 -0.1)\">\r\n     <use xlink:href=\"#DejaVuSans-78\"/>\r\n     <use x=\"74.804688\" xlink:href=\"#DejaVuSans-101\"/>\r\n     <use x=\"136.328125\" xlink:href=\"#DejaVuSans-117\"/>\r\n     <use x=\"199.707031\" xlink:href=\"#DejaVuSans-116\"/>\r\n     <use x=\"238.916016\" xlink:href=\"#DejaVuSans-114\"/>\r\n     <use x=\"280.029297\" xlink:href=\"#DejaVuSans-97\"/>\r\n     <use x=\"341.308594\" xlink:href=\"#DejaVuSans-108\"/>\r\n    </g>\r\n   </g>\r\n   <g id=\"text_4\">\r\n    <!-- 21.2 -->\r\n    <defs>\r\n     <path d=\"M 12.40625 8.296875 \r\nL 28.515625 8.296875 \r\nL 28.515625 63.921875 \r\nL 10.984375 60.40625 \r\nL 10.984375 69.390625 \r\nL 28.421875 72.90625 \r\nL 38.28125 72.90625 \r\nL 38.28125 8.296875 \r\nL 54.390625 8.296875 \r\nL 54.390625 0 \r\nL 12.40625 0 \r\nz\r\n\" id=\"DejaVuSans-49\"/>\r\n    </defs>\r\n    <g transform=\"translate(98.219929 185.568225)scale(0.1 -0.1)\">\r\n     <use xlink:href=\"#DejaVuSans-50\"/>\r\n     <use x=\"63.623047\" xlink:href=\"#DejaVuSans-49\"/>\r\n     <use x=\"127.246094\" xlink:href=\"#DejaVuSans-46\"/>\r\n     <use x=\"159.033203\" xlink:href=\"#DejaVuSans-50\"/>\r\n    </g>\r\n   </g>\r\n   <g id=\"text_5\">\r\n    <!-- Positive -->\r\n    <defs>\r\n     <path d=\"M 19.671875 64.796875 \r\nL 19.671875 37.40625 \r\nL 32.078125 37.40625 \r\nQ 38.96875 37.40625 42.71875 40.96875 \r\nQ 46.484375 44.53125 46.484375 51.125 \r\nQ 46.484375 57.671875 42.71875 61.234375 \r\nQ 38.96875 64.796875 32.078125 64.796875 \r\nz\r\nM 9.8125 72.90625 \r\nL 32.078125 72.90625 \r\nQ 44.34375 72.90625 50.609375 67.359375 \r\nQ 56.890625 61.8125 56.890625 51.125 \r\nQ 56.890625 40.328125 50.609375 34.8125 \r\nQ 44.34375 29.296875 32.078125 29.296875 \r\nL 19.671875 29.296875 \r\nL 19.671875 0 \r\nL 9.8125 0 \r\nz\r\n\" id=\"DejaVuSans-80\"/>\r\n     <path d=\"M 30.609375 48.390625 \r\nQ 23.390625 48.390625 19.1875 42.75 \r\nQ 14.984375 37.109375 14.984375 27.296875 \r\nQ 14.984375 17.484375 19.15625 11.84375 \r\nQ 23.34375 6.203125 30.609375 6.203125 \r\nQ 37.796875 6.203125 41.984375 11.859375 \r\nQ 46.1875 17.53125 46.1875 27.296875 \r\nQ 46.1875 37.015625 41.984375 42.703125 \r\nQ 37.796875 48.390625 30.609375 48.390625 \r\nz\r\nM 30.609375 56 \r\nQ 42.328125 56 49.015625 48.375 \r\nQ 55.71875 40.765625 55.71875 27.296875 \r\nQ 55.71875 13.875 49.015625 6.21875 \r\nQ 42.328125 -1.421875 30.609375 -1.421875 \r\nQ 18.84375 -1.421875 12.171875 6.21875 \r\nQ 5.515625 13.875 5.515625 27.296875 \r\nQ 5.515625 40.765625 12.171875 48.375 \r\nQ 18.84375 56 30.609375 56 \r\nz\r\n\" id=\"DejaVuSans-111\"/>\r\n     <path d=\"M 44.28125 53.078125 \r\nL 44.28125 44.578125 \r\nQ 40.484375 46.53125 36.375 47.5 \r\nQ 32.28125 48.484375 27.875 48.484375 \r\nQ 21.1875 48.484375 17.84375 46.4375 \r\nQ 14.5 44.390625 14.5 40.28125 \r\nQ 14.5 37.15625 16.890625 35.375 \r\nQ 19.28125 33.59375 26.515625 31.984375 \r\nL 29.59375 31.296875 \r\nQ 39.15625 29.25 43.1875 25.515625 \r\nQ 47.21875 21.78125 47.21875 15.09375 \r\nQ 47.21875 7.46875 41.1875 3.015625 \r\nQ 35.15625 -1.421875 24.609375 -1.421875 \r\nQ 20.21875 -1.421875 15.453125 -0.5625 \r\nQ 10.6875 0.296875 5.421875 2 \r\nL 5.421875 11.28125 \r\nQ 10.40625 8.6875 15.234375 7.390625 \r\nQ 20.0625 6.109375 24.8125 6.109375 \r\nQ 31.15625 6.109375 34.5625 8.28125 \r\nQ 37.984375 10.453125 37.984375 14.40625 \r\nQ 37.984375 18.0625 35.515625 20.015625 \r\nQ 33.0625 21.96875 24.703125 23.78125 \r\nL 21.578125 24.515625 \r\nQ 13.234375 26.265625 9.515625 29.90625 \r\nQ 5.8125 33.546875 5.8125 39.890625 \r\nQ 5.8125 47.609375 11.28125 51.796875 \r\nQ 16.75 56 26.8125 56 \r\nQ 31.78125 56 36.171875 55.265625 \r\nQ 40.578125 54.546875 44.28125 53.078125 \r\nz\r\n\" id=\"DejaVuSans-115\"/>\r\n    </defs>\r\n    <g transform=\"translate(199.156338 180.968994)scale(0.1 -0.1)\">\r\n     <use xlink:href=\"#DejaVuSans-80\"/>\r\n     <use x=\"60.255859\" xlink:href=\"#DejaVuSans-111\"/>\r\n     <use x=\"121.4375\" xlink:href=\"#DejaVuSans-115\"/>\r\n     <use x=\"173.537109\" xlink:href=\"#DejaVuSans-105\"/>\r\n     <use x=\"201.320312\" xlink:href=\"#DejaVuSans-116\"/>\r\n     <use x=\"240.529297\" xlink:href=\"#DejaVuSans-105\"/>\r\n     <use x=\"268.3125\" xlink:href=\"#DejaVuSans-118\"/>\r\n     <use x=\"327.492188\" xlink:href=\"#DejaVuSans-101\"/>\r\n    </g>\r\n   </g>\r\n   <g id=\"text_6\">\r\n    <!-- 16.4 -->\r\n    <g transform=\"translate(150.188826 159.527406)scale(0.1 -0.1)\">\r\n     <use xlink:href=\"#DejaVuSans-49\"/>\r\n     <use x=\"63.623047\" xlink:href=\"#DejaVuSans-54\"/>\r\n     <use x=\"127.246094\" xlink:href=\"#DejaVuSans-46\"/>\r\n     <use x=\"159.033203\" xlink:href=\"#DejaVuSans-52\"/>\r\n    </g>\r\n   </g>\r\n   <g id=\"text_7\">\r\n    <!-- Airline Sentiments -->\r\n    <defs>\r\n     <path d=\"M 34.1875 63.1875 \r\nL 20.796875 26.90625 \r\nL 47.609375 26.90625 \r\nz\r\nM 28.609375 72.90625 \r\nL 39.796875 72.90625 \r\nL 67.578125 0 \r\nL 57.328125 0 \r\nL 50.6875 18.703125 \r\nL 17.828125 18.703125 \r\nL 11.1875 0 \r\nL 0.78125 0 \r\nz\r\n\" id=\"DejaVuSans-65\"/>\r\n     <path d=\"M 54.890625 33.015625 \r\nL 54.890625 0 \r\nL 45.90625 0 \r\nL 45.90625 32.71875 \r\nQ 45.90625 40.484375 42.875 44.328125 \r\nQ 39.84375 48.1875 33.796875 48.1875 \r\nQ 26.515625 48.1875 22.3125 43.546875 \r\nQ 18.109375 38.921875 18.109375 30.90625 \r\nL 18.109375 0 \r\nL 9.078125 0 \r\nL 9.078125 54.6875 \r\nL 18.109375 54.6875 \r\nL 18.109375 46.1875 \r\nQ 21.34375 51.125 25.703125 53.5625 \r\nQ 30.078125 56 35.796875 56 \r\nQ 45.21875 56 50.046875 50.171875 \r\nQ 54.890625 44.34375 54.890625 33.015625 \r\nz\r\n\" id=\"DejaVuSans-110\"/>\r\n     <path id=\"DejaVuSans-32\"/>\r\n     <path d=\"M 53.515625 70.515625 \r\nL 53.515625 60.890625 \r\nQ 47.90625 63.578125 42.921875 64.890625 \r\nQ 37.9375 66.21875 33.296875 66.21875 \r\nQ 25.25 66.21875 20.875 63.09375 \r\nQ 16.5 59.96875 16.5 54.203125 \r\nQ 16.5 49.359375 19.40625 46.890625 \r\nQ 22.3125 44.4375 30.421875 42.921875 \r\nL 36.375 41.703125 \r\nQ 47.40625 39.59375 52.65625 34.296875 \r\nQ 57.90625 29 57.90625 20.125 \r\nQ 57.90625 9.515625 50.796875 4.046875 \r\nQ 43.703125 -1.421875 29.984375 -1.421875 \r\nQ 24.8125 -1.421875 18.96875 -0.25 \r\nQ 13.140625 0.921875 6.890625 3.21875 \r\nL 6.890625 13.375 \r\nQ 12.890625 10.015625 18.65625 8.296875 \r\nQ 24.421875 6.59375 29.984375 6.59375 \r\nQ 38.421875 6.59375 43.015625 9.90625 \r\nQ 47.609375 13.234375 47.609375 19.390625 \r\nQ 47.609375 24.75 44.3125 27.78125 \r\nQ 41.015625 30.8125 33.5 32.328125 \r\nL 27.484375 33.5 \r\nQ 16.453125 35.6875 11.515625 40.375 \r\nQ 6.59375 45.0625 6.59375 53.421875 \r\nQ 6.59375 63.09375 13.40625 68.65625 \r\nQ 20.21875 74.21875 32.171875 74.21875 \r\nQ 37.3125 74.21875 42.625 73.28125 \r\nQ 47.953125 72.359375 53.515625 70.515625 \r\nz\r\n\" id=\"DejaVuSans-83\"/>\r\n     <path d=\"M 52 44.1875 \r\nQ 55.375 50.25 60.0625 53.125 \r\nQ 64.75 56 71.09375 56 \r\nQ 79.640625 56 84.28125 50.015625 \r\nQ 88.921875 44.046875 88.921875 33.015625 \r\nL 88.921875 0 \r\nL 79.890625 0 \r\nL 79.890625 32.71875 \r\nQ 79.890625 40.578125 77.09375 44.375 \r\nQ 74.3125 48.1875 68.609375 48.1875 \r\nQ 61.625 48.1875 57.5625 43.546875 \r\nQ 53.515625 38.921875 53.515625 30.90625 \r\nL 53.515625 0 \r\nL 44.484375 0 \r\nL 44.484375 32.71875 \r\nQ 44.484375 40.625 41.703125 44.40625 \r\nQ 38.921875 48.1875 33.109375 48.1875 \r\nQ 26.21875 48.1875 22.15625 43.53125 \r\nQ 18.109375 38.875 18.109375 30.90625 \r\nL 18.109375 0 \r\nL 9.078125 0 \r\nL 9.078125 54.6875 \r\nL 18.109375 54.6875 \r\nL 18.109375 46.1875 \r\nQ 21.1875 51.21875 25.484375 53.609375 \r\nQ 29.78125 56 35.6875 56 \r\nQ 41.65625 56 45.828125 52.96875 \r\nQ 50 49.953125 52 44.1875 \r\nz\r\n\" id=\"DejaVuSans-109\"/>\r\n    </defs>\r\n    <g transform=\"translate(60.808125 16.318125)scale(0.12 -0.12)\">\r\n     <use xlink:href=\"#DejaVuSans-65\"/>\r\n     <use x=\"68.408203\" xlink:href=\"#DejaVuSans-105\"/>\r\n     <use x=\"96.191406\" xlink:href=\"#DejaVuSans-114\"/>\r\n     <use x=\"137.304688\" xlink:href=\"#DejaVuSans-108\"/>\r\n     <use x=\"165.087891\" xlink:href=\"#DejaVuSans-105\"/>\r\n     <use x=\"192.871094\" xlink:href=\"#DejaVuSans-110\"/>\r\n     <use x=\"256.25\" xlink:href=\"#DejaVuSans-101\"/>\r\n     <use x=\"317.773438\" xlink:href=\"#DejaVuSans-32\"/>\r\n     <use x=\"349.560547\" xlink:href=\"#DejaVuSans-83\"/>\r\n     <use x=\"413.037109\" xlink:href=\"#DejaVuSans-101\"/>\r\n     <use x=\"474.560547\" xlink:href=\"#DejaVuSans-110\"/>\r\n     <use x=\"537.939453\" xlink:href=\"#DejaVuSans-116\"/>\r\n     <use x=\"577.148438\" xlink:href=\"#DejaVuSans-105\"/>\r\n     <use x=\"604.931641\" xlink:href=\"#DejaVuSans-109\"/>\r\n     <use x=\"702.34375\" xlink:href=\"#DejaVuSans-101\"/>\r\n     <use x=\"763.867188\" xlink:href=\"#DejaVuSans-110\"/>\r\n     <use x=\"827.246094\" xlink:href=\"#DejaVuSans-116\"/>\r\n     <use x=\"866.455078\" xlink:href=\"#DejaVuSans-115\"/>\r\n    </g>\r\n   </g>\r\n  </g>\r\n </g>\r\n</svg>\r\n",
      "image/png": "[encoded data removed]"
     },
     "metadata": {}
    }
   ],
   "source": [
    "plt.title(\"Airline Sentiments\")\n",
    "labels = ['Negative','Neutral','Positive']\n",
    "sizes = [6851,2327,1802]\n",
    "plt.pie(sizes,labels=labels,autopct='%.1f')\n",
    "plt.show()"
   ]
  },
  {
   "cell_type": "markdown",
   "metadata": {},
   "source": [
    "# Only Text and Airline sentiments are required from the above Training Data\n",
    "# Fetch them and convert into Numpy array"
   ]
  },
  {
   "cell_type": "code",
   "execution_count": 16,
   "metadata": {
    "tags": []
   },
   "outputs": [
    {
     "output_type": "stream",
     "name": "stdout",
     "text": "10980\n3660\n"
    }
   ],
   "source": [
    "x_train = training_data['text']\n",
    "x_test = testing_data['text']\n",
    "print(len(x_train))\n",
    "print(len(x_test))"
   ]
  },
  {
   "cell_type": "code",
   "execution_count": 17,
   "metadata": {},
   "outputs": [
    {
     "output_type": "execute_result",
     "data": {
      "text/plain": "10980"
     },
     "metadata": {},
     "execution_count": 17
    }
   ],
   "source": [
    "y_train = training_data['airline_sentiment']\n",
    "len(y_train)"
   ]
  },
  {
   "cell_type": "code",
   "execution_count": 18,
   "metadata": {
    "tags": []
   },
   "outputs": [
    {
     "output_type": "stream",
     "name": "stdout",
     "text": "(10980,)\n(10980, 1)\n(10980,)\n(10980, 1)\n"
    }
   ],
   "source": [
    "x_train = np.array(x_train)\n",
    "print(x_train.shape)\n",
    "\n",
    "x_train = x_train.reshape(len(x_train),1)\n",
    "print(x_train.shape)\n",
    "\n",
    "y_train = np.array(y_train)\n",
    "print(y_train.shape)\n",
    "\n",
    "y_train = y_train.reshape(len(y_train),1)\n",
    "print(y_train.shape)"
   ]
  },
  {
   "cell_type": "code",
   "execution_count": 19,
   "metadata": {
    "tags": []
   },
   "outputs": [
    {
     "output_type": "stream",
     "name": "stdout",
     "text": "(3660,)\n(3660, 1)\n"
    }
   ],
   "source": [
    "x_test = np.array(x_test)\n",
    "print(x_test.shape)\n",
    "\n",
    "x_test = x_test.reshape(len(x_test),1)\n",
    "print(x_test.shape)"
   ]
  },
  {
   "cell_type": "code",
   "execution_count": 20,
   "metadata": {
    "tags": []
   },
   "outputs": [
    {
     "output_type": "stream",
     "name": "stdout",
     "text": "(10980, 2)\n"
    },
    {
     "output_type": "execute_result",
     "data": {
      "text/plain": "array([['@SouthwestAir I am scheduled for the morning, 2 days after the fact, yes..not sure why my evening flight was the only one Cancelled Flightled',\n        'negative'],\n       ['@SouthwestAir seeing your workers time in and time out going above and beyond is why I love flying with you guys. Thank you!',\n        'positive'],\n       ['@united Flew ORD to Miami and back and  had great crew, service on both legs. THANKS',\n        'positive'],\n       ...,\n       ['@usairways the. Worst. Ever. #dca #customerservice', 'negative'],\n       ['@nrhodes85: look! Another apology. DO NOT FLY @USAirways',\n        'negative'],\n       ['@united you are by far the worst airline. 4 plane delays on 1 round trip flight. How is that possible.',\n        'negative']], dtype=object)"
     },
     "metadata": {},
     "execution_count": 20
    }
   ],
   "source": [
    "x_y_train = np.append(x_train,y_train,axis=1)\n",
    "print(x_y_train.shape)\n",
    "x_y_train"
   ]
  },
  {
   "cell_type": "code",
   "execution_count": 21,
   "metadata": {},
   "outputs": [
    {
     "output_type": "execute_result",
     "data": {
      "text/plain": "array([[\"@AmericanAir In car gng to DFW. Pulled over 1hr ago - very icy roads. On-hold with AA since 1hr. Can't reach arpt for AA2450. Wat 2 do?\"],\n       ['@AmericanAir after all, the plane didn’t land in identical or worse) conditions at GRK according to METARs.'],\n       [\"@SouthwestAir can't believe how many paying customers you left high and dry with no reason for flight Cancelled Flightlations Monday out of BDL! Wow.\"],\n       ...,\n       ['Nice RT @VirginAmerica: The man of steel might be faster, but we have WiFi – just saying. #ScienceBehindTheExperience http://t.co/FGRbpAZSiX'],\n       ['@AmericanAir Aww Thanks AA..DFW was on GMA up here this AM..so i understand ..Btw A.A is my Airline when im able to trv..Love you guys.:)'],\n       ['@united the lounge tells us they have no pillows for my grandma as one of the ladies opens the closet and I see 2 right there. #unitedlies']],\n      dtype=object)"
     },
     "metadata": {},
     "execution_count": 21
    }
   ],
   "source": [
    "x_test"
   ]
  },
  {
   "cell_type": "markdown",
   "metadata": {},
   "source": [
    "# Create array of words for both Training and Testing tweets"
   ]
  },
  {
   "cell_type": "code",
   "execution_count": 22,
   "metadata": {},
   "outputs": [
    {
     "output_type": "execute_result",
     "data": {
      "text/plain": "[(['@',\n   'SouthwestAir',\n   'I',\n   'am',\n   'scheduled',\n   'for',\n   'the',\n   'morning',\n   ',',\n   '2',\n   'days',\n   'after',\n   'the',\n   'fact',\n   ',',\n   'yes..not',\n   'sure',\n   'why',\n   'my',\n   'evening',\n   'flight',\n   'was',\n   'the',\n   'only',\n   'one',\n   'Cancelled',\n   'Flightled'],\n  'negative'),\n (['@',\n   'SouthwestAir',\n   'seeing',\n   'your',\n   'workers',\n   'time',\n   'in',\n   'and',\n   'time',\n   'out',\n   'going',\n   'above',\n   'and',\n   'beyond',\n   'is',\n   'why',\n   'I',\n   'love',\n   'flying',\n   'with',\n   'you',\n   'guys',\n   '.',\n   'Thank',\n   'you',\n   '!'],\n  'positive'),\n (['@',\n   'united',\n   'Flew',\n   'ORD',\n   'to',\n   'Miami',\n   'and',\n   'back',\n   'and',\n   'had',\n   'great',\n   'crew',\n   ',',\n   'service',\n   'on',\n   'both',\n   'legs',\n   '.',\n   'THANKS'],\n  'positive'),\n (['@',\n   'SouthwestAir',\n   '@',\n   'dultch97',\n   'that',\n   \"'s\",\n   'horse',\n   'radish',\n   '😤🐴'],\n  'negative'),\n (['@',\n   'united',\n   'so',\n   'our',\n   'flight',\n   'into',\n   'ORD',\n   'was',\n   'delayed',\n   'because',\n   'of',\n   'Air',\n   'Force',\n   'One',\n   ',',\n   'but',\n   'the',\n   'last',\n   'flight',\n   'to',\n   'SBN',\n   'is',\n   'at',\n   '8:20',\n   ',',\n   '5',\n   'mins',\n   'from',\n   'now',\n   'we',\n   'just',\n   'landed',\n   '.'],\n  'negative')]"
     },
     "metadata": {},
     "execution_count": 22
    }
   ],
   "source": [
    "from nltk import word_tokenize\n",
    "training_tweet = []\n",
    "for text,category in x_y_train:\n",
    "    training_tweet.append((word_tokenize(text),category))\n",
    "\n",
    "training_tweet[0:5]"
   ]
  },
  {
   "cell_type": "code",
   "execution_count": 23,
   "metadata": {},
   "outputs": [
    {
     "output_type": "execute_result",
     "data": {
      "text/plain": "[['[',\n  '``',\n  '@',\n  'AmericanAir',\n  'In',\n  'car',\n  'gng',\n  'to',\n  'DFW',\n  '.',\n  'Pulled',\n  'over',\n  '1hr',\n  'ago',\n  '-',\n  'very',\n  'icy',\n  'roads',\n  '.',\n  'On-hold',\n  'with',\n  'AA',\n  'since',\n  '1hr',\n  '.',\n  'Ca',\n  \"n't\",\n  'reach',\n  'arpt',\n  'for',\n  'AA2450',\n  '.',\n  'Wat',\n  '2',\n  'do',\n  '?',\n  \"''\",\n  ']'],\n ['[',\n  \"'\",\n  '@',\n  'AmericanAir',\n  'after',\n  'all',\n  ',',\n  'the',\n  'plane',\n  'didn',\n  '’',\n  't',\n  'land',\n  'in',\n  'identical',\n  'or',\n  'worse',\n  ')',\n  'conditions',\n  'at',\n  'GRK',\n  'according',\n  'to',\n  'METARs',\n  '.',\n  \"'\",\n  ']'],\n ['[',\n  '``',\n  '@',\n  'SouthwestAir',\n  'ca',\n  \"n't\",\n  'believe',\n  'how',\n  'many',\n  'paying',\n  'customers',\n  'you',\n  'left',\n  'high',\n  'and',\n  'dry',\n  'with',\n  'no',\n  'reason',\n  'for',\n  'flight',\n  'Cancelled',\n  'Flightlations',\n  'Monday',\n  'out',\n  'of',\n  'BDL',\n  '!',\n  'Wow',\n  '.',\n  \"''\",\n  ']'],\n ['[',\n  \"'\",\n  '@',\n  'USAirways',\n  'I',\n  'can',\n  'legitimately',\n  'say',\n  'that',\n  'I',\n  'would',\n  'have',\n  'rather',\n  'driven',\n  'cross',\n  'country',\n  'than',\n  'flown',\n  'on',\n  'US',\n  'Airways',\n  '.',\n  \"'\",\n  ']'],\n ['[',\n  \"'\",\n  '@',\n  'AmericanAir',\n  'still',\n  'no',\n  'response',\n  'from',\n  'AA',\n  '.',\n  'great',\n  'job',\n  'guys',\n  '!',\n  \"'\",\n  ']']]"
     },
     "metadata": {},
     "execution_count": 23
    }
   ],
   "source": [
    "testing_tweet = []\n",
    "for text in x_test:\n",
    "    testing_tweet.append(word_tokenize(str(text)))\n",
    "\n",
    "testing_tweet[0:5]"
   ]
  },
  {
   "cell_type": "markdown",
   "metadata": {},
   "source": [
    "# Clean the Data  - Remove Stop Words, Remove Punctuaions, Lemmatizing"
   ]
  },
  {
   "cell_type": "code",
   "execution_count": 24,
   "metadata": {},
   "outputs": [],
   "source": [
    "from nltk.stem import WordNetLemmatizer\n",
    "lemmatize = WordNetLemmatizer()\n",
    "\n",
    "from nltk.corpus import wordnet\n",
    "from nltk import pos_tag\n",
    "\n",
    "def get_simple_pos(tag):\n",
    "    if tag.startswith('J'):\n",
    "        return wordnet.ADJ\n",
    "    elif tag.startswith('V'):\n",
    "        return wordnet.VERB\n",
    "    elif tag.startswith('N'):\n",
    "        return wordnet.NOUN\n",
    "    elif tag.startswith('R'):\n",
    "        return wordnet.ADV\n",
    "    else:\n",
    "        return wordnet.NOUN"
   ]
  },
  {
   "cell_type": "code",
   "execution_count": 25,
   "metadata": {},
   "outputs": [
    {
     "output_type": "execute_result",
     "data": {
      "text/plain": "{'!',\n '\"',\n '#',\n '$',\n '%',\n '&',\n \"'\",\n '(',\n ')',\n '*',\n '+',\n ',',\n '-',\n '.',\n '/',\n ':',\n ';',\n '<',\n '=',\n '>',\n '?',\n '@',\n '[',\n '\\\\',\n ']',\n '^',\n '_',\n '`',\n 'a',\n 'about',\n 'above',\n 'after',\n 'again',\n 'against',\n 'ain',\n 'all',\n 'am',\n 'an',\n 'and',\n 'any',\n 'are',\n 'aren',\n \"aren't\",\n 'as',\n 'at',\n 'be',\n 'because',\n 'been',\n 'before',\n 'being',\n 'below',\n 'between',\n 'both',\n 'but',\n 'by',\n 'can',\n 'couldn',\n \"couldn't\",\n 'd',\n 'did',\n 'didn',\n \"didn't\",\n 'do',\n 'does',\n 'doesn',\n \"doesn't\",\n 'doing',\n 'don',\n \"don't\",\n 'down',\n 'during',\n 'each',\n 'few',\n 'for',\n 'from',\n 'further',\n 'had',\n 'hadn',\n \"hadn't\",\n 'has',\n 'hasn',\n \"hasn't\",\n 'have',\n 'haven',\n \"haven't\",\n 'having',\n 'he',\n 'her',\n 'here',\n 'hers',\n 'herself',\n 'him',\n 'himself',\n 'his',\n 'how',\n 'i',\n 'if',\n 'in',\n 'into',\n 'is',\n 'isn',\n \"isn't\",\n 'it',\n \"it's\",\n 'its',\n 'itself',\n 'just',\n 'll',\n 'm',\n 'ma',\n 'me',\n 'mightn',\n \"mightn't\",\n 'more',\n 'most',\n 'mustn',\n \"mustn't\",\n 'my',\n 'myself',\n 'needn',\n \"needn't\",\n 'no',\n 'nor',\n 'not',\n 'now',\n 'o',\n 'of',\n 'off',\n 'on',\n 'once',\n 'only',\n 'or',\n 'other',\n 'our',\n 'ours',\n 'ourselves',\n 'out',\n 'over',\n 'own',\n 're',\n 's',\n 'same',\n 'shan',\n \"shan't\",\n 'she',\n \"she's\",\n 'should',\n \"should've\",\n 'shouldn',\n \"shouldn't\",\n 'so',\n 'some',\n 'such',\n 't',\n 'than',\n 'that',\n \"that'll\",\n 'the',\n 'their',\n 'theirs',\n 'them',\n 'themselves',\n 'then',\n 'there',\n 'these',\n 'they',\n 'this',\n 'those',\n 'through',\n 'to',\n 'too',\n 'under',\n 'until',\n 'up',\n 've',\n 'very',\n 'was',\n 'wasn',\n \"wasn't\",\n 'we',\n 'were',\n 'weren',\n \"weren't\",\n 'what',\n 'when',\n 'where',\n 'which',\n 'while',\n 'who',\n 'whom',\n 'why',\n 'will',\n 'with',\n 'won',\n \"won't\",\n 'wouldn',\n \"wouldn't\",\n 'y',\n 'you',\n \"you'd\",\n \"you'll\",\n \"you're\",\n \"you've\",\n 'your',\n 'yours',\n 'yourself',\n 'yourselves',\n '{',\n '|',\n '}',\n '~'}"
     },
     "metadata": {},
     "execution_count": 25
    }
   ],
   "source": [
    "from nltk.corpus import stopwords\n",
    "import string\n",
    "stops = set(stopwords.words('english'))\n",
    "punctuations = list(string.punctuation)\n",
    "stops.update(punctuations)\n",
    "stops"
   ]
  },
  {
   "cell_type": "code",
   "execution_count": 26,
   "metadata": {},
   "outputs": [],
   "source": [
    "def clean_review(tweet):\n",
    "    output_words = []\n",
    "    for w in tweet:\n",
    "        if w.lower() not in stops and w.isalpha() and len(w) > 2:\n",
    "            pos = pos_tag([w])\n",
    "            clean_word = lemmatize.lemmatize(w,pos = get_simple_pos(pos[0][1]))\n",
    "            output_words.append(clean_word.lower())\n",
    "    return output_words"
   ]
  },
  {
   "cell_type": "code",
   "execution_count": 27,
   "metadata": {},
   "outputs": [],
   "source": [
    "training_clean_words = [(clean_review(tweet), category) for tweet, category in training_tweet]"
   ]
  },
  {
   "cell_type": "code",
   "execution_count": 28,
   "metadata": {},
   "outputs": [
    {
     "output_type": "execute_result",
     "data": {
      "text/plain": "(['southwestair',\n  'schedule',\n  'morning',\n  'day',\n  'fact',\n  'sure',\n  'even',\n  'flight',\n  'one',\n  'cancelled',\n  'flightled'],\n 'negative')"
     },
     "metadata": {},
     "execution_count": 28
    }
   ],
   "source": [
    "training_clean_words[0]"
   ]
  },
  {
   "cell_type": "code",
   "execution_count": 29,
   "metadata": {},
   "outputs": [],
   "source": [
    "testing__clean_words = [clean_review(tweet) for tweet in testing_tweet]"
   ]
  },
  {
   "cell_type": "code",
   "execution_count": 30,
   "metadata": {},
   "outputs": [
    {
     "output_type": "execute_result",
     "data": {
      "text/plain": "['americanair',\n 'car',\n 'gng',\n 'dfw',\n 'pulled',\n 'ago',\n 'icy',\n 'road',\n 'since',\n 'reach',\n 'arpt',\n 'wat']"
     },
     "metadata": {},
     "execution_count": 30
    }
   ],
   "source": [
    "testing__clean_words[0]"
   ]
  },
  {
   "cell_type": "code",
   "execution_count": 31,
   "metadata": {},
   "outputs": [],
   "source": [
    "from sklearn.feature_extraction.text import CountVectorizer"
   ]
  },
  {
   "cell_type": "code",
   "execution_count": 32,
   "metadata": {},
   "outputs": [
    {
     "output_type": "execute_result",
     "data": {
      "text/plain": "['negative',\n 'positive',\n 'positive',\n 'negative',\n 'negative',\n 'negative',\n 'negative',\n 'positive',\n 'negative',\n 'positive',\n 'negative',\n 'neutral',\n 'positive',\n 'negative',\n 'negative',\n 'negative',\n 'negative',\n 'negative',\n 'negative',\n 'negative',\n 'negative',\n 'neutral',\n 'negative',\n 'negative',\n 'positive',\n 'neutral',\n 'negative',\n 'negative',\n 'positive',\n 'positive',\n 'negative',\n 'positive',\n 'negative',\n 'positive',\n 'negative',\n 'negative',\n 'negative',\n 'negative',\n 'negative',\n 'neutral',\n 'negative',\n 'positive',\n 'negative',\n 'negative',\n 'negative',\n 'neutral',\n 'positive',\n 'positive',\n 'negative',\n 'neutral',\n 'neutral',\n 'negative',\n 'negative',\n 'negative',\n 'negative',\n 'positive',\n 'negative',\n 'negative',\n 'negative',\n 'positive',\n 'negative',\n 'negative',\n 'negative',\n 'negative',\n 'neutral',\n 'negative',\n 'neutral',\n 'neutral',\n 'negative',\n 'negative',\n 'neutral',\n 'negative',\n 'positive',\n 'positive',\n 'negative',\n 'negative',\n 'neutral',\n 'positive',\n 'neutral',\n 'negative',\n 'negative',\n 'neutral',\n 'negative',\n 'negative',\n 'positive',\n 'neutral',\n 'neutral',\n 'neutral',\n 'negative',\n 'neutral',\n 'negative',\n 'negative',\n 'neutral',\n 'neutral',\n 'negative',\n 'negative',\n 'positive',\n 'negative',\n 'negative',\n 'negative',\n 'negative',\n 'negative',\n 'neutral',\n 'neutral',\n 'negative',\n 'positive',\n 'positive',\n 'negative',\n 'neutral',\n 'positive',\n 'negative',\n 'negative',\n 'neutral',\n 'negative',\n 'negative',\n 'positive',\n 'negative',\n 'negative',\n 'negative',\n 'negative',\n 'negative',\n 'positive',\n 'negative',\n 'positive',\n 'neutral',\n 'negative',\n 'neutral',\n 'negative',\n 'negative',\n 'neutral',\n 'negative',\n 'negative',\n 'neutral',\n 'negative',\n 'neutral',\n 'positive',\n 'negative',\n 'negative',\n 'negative',\n 'negative',\n 'negative',\n 'negative',\n 'neutral',\n 'negative',\n 'positive',\n 'negative',\n 'positive',\n 'positive',\n 'negative',\n 'neutral',\n 'negative',\n 'negative',\n 'negative',\n 'neutral',\n 'neutral',\n 'neutral',\n 'negative',\n 'negative',\n 'negative',\n 'positive',\n 'neutral',\n 'negative',\n 'negative',\n 'negative',\n 'positive',\n 'neutral',\n 'positive',\n 'negative',\n 'negative',\n 'negative',\n 'negative',\n 'negative',\n 'positive',\n 'positive',\n 'negative',\n 'neutral',\n 'negative',\n 'neutral',\n 'negative',\n 'negative',\n 'neutral',\n 'neutral',\n 'neutral',\n 'negative',\n 'neutral',\n 'positive',\n 'neutral',\n 'positive',\n 'negative',\n 'negative',\n 'negative',\n 'negative',\n 'positive',\n 'positive',\n 'negative',\n 'neutral',\n 'negative',\n 'negative',\n 'neutral',\n 'positive',\n 'negative',\n 'negative',\n 'neutral',\n 'negative',\n 'negative',\n 'neutral',\n 'negative',\n 'positive',\n 'negative',\n 'positive',\n 'negative',\n 'neutral',\n 'negative',\n 'negative',\n 'negative',\n 'neutral',\n 'neutral',\n 'neutral',\n 'negative',\n 'neutral',\n 'negative',\n 'negative',\n 'negative',\n 'negative',\n 'negative',\n 'negative',\n 'positive',\n 'negative',\n 'negative',\n 'negative',\n 'positive',\n 'positive',\n 'negative',\n 'neutral',\n 'negative',\n 'negative',\n 'positive',\n 'negative',\n 'neutral',\n 'negative',\n 'neutral',\n 'negative',\n 'neutral',\n 'neutral',\n 'negative',\n 'negative',\n 'neutral',\n 'negative',\n 'negative',\n 'negative',\n 'negative',\n 'negative',\n 'neutral',\n 'negative',\n 'negative',\n 'negative',\n 'neutral',\n 'negative',\n 'neutral',\n 'negative',\n 'negative',\n 'negative',\n 'negative',\n 'negative',\n 'neutral',\n 'neutral',\n 'negative',\n 'positive',\n 'negative',\n 'negative',\n 'negative',\n 'negative',\n 'negative',\n 'negative',\n 'negative',\n 'negative',\n 'negative',\n 'negative',\n 'neutral',\n 'negative',\n 'negative',\n 'positive',\n 'negative',\n 'negative',\n 'negative',\n 'negative',\n 'negative',\n 'negative',\n 'negative',\n 'negative',\n 'negative',\n 'negative',\n 'negative',\n 'neutral',\n 'negative',\n 'negative',\n 'neutral',\n 'negative',\n 'positive',\n 'negative',\n 'negative',\n 'negative',\n 'negative',\n 'positive',\n 'neutral',\n 'negative',\n 'negative',\n 'positive',\n 'negative',\n 'negative',\n 'neutral',\n 'negative',\n 'negative',\n 'negative',\n 'positive',\n 'positive',\n 'negative',\n 'negative',\n 'negative',\n 'negative',\n 'negative',\n 'neutral',\n 'negative',\n 'negative',\n 'negative',\n 'negative',\n 'positive',\n 'negative',\n 'negative',\n 'negative',\n 'negative',\n 'neutral',\n 'negative',\n 'negative',\n 'negative',\n 'positive',\n 'negative',\n 'negative',\n 'negative',\n 'negative',\n 'negative',\n 'negative',\n 'negative',\n 'negative',\n 'negative',\n 'negative',\n 'negative',\n 'neutral',\n 'neutral',\n 'negative',\n 'neutral',\n 'negative',\n 'negative',\n 'negative',\n 'negative',\n 'negative',\n 'negative',\n 'neutral',\n 'negative',\n 'negative',\n 'negative',\n 'positive',\n 'positive',\n 'negative',\n 'negative',\n 'negative',\n 'negative',\n 'negative',\n 'negative',\n 'negative',\n 'negative',\n 'negative',\n 'neutral',\n 'positive',\n 'negative',\n 'negative',\n 'negative',\n 'positive',\n 'positive',\n 'negative',\n 'negative',\n 'neutral',\n 'negative',\n 'negative',\n 'positive',\n 'negative',\n 'positive',\n 'negative',\n 'negative',\n 'negative',\n 'negative',\n 'negative',\n 'positive',\n 'negative',\n 'neutral',\n 'negative',\n 'neutral',\n 'neutral',\n 'neutral',\n 'negative',\n 'neutral',\n 'positive',\n 'negative',\n 'negative',\n 'negative',\n 'positive',\n 'positive',\n 'negative',\n 'neutral',\n 'negative',\n 'negative',\n 'positive',\n 'negative',\n 'positive',\n 'negative',\n 'negative',\n 'negative',\n 'negative',\n 'negative',\n 'negative',\n 'negative',\n 'negative',\n 'neutral',\n 'neutral',\n 'negative',\n 'negative',\n 'negative',\n 'negative',\n 'negative',\n 'positive',\n 'negative',\n 'neutral',\n 'negative',\n 'negative',\n 'negative',\n 'neutral',\n 'positive',\n 'negative',\n 'positive',\n 'positive',\n 'negative',\n 'neutral',\n 'negative',\n 'neutral',\n 'neutral',\n 'negative',\n 'negative',\n 'positive',\n 'positive',\n 'negative',\n 'negative',\n 'negative',\n 'positive',\n 'negative',\n 'negative',\n 'negative',\n 'positive',\n 'negative',\n 'positive',\n 'neutral',\n 'neutral',\n 'neutral',\n 'neutral',\n 'positive',\n 'negative',\n 'negative',\n 'negative',\n 'negative',\n 'negative',\n 'negative',\n 'negative',\n 'negative',\n 'neutral',\n 'negative',\n 'negative',\n 'positive',\n 'neutral',\n 'positive',\n 'negative',\n 'negative',\n 'neutral',\n 'positive',\n 'negative',\n 'neutral',\n 'negative',\n 'negative',\n 'neutral',\n 'neutral',\n 'negative',\n 'neutral',\n 'negative',\n 'positive',\n 'negative',\n 'negative',\n 'negative',\n 'negative',\n 'positive',\n 'positive',\n 'negative',\n 'negative',\n 'neutral',\n 'negative',\n 'negative',\n 'neutral',\n 'positive',\n 'neutral',\n 'neutral',\n 'negative',\n 'negative',\n 'negative',\n 'neutral',\n 'negative',\n 'negative',\n 'negative',\n 'positive',\n 'negative',\n 'negative',\n 'neutral',\n 'negative',\n 'positive',\n 'negative',\n 'neutral',\n 'negative',\n 'negative',\n 'negative',\n 'positive',\n 'negative',\n 'negative',\n 'negative',\n 'positive',\n 'negative',\n 'negative',\n 'negative',\n 'negative',\n 'neutral',\n 'negative',\n 'positive',\n 'negative',\n 'negative',\n 'positive',\n 'negative',\n 'negative',\n 'neutral',\n 'negative',\n 'positive',\n 'negative',\n 'negative',\n 'negative',\n 'negative',\n 'negative',\n 'positive',\n 'negative',\n 'positive',\n 'negative',\n 'negative',\n 'neutral',\n 'negative',\n 'negative',\n 'negative',\n 'neutral',\n 'neutral',\n 'neutral',\n 'negative',\n 'negative',\n 'negative',\n 'negative',\n 'negative',\n 'neutral',\n 'negative',\n 'neutral',\n 'negative',\n 'negative',\n 'positive',\n 'negative',\n 'negative',\n 'negative',\n 'negative',\n 'negative',\n 'neutral',\n 'negative',\n 'negative',\n 'negative',\n 'neutral',\n 'negative',\n 'negative',\n 'positive',\n 'neutral',\n 'neutral',\n 'neutral',\n 'negative',\n 'neutral',\n 'negative',\n 'negative',\n 'negative',\n 'negative',\n 'positive',\n 'negative',\n 'negative',\n 'negative',\n 'neutral',\n 'negative',\n 'negative',\n 'negative',\n 'negative',\n 'negative',\n 'negative',\n 'negative',\n 'negative',\n 'positive',\n 'negative',\n 'positive',\n 'negative',\n 'positive',\n 'negative',\n 'negative',\n 'negative',\n 'positive',\n 'positive',\n 'negative',\n 'negative',\n 'negative',\n 'neutral',\n 'negative',\n 'positive',\n 'negative',\n 'positive',\n 'negative',\n 'negative',\n 'positive',\n 'negative',\n 'neutral',\n 'neutral',\n 'negative',\n 'negative',\n 'positive',\n 'neutral',\n 'neutral',\n 'positive',\n 'positive',\n 'negative',\n 'neutral',\n 'negative',\n 'negative',\n 'negative',\n 'negative',\n 'negative',\n 'neutral',\n 'negative',\n 'positive',\n 'negative',\n 'neutral',\n 'negative',\n 'negative',\n 'negative',\n 'positive',\n 'neutral',\n 'negative',\n 'neutral',\n 'negative',\n 'neutral',\n 'neutral',\n 'neutral',\n 'neutral',\n 'negative',\n 'negative',\n 'positive',\n 'negative',\n 'negative',\n 'negative',\n 'positive',\n 'neutral',\n 'negative',\n 'neutral',\n 'negative',\n 'negative',\n 'negative',\n 'positive',\n 'negative',\n 'neutral',\n 'neutral',\n 'negative',\n 'negative',\n 'neutral',\n 'negative',\n 'negative',\n 'negative',\n 'negative',\n 'negative',\n 'positive',\n 'negative',\n 'negative',\n 'negative',\n 'positive',\n 'positive',\n 'negative',\n 'negative',\n 'negative',\n 'neutral',\n 'negative',\n 'negative',\n 'negative',\n 'negative',\n 'negative',\n 'positive',\n 'negative',\n 'neutral',\n 'negative',\n 'neutral',\n 'neutral',\n 'negative',\n 'positive',\n 'neutral',\n 'negative',\n 'negative',\n 'negative',\n 'negative',\n 'positive',\n 'neutral',\n 'negative',\n 'positive',\n 'negative',\n 'negative',\n 'negative',\n 'negative',\n 'negative',\n 'positive',\n 'negative',\n 'positive',\n 'positive',\n 'negative',\n 'negative',\n 'positive',\n 'positive',\n 'negative',\n 'negative',\n 'negative',\n 'neutral',\n 'negative',\n 'negative',\n 'positive',\n 'positive',\n 'negative',\n 'negative',\n 'negative',\n 'positive',\n 'negative',\n 'negative',\n 'negative',\n 'positive',\n 'negative',\n 'negative',\n 'neutral',\n 'neutral',\n 'neutral',\n 'negative',\n 'negative',\n 'negative',\n 'negative',\n 'positive',\n 'negative',\n 'negative',\n 'negative',\n 'positive',\n 'neutral',\n 'positive',\n 'neutral',\n 'neutral',\n 'neutral',\n 'positive',\n 'positive',\n 'negative',\n 'positive',\n 'neutral',\n 'negative',\n 'positive',\n 'neutral',\n 'negative',\n 'negative',\n 'positive',\n 'negative',\n 'negative',\n 'neutral',\n 'negative',\n 'neutral',\n 'neutral',\n 'negative',\n 'negative',\n 'negative',\n 'negative',\n 'neutral',\n 'negative',\n 'neutral',\n 'negative',\n 'positive',\n 'positive',\n 'positive',\n 'negative',\n 'negative',\n 'negative',\n 'neutral',\n 'negative',\n 'negative',\n 'neutral',\n 'negative',\n 'negative',\n 'negative',\n 'positive',\n 'negative',\n 'positive',\n 'negative',\n 'negative',\n 'positive',\n 'negative',\n 'positive',\n 'negative',\n 'negative',\n 'neutral',\n 'neutral',\n 'positive',\n 'neutral',\n 'negative',\n 'neutral',\n 'negative',\n 'negative',\n 'negative',\n 'negative',\n 'neutral',\n 'positive',\n 'negative',\n 'negative',\n 'negative',\n 'neutral',\n 'negative',\n 'positive',\n 'negative',\n 'negative',\n 'negative',\n 'negative',\n 'neutral',\n 'negative',\n 'negative',\n 'negative',\n 'positive',\n 'negative',\n 'negative',\n 'negative',\n 'positive',\n 'negative',\n 'positive',\n 'neutral',\n 'negative',\n 'negative',\n 'positive',\n 'neutral',\n 'negative',\n 'negative',\n 'positive',\n 'neutral',\n 'negative',\n 'positive',\n 'neutral',\n 'negative',\n 'negative',\n 'positive',\n 'negative',\n 'positive',\n 'neutral',\n 'negative',\n 'neutral',\n 'negative',\n 'negative',\n 'negative',\n 'neutral',\n 'neutral',\n 'positive',\n 'neutral',\n 'neutral',\n 'negative',\n 'negative',\n 'neutral',\n 'negative',\n 'neutral',\n 'neutral',\n 'negative',\n 'neutral',\n 'negative',\n 'negative',\n 'positive',\n 'negative',\n 'negative',\n 'neutral',\n 'negative',\n 'neutral',\n 'positive',\n 'neutral',\n 'negative',\n 'neutral',\n 'negative',\n 'neutral',\n 'negative',\n 'negative',\n 'positive',\n 'negative',\n 'negative',\n 'negative',\n 'negative',\n 'positive',\n 'positive',\n 'negative',\n 'negative',\n 'negative',\n 'neutral',\n 'negative',\n 'negative',\n 'negative',\n 'negative',\n 'negative',\n 'negative',\n 'positive',\n 'negative',\n 'neutral',\n 'positive',\n 'negative',\n 'negative',\n 'negative',\n 'negative',\n 'neutral',\n 'positive',\n 'negative',\n 'positive',\n 'negative',\n 'negative',\n 'positive',\n 'neutral',\n 'negative',\n 'negative',\n 'negative',\n 'positive',\n 'negative',\n 'neutral',\n 'negative',\n 'negative',\n 'positive',\n 'positive',\n 'neutral',\n 'positive',\n 'neutral',\n 'negative',\n 'positive',\n 'positive',\n 'negative',\n 'neutral',\n 'negative',\n 'neutral',\n 'negative',\n 'negative',\n 'positive',\n 'neutral',\n 'negative',\n 'negative',\n 'positive',\n 'negative',\n 'negative',\n 'negative',\n 'negative',\n 'negative',\n 'neutral',\n 'negative',\n 'negative',\n 'neutral',\n 'positive',\n 'negative',\n 'negative',\n 'negative',\n 'negative',\n 'negative',\n 'negative',\n 'positive',\n 'positive',\n 'negative',\n 'negative',\n 'positive',\n 'neutral',\n 'positive',\n 'negative',\n 'negative',\n 'neutral',\n 'negative',\n 'negative',\n 'neutral',\n 'negative',\n 'neutral',\n 'positive',\n 'negative',\n 'negative',\n 'negative',\n 'positive',\n 'negative',\n 'negative',\n 'negative',\n ...]"
     },
     "metadata": {},
     "execution_count": 32
    }
   ],
   "source": [
    "sentiments = [ttype for word, ttype in training_clean_words]\n",
    "sentiments"
   ]
  },
  {
   "cell_type": "code",
   "execution_count": 33,
   "metadata": {},
   "outputs": [
    {
     "output_type": "execute_result",
     "data": {
      "text/plain": "hwestair land phl row window cover could use luv http',\n 'americanair spent flight could go united mileage program suck',\n 'southwestair cut people minute flight time check bag flight delayed hour wait hr',\n 'southwestair glassdoor best places work snag overall notsurprising luvthem',\n 'united course interest united seem good sense happen flight',\n 'jetblue try helpful really dissatisfied flight booking problems whole trip jet blue time around besides flight',\n 'usairways agent say',\n 'southwestair lose whole day honeymoon disappointed frustrate everything',\n 'united deny sure charge one way way hime',\n 'americanair thank',\n 'usairways sit kitchen move stuff around need extremely disappointed service',\n 'jetblue lgb sunny cal http',\n 'southwestair belt issue rough day worst part travel month old wait outside degree',\n 'united lax sunrise',\n 'nice thing jetblue fleet fleek http',\n 'united stuck iah wait flight honolulu hour due maintenance issue could gotten new plane fail',\n 'jetblue land thank anyway btw flight staff flight wonderful despite full day heavy load',\n 'united correct correct sorry lose',\n 'united worst flight experience ever thank end vacation bad note',\n 'united boarding process suck learn southwestair',\n 'southwestair serious potential wan get away commercial debacle real fire',\n 'united first seat open upgrade process gate agent yyz say busy cool http',\n 'virginamerica getaway deal may lots cool city http cheapflights farecompare',\n 'united want hotel room whiskey',\n 'united would take voucher offer miscounting seats plane mean would fly',\n 'jetblue definitely',\n 'united airline absolute bad idea neveragain unitedairlines',\n 'usairways hello four hours since plane land flt phx jfk hr tarmac wait gate plus hour bag yet',\n 'united broken plane outage friday southwest get right every plane united',\n 'americanair umm unexpected unexpected meaning guy know major staff shortage',\n 'southwestair cancelled flights arrival amp departure nashville weather headline',\n 'southwestair thanks',\n 'united hold minute talk one employee ask name hung face',\n 'americanair tpa ord another successful journey thanks hospitality',\n 'southwestair thanks good military folk cold stlouis sure enjoy flight http',\n 'united lose loyal customer mileage plus card holder could driven florida quicker way worst trip ever',\n 'usairways far call back',\n 'southwestair fast already winner congrats',\n 'americanair space seat thanks pilot back early ohare think possible',\n 'united change fee exact flight charge math add',\n 'usairways worst experience ever unable help phone told last min cabin crew unavailable flight never usairways',\n 'united book flight reserve seat check find seat wtf',\n 'southwestair okay sign',\n 'americanair yes dulles need deliver embassy suites herndon still chicago fiasco lax',\n 'usairways fly delta since plane get stuck drift hour weather issue',\n 'united admit rather good year still get hooked peace',\n 'united touch miami far nicely do united',\n 'usairways thanks ask change cost desition nade computer late flight',\n 'united update flight delayed super frustrate',\n 'united lose gate checked bag den ord direct flight ugh',\n 'usairways reservation agent phone great job',\n 'usairways saying friend miss flight clearly sat next plane amp cancelled flighting flight wtf',\n 'united new plane wifi work entertainment non existent new seats seriously uncomfortable really unitedfail',\n 'united yes people also',\n 'jetblue thank',\n 'americanair cost day vacation get rude woman tell another country figure get',\n 'rudeness poor customer service job requirement americanair wait still even see one',\n 'southwestair bonus still expire',\n 'southwestair let',\n 'usairways thank say website',\n 'virginamerica soooo guy go leave seatbelt light flight barely call turbulence',\n 'usairways flight sit gate min door open since arrive still jet bridge someone help',\n 'united still sit wait plane hour waste',\n 'southwestair reliable system could find info say refund credit card',\n 'usairways great crew flight phx yvr tonight friendly efficient awesome job',\n 'americanair due gate agent miss connect flight mexico city happy customer let correct',\n 'jetblue receive horrible customer service lax reservation cancelled flighted without notification despite confirmation number',\n 'southwestair flight atlanta get cancelled flightled schedule phone hour rep bumping',\n 'southwestair would awesome experience destinationdragons',\n 'jetblue good address send feedback email',\n 'jetblue pas along advice guy rock',\n 'jetblue process begin',\n 'usairways mad love http',\n 'southwestair one travel ask sister wait nephew midland flight eventually land',\n 'virginamerica keep great work',\n 'usairways shavon customer service desk charlotte fantastic helpful smile evn sound like long',\n 'united thx check never get via phone hold hour long long wait hold ugh csfail',\n 'usairways staff phx awesome great traffic control general boarding',\n 'virginamerica love know policy damage luggage',\n 'united well perhaps could highlight state travel canada amp usa united nexus',\n 'jetblue thanks chat nice fella give lowdown',\n 'jetblue share come',\n 'united try enter email device make email typo way fix amp option log',\n 'jetblue dispatcher keep yell hung',\n 'jetblue thank guy best',\n 'united friend get flight say proof bought class tkt boarding pas',\n 'southwestair well sure bad experience already',\n 'jetblue drop take two people vice versa back forth',\n 'americanair btr train gate agts frequent flyer amp nvr issue bag force gate check priority boarding',\n 'united chance flight ewr pit cancelled flighted tomorrow',\n 'united two year old birthdate',\n 'southwestair flight booking problems late flight summer travel direct flight disappear',\n 'americanair believe long flight phi take know airways would really like get home',\n 'united board refuse carry overhead bag space plane load space fail customerexperience',\n 'united say make flight unaccounted lose time amp lot frustrate flyer stand around',\n 'united ehsanismpowered lmfao',\n 'southwestair jimcramer aarp total hr min hold cell battery die finally make arrangement kind rep',\n 'united allow allow carry checked baggage',\n 'usairways pilot start flight announce arrival gatwick heathrow moments concern aboard',\n 'united one lady help luggage',\n 'united thanks lea chicago office help switch cancelled flighted flight',\n 'southwestair great flight great view http',\n 'americanair lose cat miss flight kept crate hr trip never touch pet',\n 'united bums lose biggest bag flight',\n 'americanair frustrate paid get refund',\n 'americanair thank info changes need make phone correct way agent call directly',\n 'united make fly list airline wait connector late flight stuck iah',\n 'jetblue sure south breakfast though delayed three hour',\n 'americanair respond',\n 'americanair extra hour travel time missed vacation time guy mess professional life',\n 'united usairways americanair americanone one bag claim want mga',\n 'americanair told drive back drop could attempt fix really time terrible',\n 'united thanks move dad mom flight help make birthday start friendlyfriday awesomeness paw',\n 'virginamerica flight delayed hour due mechanical problem handle like pro could toss free drink',\n 'americanair thanks',\n 'jetblue customer service say since wife setup family account join mine year help fix please',\n 'americanair give hard time look basic customer service lose bag eta return please',\n 'southwestair yeehaw found another plane thx listen vent',\n 'americanair friend flight cancelled flightlations lax cmh feb anyway help number help',\n 'southwestair jackpot legroom http',\n 'usairways point baggage claim ticket scan track',\n 'united cancelled flights flight sends email say think next flight customer outrage http',\n 'united try far away possible charity today would help jailbreak rag',\n 'united live abroad flight booking problems flight come visit state',\n 'united firstclass london way londonfashionweek',\n 'jetblue ask load bag flight',\n 'usairways americanair stuck airport fresno try beat storm pittsburgh guy offer nothing horrid',\n 'southwestair swagglikebean take',\n 'southwestair please please please answer phone',\n 'americanair ever wonder find respond many customer complaint twitter airline suck',\n 'americanair day bags amaze way neglect customer',\n 'usairways deal flight computer network',\n 'southwestair thing change ticket cancelled flighting current ticket amp buying replacement online',\n 'southwestair jasonwhitely flt emer stop albuquer heart condition crew awesome pilot maverick divert',\n 'jetblue complete waste entire day pathetic',\n 'united detail back start phone number reach reply either online phone',\n 'united segment sfo new york delayed hr suck bad maybe another line bus',\n 'usairways frequent flyer airway qantas still get notification thank',\n 'americanair finally make chicago hour late flight get food voucher never good bye',\n 'americanair welcome anyone work condition deserves thank even though side atlantic lol',\n 'southwestair website downnnnn ugh',\n 'united cell phone record need checked see converse trust faa handle well',\n 'united strand fly new orleans huston tonight stuck two day rather fly wait',\n 'united force check baby bag overbooked flight complains wife need much united baby meal',\n 'southwestair tho',\n 'americanair get gate time watch plane push back minute need glad relative nearby',\n 'americanair hour patient call back feature pay someone answer phone tweet onhold',\n 'americanair nice employee make skillful excuse late flightness due catering snafu http',\n 'jetblue safety first lovejetblue',\n 'americanair thanks airline ruin bag refuse anything',\n 'americanair unload flight jetway broken step planb wait nearly hour',\n 'usairways six hour even gate agent get fed left line front empty desk stay classy air',\n 'united tonight make fred flintstone happy upgrade class http',\n 'united asked flight attendant typical compensation would amp say might get free unacceptable',\n 'southwestair yes bag come straight hotel thank guy rock',\n 'united fly iad tomorrow even expect delay cancelled flightlations snow storm',\n 'united cmh gate staff overbooked volunteer boarding min late flight try figure issue bringbackrealstaff',\n 'virginamerica problem link email thanks',\n 'southwestair nvm gate say hold connection thanks quick response',\n 'americanair terminal lhr say boarding pas',\n 'usairways charge flight cancelled flightled unbelievable unheard',\n 'southwestair flight cancelled flightled bna reschedule travel fund put back account future use',\n 'virginamerica match americanairlines status cool',\n 'usairways satesq there one flt per day',\n 'americanair karabuxthomps yeah lot question number one dare',\n 'southwestair thank know control weather appreciate work get flight rebooked last two day',\n 'jetblue acces phone iphone broke would rather change late flightr',\n 'united service far horrid want end trip high note guess option',\n 'united flight frustration boil deal attendant attitude ridiculous',\n 'jetblue family excite see',\n 'united customer service delay coupon redeem website high price expedia call wait time',\n 'united thanks keep good work',\n 'southwestair temporary site glitch longer offering flight grr geg feb find online',\n 'usairways askpaypal complete case still say progress paypal website reserve',\n 'wife pt expire day ago planning flight booking problems trip today anything tight budget',\n 'southwestair hold minute try rebook cancelled flightled flight companion ticket help',\n 'usairways bad experience time never ever ever travel ever',\n 'americanair go check flight advance husband seat separately flight happen',\n 'usairways yea give cent dollar',\n 'americanair second pic cdg',\n 'southwestair thank',\n 'united thanks',\n 'united okay thanks',\n 'americanair really appreciate great customer service one service agent hung ask legitimate question',\n 'southwestair still heard thing',\n 'americanair chariot tonight angle look like http',\n 'usairways let plane please gate absurd',\n 'jetblue sorry specify meant ground traffic try get terminal',\n 'americanair air point combine',\n 'usairways hold reservation min already worstairline',\n 'southwestair contact miss rapid rewards credit',\n 'jetblue poop barely work',\n 'usairways still rep talk day late flightr ask checkin flight tmrw refund request deal',\n 'jetblue haha know time lane open logan',\n 'usairways happen could get home next day flydelta flysouthwest flyjetblue theyareallbetter stillnobags',\n 'jetblue fleet fleek http make stop',\n 'jetblue customer year http',\n 'americanair extend rtn flight bereavement could change fee drop told day life badcustomerservice',\n 'southwestair app updated passbook support http via ubergizmo',\n 'jetblue sooo earlier say couldnt fly school trip',\n 'united take screenshot email let figure',\n 'usairways kid',\n 'usairways flight full',\n 'usairways stuck philadelphia airport hour due maintenance dreading flight back home disgusting',\n 'southwestair service promotion moment modelodenegocio innovation innovacion businessmodel',\n 'united new delay right http',\n 'united hello united take care call center mexico city office terrible attitude lady help',\n 'jetblue offer service daytona beach new york albany business review http',\n 'americanair try choose seat every time next flight get system error',\n 'jetblue heard anyone week nonstop flight baggage customer service',\n 'jetblue delayed almost hr take jetblue good luck today really frustrate',\n 'jetblue upgrade unsure switch someone around call hr advance reason',\n 'jetblue great thanks',\n 'united thank get daughter home americanair cancelled flightled flight nashville',\n 'united yes ride home would fete one would assume possible charge domestic flight deplane',\n 'southwestair totally ruin birthday weekend cancelled flighting flight reason offer point drink transport nolove cali',\n 'united nope need little red stamp counter check wreck son http',\n 'united referral program milageplus explorer card',\n 'americanair guy fail need use voucher ticket online yourphonesystemsucks',\n 'southwestair look like anni trip replace someone itinerary worried abt flight http',\n 'americanair thanks finally let get book flight frustration set donedeal talktoahuman',\n 'united take one window also fun get motion sick http',\n 'jetblue keep get well water plane',\n 'jetblue thank hopefully soon suppose leave',\n 'united thank amaze airline know treat customer guy rock',\n 'southwestair sent look functionality app though one click action',\n 'americanair need help record locator bring two different flight system one amp one airways',\n 'jetblue okay actually tea kinda guy anyway thanks',\n 'united held almost minute promise free movie work neither wifi paid boo',\n 'americanair baggage handler call dfw today luggage onboard plane',\n 'usairways would though entire process get people phone usairwayssucks',\n 'usairways crazy treated mom poorly happy usairwaysfail',\n 'southwestair many left',\n 'usairways work hard make sure thing flow smoothly keeping positive',\n 'usairways blame weather rep counter cost entire day weather printed boarding pass late flight takeresponsibility',\n 'united thanks update hour delay exact second get atl',\n 'united consider time arrive destination half hour late flightr schedule http',\n 'americanair rebooked get notify cancelled flightled',\n 'usairways shoutout kristie pvd today rockstar tremendous help tough situation promotethatgirl',\n 'united luggage employee told include wheel dimension',\n 'united minute hold min',\n 'usairways guy screw trip thanks nothing lazy',\n 'united passenger wait inside flight runway return back gate count valid journey',\n 'usairways frustrating day flight home change airline thank phl usairway employee amp united help get back iah',\n 'united guy change age double book seat even though platinum person none',\n 'usairways cancelled flightled last part ticket confuse email receive whether value remains someone ask',\n 'united business decision make inconvenience possibly cause lose customer good business decision cranky',\n 'usairways flight get cancelled flightled charlotte hold hour pls pick',\n 'virginamerica wow blew mind',\n 'americanair time awesome flight great job american',\n 'southwestair realize clothes hotel suggestion',\n 'southwestair get mine time wife anniversary',\n 'southwestair must heard wrong sweet mixtape though record leave left',\n 'americanair sitting gate flight hour due sabre backup plan place sabre fix',\n 'southwestair favorite airline never issue plus crew entertain',\n 'usairways make thanks help',\n 'usairways utterly unreliable schedule pilot flight seattle flight delayed usairwaysfail',\n 'southwestair tremendous job atlanta airport saw celebrate mardi gras another reason nut guy http',\n 'united seem like one united help lots finger point zero people step least gate oreos',\n 'southwestair conf thanks reply',\n 'united rebooked hour original flight say handle situation bad would understatement',\n 'americanair flight leave dallas right maui try figure delayed flight go',\n 'southwestair one heck airline http',\n 'southwestair fly flight tonight boarding position overbooked really want bumped',\n 'jetblue clients get zero year career never thought suitcase worth thousand italian clothing robbed',\n 'usairways cancelled flightled flight pay hotel',\n 'americanair response incredible truly amaze step take enhance customer relation big thank',\n 'americanair wow regina told file request lose bag statement finish travel get argg',\n 'united since international connection hop thing',\n 'jetblue day',\n 'united long take mile expire show recieved email request',\n 'united probably least satisfactory airline ever never fails disappoint',\n 'united airlines changing mileageplus program winners losers http http',\n 'americanair seguinej joke right line even accept call right hang',\n 'united nonrefundable hence write make sense credit nothanks',\n 'jetblue even year earthquake haiti still need help rebuild flyingitforward',\n 'usairways despite mechanical issue many delay follow cancelled flightlation still get vegas thanks great gate agent',\n 'jetblue excuse though gate change though',\n 'jetblue may need minute layover min delay first flight',\n 'united get reimburse hotel taxi cancelled flightation',\n 'americanair yet receive assistance one agent secure new connection many miss work tomorrow',\n 'usairways three hour flight delay phone counting',\n 'americanair everyone else outstanding',\n 'united think rough moment bad passenger earlier flight things get considerably well thanks',\n 'usairways thanks',\n 'americanair cancelled flightled ticket take two month refund still wait',\n 'usairways',\n 'usairways shout pilot attendant eliz super strong crosswind land eliz super job throughout',\n 'united see come get aggiemensgolf hawaii http',\n 'americanair dfwairport together best part fly',\n 'united late flight future flight train staff well handle emergency situation ground staff customer service',\n 'united united much despise thee',\n 'united airlines ceo jeff smisek disloyal loyal workers http via huffpostbiz',\n 'united disappointed service miss connection hour delay cramped seat least app good',\n 'americanair sit airport long periolodicly time plane nasty',\n 'united flight houston',\n 'united fuck care',\n 'southwestair info destinationdragons winner announce amp best friend hop win thanks',\n 'southwestair thanks',\n 'southwestair tweet bad weather close customer relation center process refund cancelled flighted flight',\n 'southwestair miss point one account spread four assume create account',\n 'united use commit continentalairlines flyer merger remember switch southwestair communicationfail',\n 'united soon do article thanks',\n 'americanair find united rebooked airline realize could get home ord',\n 'usairways give http',\n 'usairways ticket couldnt use unable get depart dest rsw blizzard bos told way use credit fine',\n ...]"
     },
     "metadata": {},
     "execution_count": 33
    }
   ],
   "source": [
    "training_tweets = [\" \".join(word) for word, ttype in training_clean_words]\n",
    "training_tweets"
   ]
  },
  {
   "cell_type": "code",
   "execution_count": 34,
   "metadata": {},
   "outputs": [
    {
     "output_type": "execute_result",
     "data": {
      "text/plain": " keep sit forever',\n 'united luck finalize reservation information please let know else need want confirm asap thx',\n 'americanair bag arent even load plane',\n 'usairways agree richard literally ripped tixs face make rude inappropriate comment family awful',\n 'united update suitcase today please',\n 'southwestair hello remain credit account refund back credit card choose low price flight',\n 'united plan ipad app iphone app great ipad flip ipad beta tks',\n 'usairways phlairport reason avoid phlairport usairways like plague glad see merger work well dumb',\n 'united hire extra customer service minute wait time ask one question would rather fly another airline thanks',\n 'jetblue whole plane hoping well luck return flight sunday',\n 'usairways beamske maybe hold minute would amaze',\n 'virginamerica ladygaga carrieunderwood last night tribute soundofmusic ladygaga think carrieunderwood agree',\n 'usairways time tweet tell horrible attendant flight lga feel jail',\n 'jetblue philly lose read program customer get hot tea great crewmembers top notch info amp books http',\n 'usairways check online flight tomorrow',\n 'jetblue excuse time delay lga tpa know plane air',\n 'virginamerica thank absolutely',\n 'united get bad exchange rate want money back please refund without penalty',\n 'jetblue hey jetblue strand entire plane suppose jfk get restless need well communication',\n 'usairways half assed plane fall apart one tell family love dobetter http',\n 'usairways aforementioned pilot americanair sure want merge patron hit hoodlum http',\n 'americanair rep give record locator told receive email itinerary confirmation',\n 'southwestair fare give clue route',\n 'united year old fly tokyo vacation bad knee happens http cbcallinaday cbcnews',\n 'southwestair wish allow http access site award track',\n 'virginamerica great deal already think trip australia amp even go trip yet',\n 'virginamerica flying life happens try change trip jperhi home page let',\n 'united ethiopia adopt child need flight home add grr late flight early need change exist reservation',\n 'united know sure hear time like new seat small guy feel new plane tight',\n 'southwestair sent',\n 'southwestair suppose say boo book booo',\n 'virginamerica happy spend day together let',\n 'jetblue',\n 'little late flight suck usairways mitchsunderland mitchell agent happy offer available option',\n 'southwestair start already waste hr phone wait time already',\n 'usairways lose plane trouble find contact lose found cleveland hopkins airport please help',\n 'usairways wasnt fly airline tonight however friend present help fly united could learn',\n 'southwestair constantly provide wonderful view service southwestluv http',\n 'united give one thing consistent unfortunately consistent job well alwaysdelayedonunited',\n 'jetblue okay thanks hope fly guy soon',\n 'usairways yeah know get money back everytime fly something bad happens',\n 'americanair true fas say way collect money passenger door closing want mce seat',\n 'united fly domestic first sea hnl pay use lounge fly international thanks',\n 'jetblue thanks response hopeful',\n 'usairways despite still late flight',\n 'americanair would nice could actually talk reserv team hang since last night',\n 'usairways medical issue late flight yesterday need change flight today hold hour still',\n 'jetblue really',\n 'americanair cancelled flightled flight last name right thing reinstate ticket',\n 'virginamerica another delayed flight likingyoulessandless',\n 'united need get albuquerque usa cebu philippines provide educational help kid help',\n 'united sonyasloanmd happy board please share detail http done',\n 'southwestair lucky people like annamarie norris bwi hope get recognize excellent cust service',\n 'jetblue allow flight change area airport tonight everyone say travel treacherous',\n 'usairways flt hr late flight baggage see deliver suitcase wet inside amp nothappy',\n 'jetblue good hear thx responsive',\n 'united do experience family terrible experience kind like',\n 'united day since apply compensation correspondence',\n 'americanair hint get stay connect rearrange weather relate flightd cancelled flights hours',\n 'southwestair let plane toilet do even work go family vacay playa del carmen mexico neveragain',\n 'jetblue thanks',\n 'southwestair airline people screw boarding pass way back puerto vallarta horrible',\n 'jetblue love jetblue',\n 'americanair care keep customer safe least care sister',\n 'southwestair eventually arrive seem really slow',\n 'united coach interior look like salvage tiny unusable video power amp lifevests floor',\n 'southwestair flight get cancelled flightled hr takeoff customer service hold minute',\n 'americanair place itin hold expire log go seat release inv help',\n 'americanair bad experience life avoid cost lose belonging humanity even offer compensation',\n 'jetblue people work contact project work',\n 'united mean',\n 'americanair would see est sound asleep',\n 'jetblue ferrissalameh love jetblue speedy twitter customer service',\n 'united return business ticket den fly domestic bag checked fra need claim',\n 'united clear luggage comment reference photo attach flight jac http',\n 'united flight schedule move never flight everyone move without sense',\n 'southwestair please explain every flight dallas go today except',\n 'jetblue late flight lose almost hour bay area weekend mention two hour unnecessary vacation time work',\n 'united board flight cancelled flight pilot miss meeting atlanta someone slept',\n 'united really glad wait phone hour sent voicemail customer service suck nothing',\n 'united even apology',\n 'united never give one',\n 'usairways americanair best could might get refund within billing cycle months guy ask another chance do',\n 'southwestair love bridesmaid dance wait fly puerto vallarta kick united as',\n 'usairways need rebook need know policy',\n 'americanair take care cowboycerrone flight screw ups',\n 'americanair yet plan could fly low slow right front would great',\n 'southwestair win save day get direct orlando',\n 'united try charge flight try make change phone include change fee wtf',\n 'united step cancelled flight flight step notify customer step charge food try survive wait brilliant',\n 'southwestair want change anytime flight leave phone hold phone answer say sorry dice',\n 'usairways meantime sleep park bench dadeland thanks guy',\n 'united stuck try get denver engine shut twice terminal got available flight',\n 'americanair tomorrow flight cancelled flighted understand three hour wait call back minute hold cool',\n 'virginamerica good home texas moodlighting http',\n 'americanair extremely upset baggage handler decide luggage take belonging',\n 'southwestair example pay hotel amp food transport alternate city fly give clear record alt flight',\n 'usairways awesome flight philly tuesday party row interested',\n 'jetblue full six leave flight wait whole day get flight kid miss school',\n 'jetblue flight need late flightr one need change flight guy change time',\n 'jetblue says lufthansa incentive offer impact share count nasdaq http',\n 'jetblue look every day watch deal specific date fare finder help',\n 'usairways guy lose luggage suppose flight highly disappointed med clothes',\n 'united contact others flight get website work none info valid http',\n 'wut jetblue fleet fleek http',\n 'united unitedflyerhd dreamliner leaf london heathrow http',\n 'americanair ask exception staffer move last minute nonprofit amp lose want change ticket',\n 'southwestair love new plane light wish window large http',\n 'jetblue bring compact fold chair like checked bag http',\n 'united thank help appreciate',\n 'americanair flight delayed hour meal despite early request attendant seat fell leg badservice',\n 'usairways please flight delayed go clt force miss connection lga',\n 'americanair fill whole form receive poor poor response direct email address reply',\n 'americanair could wrong http',\n 'usairways top check bag wait min bag come baggage claim thanks waste time',\n 'usairways sincerely regret dividend mile good thing come end',\n 'united airline claim low fare guarantee honor low fare found',\n 'usairways transf held min agent answer help time get person fare see go get supv',\n 'united solution',\n 'southwestair official airline divadapouch aka thepoopqueen http',\n 'usairways could ran worth damn would stuck horrible clt',\n 'united terrific many thanks looking forward back tomorrow great flight vancouver',\n 'virginamerica umm reason someone different contact contact get definitive answer',\n 'united impressed far app worth damn sm update flight',\n 'usairways damn delay',\n 'southwestair people pre need wheel chair plane case boarding',\n 'united ask guy flight bwi wait get delayed flight san diego pretty please',\n 'americanair cancelled flighted flight tomorrow morning number nothing please want home',\n 'usairways far gotten six different answer',\n 'southwestair weather time cancelled flighted meeting today',\n 'united consider stuck newark virtually sleep hour doubt hope car rental available',\n 'united really screw deal mechanical failure maui san francisco poor communication bad help get connection',\n 'usairways waiting luggage flight delay',\n 'jetblue stop try make fleek happen pointsme',\n 'united hour late flightr transit total twelve hour please change plane flight ridiculous sfo',\n 'virginamerica flight redirect',\n 'united regard flight couple week ago frustrate policy amp express',\n 'americanair disrupt cancelled flightled airport agent horrendous sharon saviour',\n 'usairways happy note crew wonderful say enough great thing pilot',\n 'united taxi depart newark liberty airport http',\n 'americanair aacustomerservice apology good enough plane mechanical hour delayed unacceptable',\n 'southwestair thanks reply something phone becuz drop call hour hold get ring',\n 'southwestair disappointed receive checked online checked flight status online checked airport',\n 'united long take customer feedback respond complaint',\n 'americanair try talk someone almost hr cancelled flightled flight pick phone pathetic amp sad',\n 'united please good weekend',\n 'united thanks ask',\n 'usairways big thank ticket agent ute outstanding guest service get rebooked',\n 'united already miss connection',\n 'americanair praywinn understaffing look like labor slowdown weather incompetence disregard customer',\n 'americanair strand hour mia patrick casimir staff apologize great inconvenience unreal',\n 'jetblue go flight many free trip get epic inconvenience anku http',\n 'americanair cancelled flightled flight due weather others fly fine compensation resolution incompetent',\n 'southwestair try change reservation hold minute direct call help',\n 'jetblue tell guy sit next gate',\n 'united fact international bag sense go maintenance',\n 'americanair anything particular ask want document mileage plus status',\n 'united course start trip wks ago go downhill return',\n 'usairways platinum flyer bought tkt also account link check flight tomorrow',\n 'americanair week reply customer relation yet running time please help request thanks',\n 'united travel megzezzo injured gate agent chicago awesome help roadwarrior',\n 'united disappointed purchased ticket online voucher charge full amnt would hold price refund unacceptable',\n 'usairways seriously attendant awol min flight delayed lite match either http',\n 'jetblue middle seat sfo bos fun keep get credit would much rather work',\n 'united truly drunk uncle boarding believe gate agent overhead full reserve aisle http',\n 'southwestair whats flight myers milwaukee',\n 'americanair try book rwrd told couldnt bought tix usair choice bother aadv svc',\n 'usairways yeah either refund money free round trip compensate trouble put',\n 'united thank much help pick bag aspen airport amp come today',\n 'usairways nervous flight tomrw key west friendly customer service',\n 'southwestair tkt grp cxld flight get stuck back site phone agent take rebook',\n 'usairways flight please get flight plan already issue century',\n 'americanair cud answer plenty inflight steal go right amp uncomfortable convo pas',\n 'virginamerica thanks make flight lax jfk nightmare force check carry bag gate',\n 'united get follow fly christmas',\n 'southwestair hold min estimate answer time help',\n 'united awesome flight crew plane jurassic period call want back',\n 'jetblue new ceo seek right balance please passenger wall weyburn review http',\n 'jetblue please come indianapolis',\n 'united hey thanks help miss buddy bday guy really trashy company shouldhaveflowndelta unitedsucks',\n 'jetblue left laguardia sunshine little hour',\n 'usairways try establish policy thanks',\n 'united work',\n 'new mkt strategy average like rest whathappend points',\n 'jetblue appreciate response worst part lose non refundable hotel orlando crew blame wind hoping delay',\n 'jetblue cancelled flight flight last minute',\n 'americanair help needed complaint ticket passenger available seat schedule leave late flightr today',\n 'southwestair got thanks insight happen tomorrow',\n 'southwestair leg trip cancelled flightled hold hr lose speak someone first flight leaf',\n 'usairways know suicide second lead cause death among teen',\n 'united maintenance issue stuck geneva meal voucher even cover plate flight spaghetti really',\n 'united minute wait still gate broken jetway might miss connection',\n 'jetblue one flight instead southwestair lose bag add insult injury',\n 'southwestair get destinationdragons imaginedragons show weekend utah velourlive thankyou',\n 'united flight turn around mechanical reason never fly united check plane properly',\n 'united joke lots angry people iah',\n 'united guy split charge credit card making unnecessarily expensive people fly guy pt',\n 'jetblue fleet fleek http jameskraw see',\n 'southwestair offers atlanta unprecedented perk http http',\n 'jetblue flight bags come land minute ago',\n 'usairways sorry receive company least could fly home early extra charge',\n 'usairways never make reward reservation becuase one ever answer phone online one make get cancelled flighted change',\n 'southwestair cancelled flightlations link rebook like initial storm issue',\n 'americanair flight cancelled flighted tomorrow mean strand airport night wow',\n 'jetblue thanks',\n 'americanair love much plane please follow back amaze bussines',\n 'jetblue well duh grandfather get hire tsa agent currently pwm',\n 'americanair want know regard connect flight since cancelled flightled could assistance',\n 'southwestair employee spread bit mardigras cheer morning atlanta nftyconvention http',\n 'americanair rude unprofessional helpful help try get home aaadvantage loyal customer dissatisfied',\n 'americanair phone number ring regard claim late flight flight departure claim amount agree',\n 'united sister amp bil stuck detroit desperately need florida fly usairways anything',\n 'jetblue case alert arrive late flight delay buy',\n 'usairways owes tammy call center keep customer',\n 'americanair get status update flight go make home tonight',\n 'usairways garbage try book reward flight get cancelled flighted still get anyone phone unacceptable',\n 'southwestair mine',\n 'southwestair guy flight attendant last hilarious',\n 'usairways nightmarish customer service elite member appalled',\n 'americanair try get someone cancelled flightled flight tomorrow hour',\n 'southwestair read tweet gap process folk take multiple flight one day',\n 'united worst airline ever',\n 'americanair hold min cancelled flighted international flight country leave call back help',\n 'americanair would love twitter app say follow',\n 'jetblue need cut service charge give well fly experience use jet blue first place',\n 'united comfortable wait luggage',\n 'united spoke someone feedback line last night say would get prefer choice seat today',\n 'usairways wait customer service minute phone response hung end since battery die due wait',\n 'united flt gate agent announcement unprofessional time back delta',\n 'united old school ride home lax houston flyingretro http',\n 'southwestair pleaseeee resume direct flight fll phl want fly anyone else',\n 'usairways yes manner do harsh affected already checked remorse weak alternative',\n 'usairways hegshmeg thank elaborate response',\n 'usairways moveup policy really suck united hour policy status want move',\n 'southwestair buying early bird pointless move diff flight first one delayed lose boarding position',\n 'americanair jealous live sydney jean suit office work need suit warm jacket',\n 'americanair kid age need fly internally within usa thanks confirm',\n 'jetblue boarding back airplane first like bos sosmart jetblue frequentflyerappreciates alsoyayforsnacks',\n 'americanair tsa try check thing bought people told late flight want thing back',\n 'usairways still need stay hold http',\n 'usairways flight phl london sit tarmac update pilot give',\n 'united customary upgrade flight attendant uniform passenger one flt iah',\n 'united wifi ewr lounge reminds old day dial',\n 'usairways way tell gate go stuck tarmack int flt flt go elm gate',\n 'united well played',\n 'bit steam conjunction new wait first sat bought bit tea settle jetblue',\n 'united phone number customer service question',\n 'usairways travel advisory come carolinas bad weather',\n 'united ladies gent united airlines',\n 'united well hold flight tucson land houston hour delay minor computer problem',\n 'usairways fly somewhere warm tire snow',\n 'southwestair already follow need follow back',\n 'united book website price change',\n 'usairways hold hour number speak someone unacceptable need change flight',\n 'usairways premium dividendmiles cardholder unacceptable hangup customerservice call twice put hold',\n 'united airline big joke operation world',\n 'jetblue depart flight boston heavily delayed flying tomorrow morning',\n 'jetblue well fly huntsville take either nashville birmingham',\n 'virginamerica flight leave dallas seattle time feb',\n 'americanair stuck tarmac clt gate open hope miss connection logistics americanview',\n 'americanair tomorrow flight cancelled flightlations dfw flight post lax',\n 'americanair offer cot sleep cancelled flightled flight fuck cot hotel like suppose provide',\n 'united still wait hear back wallet steal one plane would appreciate resolution',\n 'americanair could get anyone phone day flight rebooked miss flt tomorrow',\n 'united let board fly time know shouldhaveflowndelta',\n 'jetblue flight list time plane yet http',\n 'usairways would kill let mile expire',\n 'jetblue hold min couple ring mailbox set yet customer service forward cell phone',\n 'jetblue cancelled flighted',\n 'southwestair thank always go beyond customer service favoriteairline luvforsw southwestair',\n 'americanair far best example bad company cowboycerrone',\n 'usairways need check information regard hotel shuttle rout flight delayed flight',\n 'usairways thanks friendly airways staff help get book various flight get home today almost',\n 'usairways americanair thought merge usairways suck worstever http',\n 'united bad customer service experience ever minute get jetway plane ewr tonight flight disappointed',\n 'southwestair complimentary hotel voucher night crappiest hotel ever wish bad enemy',\n 'usairways work tiffany cust service desk charlotte helpful patient still stuck great',\n 'usairways understand attempt change information identical tell call',\n 'united united coupon make broken entertainment system flight seriously ridiculousness learncustomerservice',\n 'southwestair get priority seat already paid flight',\n 'americanair lot plate flight deal cancelled flightlations weather tonite important know respond',\n 'americanair finally get someone phone worry',\n 'united bought ticket yesterday receive confirmation tried check say paid call',\n 'southwestair thanks leave hang destinationdragons flight fuck help',\n 'virginamerica question possible book seat infant give option want seat',\n 'virginamerica watch nominate film foot meetthefleet oscars http',\n 'americanair seriously pls pls bring people help still flight ord frm dfw want http',\n ...]"
     },
     "metadata": {},
     "execution_count": 34
    }
   ],
   "source": [
    "testing_tweets = [\" \".join(word) for word in testing__clean_words]\n",
    "testing_tweets"
   ]
  },
  {
   "cell_type": "code",
   "execution_count": 35,
   "metadata": {},
   "outputs": [],
   "source": [
    "# Split the Training Data into Train-Test to check accuracy\n",
    "# using svc and linear kernel - I got 75% accuracy"
   ]
  },
  {
   "cell_type": "code",
   "execution_count": 36,
   "metadata": {},
   "outputs": [],
   "source": [
    "# from sklearn.model_selection import train_test_split\n",
    "# from sklearn.metrics import accuracy_score"
   ]
  },
  {
   "cell_type": "code",
   "execution_count": 37,
   "metadata": {},
   "outputs": [],
   "source": [
    "# x_train1, x_test1, y_train1, y_test1 = train_test_split(training_tweets, sentiments)\n",
    "# print(len(x_train1))\n",
    "# print(len(x_test1))\n",
    "\n",
    "# count_vec = CountVectorizer(max_features = 7000)\n",
    "# x_train1_features = count_vec.fit_transform(x_train1)\n",
    "# x_train1_features.todense()\n",
    "\n",
    "# x_test1_features = count_vec.transform(x_test1)\n",
    "# x_test1_features\n",
    "\n",
    "# x_train1=x_train1_features\n",
    "# x_test1=x_test1_features\n",
    "\n",
    "# from sklearn.svm import SVC\n",
    "# svc = SVC(gamma='auto',kernel='linear')\n",
    "# svc.fit(x_train1, y_train1)\n",
    "# y_pred1 = svc.predict(x_test1)\n",
    "# accuracy_score(y_test1,y_pred1)"
   ]
  },
  {
   "cell_type": "code",
   "execution_count": 38,
   "metadata": {},
   "outputs": [
    {
     "output_type": "execute_result",
     "data": {
      "text/plain": "matrix([[0, 0, 0, ..., 0, 0, 0],\n        [0, 0, 0, ..., 0, 0, 0],\n        [0, 0, 0, ..., 0, 0, 0],\n        ...,\n        [0, 0, 0, ..., 0, 0, 0],\n        [0, 0, 0, ..., 0, 0, 0],\n        [0, 0, 0, ..., 0, 0, 0]], dtype=int64)"
     },
     "metadata": {},
     "execution_count": 38
    }
   ],
   "source": [
    "count_vec = CountVectorizer(max_features = 7000)\n",
    "x_train_features = count_vec.fit_transform(training_tweets)\n",
    "x_train_features.todense()"
   ]
  },
  {
   "cell_type": "code",
   "execution_count": 39,
   "metadata": {},
   "outputs": [
    {
     "output_type": "execute_result",
     "data": {
      "text/plain": "['aadvantage',\n 'aafail',\n 'aal',\n 'aaron',\n 'aarp',\n 'abandon',\n 'abandonment',\n 'abassinet',\n 'abbreve',\n 'abc',\n 'abcnetwork',\n 'abcnews',\n 'abduct',\n 'abi',\n 'abigailedge',\n 'ability',\n 'able',\n 'aboard',\n 'aboout',\n 'abounds',\n 'abq',\n 'abroad',\n 'absolute',\n 'absolutely',\n 'absorber',\n 'absoulutely',\n 'absurd',\n 'absurdity',\n 'absurdly',\n 'abt',\n 'abundance',\n 'abuse',\n 'abysmal',\n 'acc',\n 'accelerate',\n 'accept',\n 'acceptable',\n 'accepted',\n 'acces',\n 'access',\n 'accessibility',\n 'accessible',\n 'accident',\n 'accidentally',\n 'accidents',\n 'accomidating',\n 'accommodate',\n 'accommodation',\n 'accompaniment',\n 'accompany',\n 'accomplish',\n 'accord',\n 'according',\n 'accordingly',\n 'account',\n 'accountability',\n 'accrue',\n 'acct',\n 'accts',\n 'accumulation',\n 'accurate',\n 'accurately',\n 'accuratetraveltimes',\n 'accuse',\n 'achieve',\n 'ack',\n 'acknowledge',\n 'acknowledgement',\n 'acknowledgment',\n 'acnewsguy',\n 'acosta',\n 'acoustic',\n 'acpt',\n 'acquire',\n 'across',\n 'act',\n 'actingoutmgmnt',\n 'action',\n 'actions',\n 'activate',\n 'active',\n 'actively',\n 'activity',\n 'actual',\n 'actually',\n 'actualy',\n 'acu',\n 'acy',\n 'ad',\n 'ada',\n 'adam',\n 'adapt',\n 'add',\n 'addair',\n 'adding',\n 'addition',\n 'additional',\n 'additionally',\n 'additonal',\n 'addr',\n 'address',\n 'adds',\n 'addtl',\n 'adjacent',\n 'adjustment',\n 'admin',\n 'admiral',\n 'admirals',\n 'admiralsclub',\n 'admit',\n 'adolfo',\n 'adopt',\n 'adopting',\n 'adore',\n 'adult',\n 'adv',\n 'advan',\n 'advance',\n 'advantage',\n 'adventure',\n 'advertise',\n 'advertising',\n 'advice',\n 'advis',\n 'advise',\n 'advisory',\n 'advsry',\n 'aerocivilcol',\n 'aerojobmarket',\n 'aeroport',\n 'aex',\n 'affect',\n 'affected',\n 'affiliate',\n 'afford',\n 'affordable',\n 'afiliates',\n 'aflame',\n 'afraid',\n 'african',\n 'aft',\n 'afterall',\n 'afternoon',\n 'aftr',\n 'age',\n 'agency',\n 'agent',\n 'agents',\n 'aggiemensgolf',\n 'aggravate',\n 'aggravation',\n 'aggressive',\n 'agnt',\n 'ago',\n 'agree',\n 'agreement',\n 'agt',\n 'agts',\n 'aha',\n 'ahead',\n 'ahhhh',\n 'ahold',\n 'ahoy',\n 'ail',\n 'aim',\n 'air',\n 'airborne',\n 'airbus',\n 'airbusintheus',\n 'aircanada',\n 'aircargo',\n 'aircraft',\n 'aires',\n 'airfare',\n 'airfarewatchdog',\n 'airline',\n 'airlinegeeks',\n 'airlineguys',\n 'airlinequality',\n 'airliner',\n 'airlines',\n 'airlinesecurity',\n 'airnzusa',\n 'airplane',\n 'airport',\n 'airportcardio',\n 'airpt',\n 'airside',\n 'airstairs',\n 'airway',\n 'airways',\n 'ais',\n 'aisle',\n 'aka',\n 'ala',\n 'alabama',\n 'alamo',\n 'alarm',\n 'alaska',\n 'alaskaair',\n 'alavera',\n 'alb',\n 'albany',\n 'albanyairport',\n 'albeit',\n 'albertbreer',\n 'album',\n 'albuquer',\n 'albuquerque',\n 'alcohol',\n 'alert',\n 'alex',\n 'alfamilyoffour',\n 'ali',\n 'alicia',\n 'align',\n 'alison',\n 'alist',\n 'alittlebetter',\n 'alive',\n 'allan',\n 'allegiantair',\n 'allegianttravel',\n 'allende',\n 'allergic',\n 'allergy',\n 'alleviate',\n 'allgood',\n 'alliance',\n 'allow',\n 'allowabl',\n 'allowable',\n 'allowance',\n 'allowing',\n 'allows',\n 'allready',\n 'allyoucanjetpass',\n 'almost',\n 'alone',\n 'along',\n 'alot',\n 'already',\n 'alreadyrebookedonce',\n 'alright',\n 'als',\n 'also',\n 'alsonodrinkcartcomingaround',\n 'alstdi',\n 'alt',\n 'alternate',\n 'alternative',\n 'alternatively',\n 'although',\n 'altitude',\n 'altonbrownlive',\n 'always',\n 'alwaysdelayed',\n 'alwayshappensthere',\n 'alwayslate',\n 'alynewton',\n 'am',\n 'amagrino',\n 'amarillo',\n 'amateur',\n 'amateurish',\n 'amaze',\n 'amazing',\n 'amazingly',\n 'amazings',\n 'amazon',\n 'ambivalence',\n 'amen',\n 'amenity',\n 'america',\n 'american',\n 'americanair',\n 'americanairbr',\n 'americanairlines',\n 'americanairlnes',\n 'americanairsucks',\n 'americanforlife',\n 'americanone',\n 'americant',\n 'americanview',\n 'amex',\n 'amirite',\n 'amm',\n 'among',\n 'amongst',\n 'amount',\n 'amp',\n 'ams',\n 'amsterdam',\n 'amt',\n 'amy',\n 'amybruni',\n 'amypoehler',\n 'an',\n 'ana',\n 'analystdoc',\n 'analysts',\n 'analytics',\n 'anamarketers',\n 'anaphylaxis',\n 'anarchy',\n 'anchorage',\n 'andchexmix',\n 'anderson',\n 'andrew',\n 'andrewbiga',\n 'andrewfallis',\n 'andrews',\n 'android',\n 'andthewinneris',\n 'andyellwood',\n 'angel',\n 'angeles',\n 'angle',\n 'angriest',\n 'angry',\n 'angryandsober',\n 'angrybird',\n 'angrycustomer',\n 'angrytraveler',\n 'anhour',\n 'animal',\n 'anku',\n 'ann',\n 'anna',\n 'annebevi',\n 'annettenaif',\n 'anni',\n 'anniversary',\n 'annnndddd',\n 'annnnddddd',\n 'annnnnd',\n 'announce',\n 'announced',\n 'announcement',\n 'announces',\n 'annoy',\n 'annoyed',\n 'annricord',\n 'annual',\n 'another',\n 'answer',\n 'answering',\n 'answerphone',\n 'answerthephone',\n 'answerthis',\n 'anthony',\n 'anticipate',\n 'anticipation',\n 'antigua',\n 'antitrust',\n 'antonio',\n 'anxiety',\n 'anxious',\n 'anybody',\n 'anyhelp',\n 'anymore',\n 'anyone',\n 'anyonethere',\n 'anything',\n 'anytime',\n 'anyway',\n 'anywhere',\n 'apart',\n 'apathetic',\n 'apathy',\n 'apeared',\n 'apnea',\n 'apollochplayers',\n 'apologise',\n 'apologize',\n 'apologizes',\n 'apology',\n 'apostrophe',\n 'apostrophefail',\n 'app',\n 'appal',\n 'appalled',\n 'appalling',\n 'apparent',\n 'apparently',\n 'appeal',\n 'appear',\n 'appears',\n 'appease',\n 'applaud',\n 'applause',\n 'apple',\n 'applepay',\n 'appleton',\n 'applicable',\n 'application',\n 'applies',\n 'apply',\n 'appoint',\n 'appointment',\n 'appreciate',\n 'appreciated',\n 'appreciates',\n 'appreciation',\n 'approach',\n 'appropriate',\n 'appropriately',\n 'appropriation',\n 'approval',\n 'approve',\n 'approx',\n 'approximate',\n 'approximately',\n 'apps',\n 'appt',\n 'april',\n 'apron',\n 'apt',\n 'apx',\n 'aquadilla',\n 'arab',\n 'arbitrarily',\n 'arbitrary',\n 'arc',\n 'ardent',\n 'are',\n 'area',\n 'arent',\n 'areyounew',\n 'argentina',\n 'argg',\n 'argh',\n 'argue',\n 'argument',\n 'arizona',\n 'arkansas',\n 'arm',\n 'arminrosen',\n 'armrest',\n 'arms',\n 'army',\n 'arose',\n 'around',\n 'arrange',\n 'arrangement',\n 'arrival',\n 'arrive',\n 'arrived',\n 'arrives',\n 'arriving',\n 'arrogant',\n 'art',\n 'article',\n 'artisanal',\n 'aruba',\n 'aruna',\n 'as',\n 'asap',\n 'ase',\n 'ash',\n 'asha',\n 'ashamed',\n 'ashley',\n 'ashleykatherton',\n 'asia',\n 'aside',\n 'ask',\n 'asked',\n 'asking',\n 'askpaypal',\n 'asks',\n 'asleep',\n 'aspen',\n 'ass',\n 'assault',\n 'asset',\n 'asshole',\n 'assign',\n 'assigned',\n 'assignment',\n 'assist',\n 'assistance',\n 'assistant',\n 'associate',\n 'assult',\n 'assume',\n 'assumed',\n 'assurance',\n 'assure',\n 'assured',\n 'astound',\n 'astounds',\n 'atc',\n 'atct',\n 'ath',\n 'athlete',\n 'atl',\n 'atlanta',\n 'atlantic',\n 'atleast',\n 'atrocious',\n 'att',\n 'attach',\n 'attain',\n 'attdt',\n 'attempt',\n 'attempted',\n 'attempting',\n 'attend',\n 'attendant',\n 'attendants',\n 'attendee',\n 'attendents',\n 'attention',\n 'attentiveness',\n 'attitude',\n 'attitudeissues',\n 'attndt',\n 'atwonline',\n 'auciello',\n 'auckland',\n 'auction',\n 'audience',\n 'audition',\n 'auditorium',\n 'auf',\n 'aug',\n 'august',\n 'auh',\n 'aunt',\n 'aunty',\n 'aus',\n 'austic',\n 'austin',\n 'austinairport',\n 'australia',\n 'austrian',\n 'author',\n 'authoritative',\n 'authority',\n 'authorize',\n 'auto',\n 'automate',\n 'automatically',\n 'automobile',\n 'autoresponse',\n 'avail',\n 'availability',\n 'available',\n 'avatar',\n 'avenue',\n 'average',\n 'avert',\n 'avgeek',\n 'aviation',\n 'avios',\n 'avis',\n 'aviv',\n 'avoid',\n 'avon',\n 'avp',\n 'await',\n 'awaiting',\n 'awake',\n 'award',\n 'aware',\n 'away',\n 'awe',\n 'aweful',\n 'awesome',\n 'awesomeee',\n 'awesomeness',\n 'awful',\n 'awfulness',\n 'awheelchair',\n 'awhile',\n 'awkward',\n 'awrd',\n 'aww',\n 'awww',\n 'awwweesssooomee',\n 'ayyy',\n 'baby',\n 'bach',\n 'bachelorpartymishap',\n 'back',\n 'backing',\n 'backlog',\n 'backpack',\n 'backroads',\n 'backup',\n 'backwards',\n 'bad',\n 'badbadbad',\n 'badbusiness',\n 'badbussiness',\n 'badcustomerservice',\n 'badcustomersrvice',\n 'bademployeeproblem',\n 'badge',\n 'badges',\n 'badly',\n 'badmgmt',\n 'badpolicy',\n 'badservice',\n 'badwebsite',\n 'bae',\n 'baejet',\n 'bafore',\n 'baftz',\n 'bag',\n 'bagage',\n 'bagawim',\n 'baggage',\n 'baggagelost',\n 'bags',\n 'bahamas',\n 'bail',\n 'bailey',\n 'bait',\n 'baitandswitch',\n 'bake',\n 'baking',\n 'balance',\n 'baldordash',\n 'baldwin',\n 'ball',\n 'ballin',\n 'balls',\n 'baltimore',\n 'ban',\n 'banana',\n 'band',\n 'bandie',\n 'bandwidth',\n 'bangkok',\n 'bank',\n 'bankrupt',\n 'bankruptcy',\n 'bar',\n 'barbados',\n 'barbara',\n 'barclay',\n 'barclaycardus',\n 'barclays',\n 'barcodes',\n 'barely',\n 'barking',\n 'barklays',\n 'barnum',\n 'barrel',\n 'barrettkarabis',\n 'barrier',\n 'bars',\n 'barzegar',\n 'base',\n 'bashing',\n 'basic',\n 'basically',\n 'basket',\n 'basketball',\n 'bass',\n 'bastard',\n 'bathroom',\n 'batman',\n 'battery',\n 'battierccipuppy',\n 'batting',\n 'battle',\n 'battles',\n 'battling',\n 'bay',\n 'bcn',\n 'bcuz',\n 'bday',\n 'bdindallas',\n 'bdl',\n 'bdng',\n 'bdsm',\n 'beach',\n 'beamske',\n 'bean',\n 'beanie',\n 'beantownmatty',\n 'bear',\n 'bearable',\n 'beat',\n 'beating',\n 'beatriz',\n 'beats',\n 'beatsmusic',\n 'beatstheothers',\n 'beautiful',\n 'beautifully',\n 'beauty',\n 'become',\n 'becomes',\n 'bed',\n 'bedofroses',\n 'beefjerky',\n 'beer',\n 'beers',\n 'befor',\n 'beg',\n 'begging',\n 'begin',\n 'begrudgingly',\n 'behalf',\n 'behave',\n 'behaves',\n 'behavior',\n 'behind',\n 'bein',\n 'beingsuckontarmacsucks',\n 'belabor',\n 'belfast',\n 'belfastairport',\n 'belief',\n 'believable',\n 'believe',\n 'belize',\n 'bellagio',\n 'belligerent',\n 'belong',\n 'belonging',\n 'beloved',\n 'belt',\n 'ben',\n 'benadryl',\n 'bench',\n 'bene',\n 'beneficial',\n 'benefit',\n 'benjaminokeefe',\n 'bensonhenderson',\n 'beought',\n 'bereavement',\n 'bergstrom',\n 'berlin',\n 'bernhardtjh',\n 'besides',\n 'best',\n 'bestairline',\n 'bestairlineever',\n 'bestcrew',\n 'bestdressed',\n 'bestemployees',\n 'bestflightever',\n 'bestfriend',\n 'bestinclass',\n 'bestinclasssocial',\n 'bestplanesever',\n 'besty',\n 'bet',\n 'bethonors',\n 'betsy',\n 'better',\n 'bettween',\n 'beverage',\n 'bevy',\n 'beware',\n 'beyond',\n 'bff',\n 'bffs',\n 'bgm',\n 'bgr',\n 'bhm',\n 'bible',\n 'bicycle',\n 'big',\n 'bigger',\n 'biggest',\n 'biggie',\n 'bike',\n 'bila',\n 'bill',\n 'billing',\n 'billion',\n 'billmelate',\n 'bin',\n 'bingo',\n 'bins',\n 'bio',\n 'bird',\n 'birder',\n 'birmingham',\n 'birth',\n 'birthdate',\n 'birthday',\n 'biscuit',\n 'bit',\n 'bitch',\n 'bitchy',\n 'bite',\n 'bitty',\n 'biz',\n 'bizarre',\n 'biztravel',\n 'bked',\n 'bkk',\n 'black',\n 'blackhistorymonth',\n 'blacklist',\n 'blacklivesmatter',\n 'blackmailed',\n 'blade',\n 'blah',\n 'blame',\n 'blameshiftoverload',\n 'blanc',\n 'blank',\n 'blanket',\n 'blast',\n 'blasting',\n 'blatant',\n 'blatantly',\n 'blatimore',\n 'blegh',\n 'bleh',\n 'bless',\n 'blew',\n 'blind',\n 'blindside',\n 'bliss',\n 'blizzard',\n 'bloat',\n 'block',\n 'blog',\n 'blood',\n 'bloody',\n 'bloodymary',\n 'bloombergradio',\n 'blow',\n 'blowing',\n 'blown',\n 'blue',\n 'bluecarpet',\n 'bluemanity',\n 'bluetiful',\n 'blushing',\n 'bmi',\n 'bna',\n 'bnasnow',\n 'bng',\n 'board',\n 'boarded',\n 'boarding',\n 'boat',\n 'bobbi',\n 'bobwesson',\n 'body',\n 'boeing',\n 'boeingairplanes',\n 'bogota',\n 'bohol',\n 'boil',\n 'boise',\n 'bold',\n 'boldflavors',\n 'bom',\n 'bonnie',\n 'bonsinthesky',\n 'bonus',\n 'boo',\n 'boofin',\n 'book',\n 'booked',\n 'booking',\n 'booklet',\n 'bookofnegroes',\n 'bool',\n 'boom',\n 'boooo',\n 'boost',\n 'boot',\n 'booze',\n 'bora',\n 'border',\n 'borderline',\n 'bored',\n 'born',\n 'bos',\n 'bosnia',\n 'boson',\n 'boss',\n 'boston',\n 'bostonbbb',\n 'bostongarden',\n 'bostonlogan',\n 'bot',\n 'botch',\n 'bother',\n 'bottle',\n 'bottom',\n 'bought',\n 'bougth',\n 'bounce',\n 'bouncer',\n 'bound',\n 'bourbon',\n 'bout',\n 'bowl',\n 'box',\n 'boy',\n 'boycott',\n 'boyfriend',\n 'bozo',\n 'bqn',\n 'bradley',\n 'brag',\n 'bragging',\n 'brain',\n 'brand',\n 'brandi',\n 'brandloveaffair',\n 'brandmance',\n 'brands',\n 'brandssayingbae',\n 'brave',\n 'braving',\n 'bravo',\n 'brazil',\n 'brd',\n 'breach',\n 'bread',\n 'break',\n 'breakdown',\n 'breaker',\n 'breakfast',\n 'breaks',\n 'breakup',\n 'breast',\n 'breastfeeding',\n 'breath',\n 'breathing',\n 'breavement',\n 'breeze',\n 'breezy',\n 'brendan',\n 'brendanpshannon',\n 'bretharold',\n 'brian',\n 'brianregancomic',\n 'briansumers',\n 'bride',\n 'bridge',\n 'briefing',\n 'bright',\n 'brighter',\n 'brilliant',\n 'bring',\n 'bringbackrealstaff',\n 'bringbacktheluvtordu',\n 'bringin',\n 'brings',\n 'bringyourown',\n 'brink',\n 'brisk',\n 'brittany',\n 'bro',\n 'broad',\n 'brochure',\n 'broke',\n 'broken',\n 'brokenpromises',\n 'brokenwheel',\n 'brooklyn',\n 'bros',\n 'brotha',\n 'brothaaaaaa',\n 'brother',\n 'brothers',\n 'brought',\n 'brownsville',\n 'browser',\n 'brrr',\n 'bruh',\n 'bruins',\n 'brush',\n 'brushing',\n 'brussels',\n 'brutal',\n 'bsuxlu',\n 'btr',\n 'bttr',\n 'btv',\n 'btw',\n 'btwn',\n 'bubbly',\n 'buck',\n 'bucket',\n 'bucketobolts',\n 'buddy',\n 'budget',\n 'bueno',\n 'buenos',\n 'buf',\n 'buffalo',\n 'buffaloairport',\n 'bug',\n ...]"
     },
     "metadata": {},
     "execution_count": 39
    }
   ],
   "source": [
    "count_vec.get_feature_names()"
   ]
  },
  {
   "cell_type": "code",
   "execution_count": 40,
   "metadata": {},
   "outputs": [
    {
     "output_type": "execute_result",
     "data": {
      "text/plain": "<3660x7000 sparse matrix of type '<class 'numpy.int64'>'\n\twith 31247 stored elements in Compressed Sparse Row format>"
     },
     "metadata": {},
     "execution_count": 40
    }
   ],
   "source": [
    "x_test_features = count_vec.transform(testing_tweets)\n",
    "x_test_features"
   ]
  },
  {
   "cell_type": "code",
   "execution_count": 41,
   "metadata": {},
   "outputs": [],
   "source": [
    "# Final Clean Training and Testing Data for Classification Algorithm"
   ]
  },
  {
   "cell_type": "code",
   "execution_count": 42,
   "metadata": {},
   "outputs": [],
   "source": [
    "x_train=x_train_features\n",
    "y_train=sentiments\n",
    "x_test=x_test_features"
   ]
  },
  {
   "cell_type": "code",
   "execution_count": 43,
   "metadata": {},
   "outputs": [],
   "source": [
    "# Try Different classification Algorithm"
   ]
  },
  {
   "cell_type": "markdown",
   "metadata": {},
   "source": [
    "## SVM Classififer"
   ]
  },
  {
   "cell_type": "code",
   "execution_count": 44,
   "metadata": {},
   "outputs": [],
   "source": [
    "# using rbf kernel"
   ]
  },
  {
   "cell_type": "code",
   "execution_count": 45,
   "metadata": {},
   "outputs": [
    {
     "output_type": "execute_result",
     "data": {
      "text/plain": "SVC(C=1.0, break_ties=False, cache_size=200, class_weight=None, coef0=0.0,\n    decision_function_shape='ovr', degree=3, gamma='auto', kernel='rbf',\n    max_iter=-1, probability=False, random_state=None, shrinking=True,\n    tol=0.001, verbose=False)"
     },
     "metadata": {},
     "execution_count": 45
    }
   ],
   "source": [
    "from sklearn.svm import SVC\n",
    "svc = SVC(gamma='auto',kernel='rbf')\n",
    "svc.fit(x_train, y_train)"
   ]
  },
  {
   "cell_type": "code",
   "execution_count": 46,
   "metadata": {},
   "outputs": [],
   "source": [
    "# using linear kernel"
   ]
  },
  {
   "cell_type": "code",
   "execution_count": 47,
   "metadata": {},
   "outputs": [
    {
     "output_type": "execute_result",
     "data": {
      "text/plain": "SVC(C=1.0, break_ties=False, cache_size=200, class_weight=None, coef0=0.0,\n    decision_function_shape='ovr', degree=3, gamma='auto', kernel='linear',\n    max_iter=-1, probability=False, random_state=None, shrinking=True,\n    tol=0.001, verbose=False)"
     },
     "metadata": {},
     "execution_count": 47
    }
   ],
   "source": [
    "from sklearn.svm import SVC\n",
    "svc = SVC(gamma='auto',kernel='linear')\n",
    "svc.fit(x_train, y_train)"
   ]
  },
  {
   "cell_type": "code",
   "execution_count": 48,
   "metadata": {},
   "outputs": [],
   "source": [
    "y_pred = svc.predict(x_test)\n",
    "y_pred = np.array(y_pred)\n",
    "#np.savetxt('twitter_pred_using_svc.csv',y_pred,fmt='%s')"
   ]
  },
  {
   "cell_type": "code",
   "execution_count": 49,
   "metadata": {
    "tags": []
   },
   "outputs": [
    {
     "output_type": "stream",
     "name": "stdout",
     "text": "Training accuracy: 0.9334244080145719\n"
    }
   ],
   "source": [
    "print(\"Training accuracy:\",svc.score(x_train, y_train))"
   ]
  },
  {
   "cell_type": "raw",
   "metadata": {},
   "source": [
    "With SVM - Score is 76.56"
   ]
  },
  {
   "cell_type": "markdown",
   "metadata": {},
   "source": [
    "## Random Forest Classifier"
   ]
  },
  {
   "cell_type": "code",
   "execution_count": 50,
   "metadata": {},
   "outputs": [],
   "source": [
    "from sklearn.ensemble import RandomForestClassifier"
   ]
  },
  {
   "cell_type": "code",
   "execution_count": 51,
   "metadata": {},
   "outputs": [
    {
     "output_type": "execute_result",
     "data": {
      "text/plain": "RandomForestClassifier(bootstrap=True, ccp_alpha=0.0, class_weight=None,\n                       criterion='gini', max_depth=None, max_features='auto',\n                       max_leaf_nodes=None, max_samples=None,\n                       min_impurity_decrease=0.0, min_impurity_split=None,\n                       min_samples_leaf=1, min_samples_split=2,\n                       min_weight_fraction_leaf=0.0, n_estimators=100,\n                       n_jobs=None, oob_score=False, random_state=None,\n                       verbose=0, warm_start=False)"
     },
     "metadata": {},
     "execution_count": 51
    }
   ],
   "source": [
    "rfc = RandomForestClassifier()\n",
    "rfc.fit(x_train,y_train)"
   ]
  },
  {
   "cell_type": "code",
   "execution_count": 52,
   "metadata": {},
   "outputs": [],
   "source": [
    "y_pred = rfc.predict(x_test)\n",
    "#np.savetxt('twitter_pred_using_rfc.csv',y_pred,fmt='%s')"
   ]
  },
  {
   "cell_type": "code",
   "execution_count": 53,
   "metadata": {
    "tags": []
   },
   "outputs": [
    {
     "output_type": "stream",
     "name": "stdout",
     "text": "Training accuracy: 0.9943533697632059\n"
    }
   ],
   "source": [
    "print(\"Training accuracy:\",rfc.score(x_train, y_train))"
   ]
  },
  {
   "cell_type": "raw",
   "metadata": {},
   "source": [
    "With Random Forest - Score is 72.95"
   ]
  },
  {
   "cell_type": "markdown",
   "metadata": {},
   "source": [
    "## KNN Classifier"
   ]
  },
  {
   "cell_type": "code",
   "execution_count": 54,
   "metadata": {},
   "outputs": [],
   "source": [
    "from sklearn.neighbors import KNeighborsClassifier"
   ]
  },
  {
   "cell_type": "code",
   "execution_count": 55,
   "metadata": {},
   "outputs": [
    {
     "output_type": "execute_result",
     "data": {
      "text/plain": "KNeighborsClassifier(algorithm='auto', leaf_size=30, metric='minkowski',\n                     metric_params=None, n_jobs=None, n_neighbors=5, p=2,\n                     weights='uniform')"
     },
     "metadata": {},
     "execution_count": 55
    }
   ],
   "source": [
    "knn = KNeighborsClassifier()\n",
    "knn.fit(x_train,y_train)"
   ]
  },
  {
   "cell_type": "code",
   "execution_count": 56,
   "metadata": {},
   "outputs": [],
   "source": [
    "y_pred = knn.predict(x_test)\n",
    "#np.savetxt('twitter_pred_using_knn.csv',y_pred,fmt='%s')"
   ]
  },
  {
   "cell_type": "code",
   "execution_count": 57,
   "metadata": {
    "tags": []
   },
   "outputs": [
    {
     "output_type": "stream",
     "name": "stdout",
     "text": "Training accuracy: 0.6475409836065574\n"
    }
   ],
   "source": [
    "print(\"Training accuracy:\",knn.score(x_train, y_train))"
   ]
  },
  {
   "cell_type": "raw",
   "metadata": {},
   "source": [
    "With KNN accuracy is 53.31"
   ]
  }
 ],
 "metadata": {
  "kernelspec": {
   "display_name": "Python 3",
   "language": "python",
   "name": "python3"
  },
  "language_info": {
   "codemirror_mode": {
    "name": "ipython",
    "version": 3
   },
   "file_extension": ".py",
   "mimetype": "text/x-python",
   "name": "python",
   "nbconvert_exporter": "python",
   "pygments_lexer": "ipython3",
   "version": "3.7.6-final"
  }
 },
 "nbformat": 4,
 "nbformat_minor": 2
}